{
  "nbformat": 4,
  "nbformat_minor": 0,
  "metadata": {
    "colab": {
      "provenance": [],
      "toc_visible": true,
      "gpuType": "T4"
    },
    "kernelspec": {
      "name": "python3",
      "display_name": "Python 3"
    },
    "language_info": {
      "name": "python"
    },
    "accelerator": "GPU"
  },
  "cells": [
    {
      "cell_type": "code",
      "source": [
        "import pandas as pd\n",
        "import numpy as np\n",
        "import matplotlib.pyplot as plt\n",
        "import seaborn as sns\n",
        "import scipy.stats as stats"
      ],
      "metadata": {
        "id": "xufAozifO3JR"
      },
      "execution_count": 1,
      "outputs": []
    },
    {
      "cell_type": "code",
      "execution_count": 2,
      "metadata": {
        "colab": {
          "base_uri": "https://localhost:8080/"
        },
        "id": "y4IyYPe9OJwF",
        "outputId": "d00b53b9-b125-445b-c299-50a2512993e9"
      },
      "outputs": [
        {
          "output_type": "stream",
          "name": "stdout",
          "text": [
            "--2024-10-07 03:01:45--  https://raw.githubusercontent.com/alexeygrigorev/datasets/master/laptops.csv\n",
            "Resolving raw.githubusercontent.com (raw.githubusercontent.com)... 185.199.111.133, 185.199.109.133, 185.199.108.133, ...\n",
            "Connecting to raw.githubusercontent.com (raw.githubusercontent.com)|185.199.111.133|:443... connected.\n",
            "HTTP request sent, awaiting response... 200 OK\n",
            "Length: 298573 (292K) [text/plain]\n",
            "Saving to: ‘laptops.csv’\n",
            "\n",
            "laptops.csv         100%[===================>] 291.58K  --.-KB/s    in 0.02s   \n",
            "\n",
            "2024-10-07 03:01:45 (12.2 MB/s) - ‘laptops.csv’ saved [298573/298573]\n",
            "\n"
          ]
        }
      ],
      "source": [
        "!wget https://raw.githubusercontent.com/alexeygrigorev/datasets/master/laptops.csv\n"
      ]
    },
    {
      "cell_type": "code",
      "source": [],
      "metadata": {
        "id": "bqWWYjAOOhsA"
      },
      "execution_count": 2,
      "outputs": []
    },
    {
      "cell_type": "markdown",
      "source": [
        "# Data Preparation"
      ],
      "metadata": {
        "id": "OiwV2ZSHOyUL"
      }
    },
    {
      "cell_type": "code",
      "source": [
        "df=pd.read_csv('laptops.csv')\n",
        "df.head()"
      ],
      "metadata": {
        "colab": {
          "base_uri": "https://localhost:8080/",
          "height": 310
        },
        "id": "c70rKztRO1pO",
        "outputId": "1b208895-d8ed-43f7-80af-53035202ff3c"
      },
      "execution_count": 3,
      "outputs": [
        {
          "output_type": "execute_result",
          "data": {
            "text/plain": [
              "                                              Laptop Status   Brand  \\\n",
              "0  ASUS ExpertBook B1 B1502CBA-EJ0436X Intel Core...    New    Asus   \n",
              "1  Alurin Go Start Intel Celeron N4020/8GB/256GB ...    New  Alurin   \n",
              "2  ASUS ExpertBook B1 B1502CBA-EJ0424X Intel Core...    New    Asus   \n",
              "3  MSI Katana GF66 12UC-082XES Intel Core i7-1270...    New     MSI   \n",
              "4  HP 15S-FQ5085NS Intel Core i5-1235U/16GB/512GB...    New      HP   \n",
              "\n",
              "        Model            CPU  RAM  Storage Storage type       GPU  Screen  \\\n",
              "0  ExpertBook  Intel Core i5    8      512          SSD       NaN    15.6   \n",
              "1          Go  Intel Celeron    8      256          SSD       NaN    15.6   \n",
              "2  ExpertBook  Intel Core i3    8      256          SSD       NaN    15.6   \n",
              "3      Katana  Intel Core i7   16     1000          SSD  RTX 3050    15.6   \n",
              "4         15S  Intel Core i5   16      512          SSD       NaN    15.6   \n",
              "\n",
              "  Touch  Final Price  \n",
              "0    No      1009.00  \n",
              "1    No       299.00  \n",
              "2    No       789.00  \n",
              "3    No      1199.00  \n",
              "4    No       669.01  "
            ],
            "text/html": [
              "\n",
              "  <div id=\"df-f0fd0b3a-b4b7-4122-bb07-e1b9acc5b33c\" class=\"colab-df-container\">\n",
              "    <div>\n",
              "<style scoped>\n",
              "    .dataframe tbody tr th:only-of-type {\n",
              "        vertical-align: middle;\n",
              "    }\n",
              "\n",
              "    .dataframe tbody tr th {\n",
              "        vertical-align: top;\n",
              "    }\n",
              "\n",
              "    .dataframe thead th {\n",
              "        text-align: right;\n",
              "    }\n",
              "</style>\n",
              "<table border=\"1\" class=\"dataframe\">\n",
              "  <thead>\n",
              "    <tr style=\"text-align: right;\">\n",
              "      <th></th>\n",
              "      <th>Laptop</th>\n",
              "      <th>Status</th>\n",
              "      <th>Brand</th>\n",
              "      <th>Model</th>\n",
              "      <th>CPU</th>\n",
              "      <th>RAM</th>\n",
              "      <th>Storage</th>\n",
              "      <th>Storage type</th>\n",
              "      <th>GPU</th>\n",
              "      <th>Screen</th>\n",
              "      <th>Touch</th>\n",
              "      <th>Final Price</th>\n",
              "    </tr>\n",
              "  </thead>\n",
              "  <tbody>\n",
              "    <tr>\n",
              "      <th>0</th>\n",
              "      <td>ASUS ExpertBook B1 B1502CBA-EJ0436X Intel Core...</td>\n",
              "      <td>New</td>\n",
              "      <td>Asus</td>\n",
              "      <td>ExpertBook</td>\n",
              "      <td>Intel Core i5</td>\n",
              "      <td>8</td>\n",
              "      <td>512</td>\n",
              "      <td>SSD</td>\n",
              "      <td>NaN</td>\n",
              "      <td>15.6</td>\n",
              "      <td>No</td>\n",
              "      <td>1009.00</td>\n",
              "    </tr>\n",
              "    <tr>\n",
              "      <th>1</th>\n",
              "      <td>Alurin Go Start Intel Celeron N4020/8GB/256GB ...</td>\n",
              "      <td>New</td>\n",
              "      <td>Alurin</td>\n",
              "      <td>Go</td>\n",
              "      <td>Intel Celeron</td>\n",
              "      <td>8</td>\n",
              "      <td>256</td>\n",
              "      <td>SSD</td>\n",
              "      <td>NaN</td>\n",
              "      <td>15.6</td>\n",
              "      <td>No</td>\n",
              "      <td>299.00</td>\n",
              "    </tr>\n",
              "    <tr>\n",
              "      <th>2</th>\n",
              "      <td>ASUS ExpertBook B1 B1502CBA-EJ0424X Intel Core...</td>\n",
              "      <td>New</td>\n",
              "      <td>Asus</td>\n",
              "      <td>ExpertBook</td>\n",
              "      <td>Intel Core i3</td>\n",
              "      <td>8</td>\n",
              "      <td>256</td>\n",
              "      <td>SSD</td>\n",
              "      <td>NaN</td>\n",
              "      <td>15.6</td>\n",
              "      <td>No</td>\n",
              "      <td>789.00</td>\n",
              "    </tr>\n",
              "    <tr>\n",
              "      <th>3</th>\n",
              "      <td>MSI Katana GF66 12UC-082XES Intel Core i7-1270...</td>\n",
              "      <td>New</td>\n",
              "      <td>MSI</td>\n",
              "      <td>Katana</td>\n",
              "      <td>Intel Core i7</td>\n",
              "      <td>16</td>\n",
              "      <td>1000</td>\n",
              "      <td>SSD</td>\n",
              "      <td>RTX 3050</td>\n",
              "      <td>15.6</td>\n",
              "      <td>No</td>\n",
              "      <td>1199.00</td>\n",
              "    </tr>\n",
              "    <tr>\n",
              "      <th>4</th>\n",
              "      <td>HP 15S-FQ5085NS Intel Core i5-1235U/16GB/512GB...</td>\n",
              "      <td>New</td>\n",
              "      <td>HP</td>\n",
              "      <td>15S</td>\n",
              "      <td>Intel Core i5</td>\n",
              "      <td>16</td>\n",
              "      <td>512</td>\n",
              "      <td>SSD</td>\n",
              "      <td>NaN</td>\n",
              "      <td>15.6</td>\n",
              "      <td>No</td>\n",
              "      <td>669.01</td>\n",
              "    </tr>\n",
              "  </tbody>\n",
              "</table>\n",
              "</div>\n",
              "    <div class=\"colab-df-buttons\">\n",
              "\n",
              "  <div class=\"colab-df-container\">\n",
              "    <button class=\"colab-df-convert\" onclick=\"convertToInteractive('df-f0fd0b3a-b4b7-4122-bb07-e1b9acc5b33c')\"\n",
              "            title=\"Convert this dataframe to an interactive table.\"\n",
              "            style=\"display:none;\">\n",
              "\n",
              "  <svg xmlns=\"http://www.w3.org/2000/svg\" height=\"24px\" viewBox=\"0 -960 960 960\">\n",
              "    <path d=\"M120-120v-720h720v720H120Zm60-500h600v-160H180v160Zm220 220h160v-160H400v160Zm0 220h160v-160H400v160ZM180-400h160v-160H180v160Zm440 0h160v-160H620v160ZM180-180h160v-160H180v160Zm440 0h160v-160H620v160Z\"/>\n",
              "  </svg>\n",
              "    </button>\n",
              "\n",
              "  <style>\n",
              "    .colab-df-container {\n",
              "      display:flex;\n",
              "      gap: 12px;\n",
              "    }\n",
              "\n",
              "    .colab-df-convert {\n",
              "      background-color: #E8F0FE;\n",
              "      border: none;\n",
              "      border-radius: 50%;\n",
              "      cursor: pointer;\n",
              "      display: none;\n",
              "      fill: #1967D2;\n",
              "      height: 32px;\n",
              "      padding: 0 0 0 0;\n",
              "      width: 32px;\n",
              "    }\n",
              "\n",
              "    .colab-df-convert:hover {\n",
              "      background-color: #E2EBFA;\n",
              "      box-shadow: 0px 1px 2px rgba(60, 64, 67, 0.3), 0px 1px 3px 1px rgba(60, 64, 67, 0.15);\n",
              "      fill: #174EA6;\n",
              "    }\n",
              "\n",
              "    .colab-df-buttons div {\n",
              "      margin-bottom: 4px;\n",
              "    }\n",
              "\n",
              "    [theme=dark] .colab-df-convert {\n",
              "      background-color: #3B4455;\n",
              "      fill: #D2E3FC;\n",
              "    }\n",
              "\n",
              "    [theme=dark] .colab-df-convert:hover {\n",
              "      background-color: #434B5C;\n",
              "      box-shadow: 0px 1px 3px 1px rgba(0, 0, 0, 0.15);\n",
              "      filter: drop-shadow(0px 1px 2px rgba(0, 0, 0, 0.3));\n",
              "      fill: #FFFFFF;\n",
              "    }\n",
              "  </style>\n",
              "\n",
              "    <script>\n",
              "      const buttonEl =\n",
              "        document.querySelector('#df-f0fd0b3a-b4b7-4122-bb07-e1b9acc5b33c button.colab-df-convert');\n",
              "      buttonEl.style.display =\n",
              "        google.colab.kernel.accessAllowed ? 'block' : 'none';\n",
              "\n",
              "      async function convertToInteractive(key) {\n",
              "        const element = document.querySelector('#df-f0fd0b3a-b4b7-4122-bb07-e1b9acc5b33c');\n",
              "        const dataTable =\n",
              "          await google.colab.kernel.invokeFunction('convertToInteractive',\n",
              "                                                    [key], {});\n",
              "        if (!dataTable) return;\n",
              "\n",
              "        const docLinkHtml = 'Like what you see? Visit the ' +\n",
              "          '<a target=\"_blank\" href=https://colab.research.google.com/notebooks/data_table.ipynb>data table notebook</a>'\n",
              "          + ' to learn more about interactive tables.';\n",
              "        element.innerHTML = '';\n",
              "        dataTable['output_type'] = 'display_data';\n",
              "        await google.colab.output.renderOutput(dataTable, element);\n",
              "        const docLink = document.createElement('div');\n",
              "        docLink.innerHTML = docLinkHtml;\n",
              "        element.appendChild(docLink);\n",
              "      }\n",
              "    </script>\n",
              "  </div>\n",
              "\n",
              "\n",
              "<div id=\"df-22205612-48bc-4933-a492-86b4f34621c8\">\n",
              "  <button class=\"colab-df-quickchart\" onclick=\"quickchart('df-22205612-48bc-4933-a492-86b4f34621c8')\"\n",
              "            title=\"Suggest charts\"\n",
              "            style=\"display:none;\">\n",
              "\n",
              "<svg xmlns=\"http://www.w3.org/2000/svg\" height=\"24px\"viewBox=\"0 0 24 24\"\n",
              "     width=\"24px\">\n",
              "    <g>\n",
              "        <path d=\"M19 3H5c-1.1 0-2 .9-2 2v14c0 1.1.9 2 2 2h14c1.1 0 2-.9 2-2V5c0-1.1-.9-2-2-2zM9 17H7v-7h2v7zm4 0h-2V7h2v10zm4 0h-2v-4h2v4z\"/>\n",
              "    </g>\n",
              "</svg>\n",
              "  </button>\n",
              "\n",
              "<style>\n",
              "  .colab-df-quickchart {\n",
              "      --bg-color: #E8F0FE;\n",
              "      --fill-color: #1967D2;\n",
              "      --hover-bg-color: #E2EBFA;\n",
              "      --hover-fill-color: #174EA6;\n",
              "      --disabled-fill-color: #AAA;\n",
              "      --disabled-bg-color: #DDD;\n",
              "  }\n",
              "\n",
              "  [theme=dark] .colab-df-quickchart {\n",
              "      --bg-color: #3B4455;\n",
              "      --fill-color: #D2E3FC;\n",
              "      --hover-bg-color: #434B5C;\n",
              "      --hover-fill-color: #FFFFFF;\n",
              "      --disabled-bg-color: #3B4455;\n",
              "      --disabled-fill-color: #666;\n",
              "  }\n",
              "\n",
              "  .colab-df-quickchart {\n",
              "    background-color: var(--bg-color);\n",
              "    border: none;\n",
              "    border-radius: 50%;\n",
              "    cursor: pointer;\n",
              "    display: none;\n",
              "    fill: var(--fill-color);\n",
              "    height: 32px;\n",
              "    padding: 0;\n",
              "    width: 32px;\n",
              "  }\n",
              "\n",
              "  .colab-df-quickchart:hover {\n",
              "    background-color: var(--hover-bg-color);\n",
              "    box-shadow: 0 1px 2px rgba(60, 64, 67, 0.3), 0 1px 3px 1px rgba(60, 64, 67, 0.15);\n",
              "    fill: var(--button-hover-fill-color);\n",
              "  }\n",
              "\n",
              "  .colab-df-quickchart-complete:disabled,\n",
              "  .colab-df-quickchart-complete:disabled:hover {\n",
              "    background-color: var(--disabled-bg-color);\n",
              "    fill: var(--disabled-fill-color);\n",
              "    box-shadow: none;\n",
              "  }\n",
              "\n",
              "  .colab-df-spinner {\n",
              "    border: 2px solid var(--fill-color);\n",
              "    border-color: transparent;\n",
              "    border-bottom-color: var(--fill-color);\n",
              "    animation:\n",
              "      spin 1s steps(1) infinite;\n",
              "  }\n",
              "\n",
              "  @keyframes spin {\n",
              "    0% {\n",
              "      border-color: transparent;\n",
              "      border-bottom-color: var(--fill-color);\n",
              "      border-left-color: var(--fill-color);\n",
              "    }\n",
              "    20% {\n",
              "      border-color: transparent;\n",
              "      border-left-color: var(--fill-color);\n",
              "      border-top-color: var(--fill-color);\n",
              "    }\n",
              "    30% {\n",
              "      border-color: transparent;\n",
              "      border-left-color: var(--fill-color);\n",
              "      border-top-color: var(--fill-color);\n",
              "      border-right-color: var(--fill-color);\n",
              "    }\n",
              "    40% {\n",
              "      border-color: transparent;\n",
              "      border-right-color: var(--fill-color);\n",
              "      border-top-color: var(--fill-color);\n",
              "    }\n",
              "    60% {\n",
              "      border-color: transparent;\n",
              "      border-right-color: var(--fill-color);\n",
              "    }\n",
              "    80% {\n",
              "      border-color: transparent;\n",
              "      border-right-color: var(--fill-color);\n",
              "      border-bottom-color: var(--fill-color);\n",
              "    }\n",
              "    90% {\n",
              "      border-color: transparent;\n",
              "      border-bottom-color: var(--fill-color);\n",
              "    }\n",
              "  }\n",
              "</style>\n",
              "\n",
              "  <script>\n",
              "    async function quickchart(key) {\n",
              "      const quickchartButtonEl =\n",
              "        document.querySelector('#' + key + ' button');\n",
              "      quickchartButtonEl.disabled = true;  // To prevent multiple clicks.\n",
              "      quickchartButtonEl.classList.add('colab-df-spinner');\n",
              "      try {\n",
              "        const charts = await google.colab.kernel.invokeFunction(\n",
              "            'suggestCharts', [key], {});\n",
              "      } catch (error) {\n",
              "        console.error('Error during call to suggestCharts:', error);\n",
              "      }\n",
              "      quickchartButtonEl.classList.remove('colab-df-spinner');\n",
              "      quickchartButtonEl.classList.add('colab-df-quickchart-complete');\n",
              "    }\n",
              "    (() => {\n",
              "      let quickchartButtonEl =\n",
              "        document.querySelector('#df-22205612-48bc-4933-a492-86b4f34621c8 button');\n",
              "      quickchartButtonEl.style.display =\n",
              "        google.colab.kernel.accessAllowed ? 'block' : 'none';\n",
              "    })();\n",
              "  </script>\n",
              "</div>\n",
              "\n",
              "    </div>\n",
              "  </div>\n"
            ],
            "application/vnd.google.colaboratory.intrinsic+json": {
              "type": "dataframe",
              "variable_name": "df",
              "summary": "{\n  \"name\": \"df\",\n  \"rows\": 2160,\n  \"fields\": [\n    {\n      \"column\": \"Laptop\",\n      \"properties\": {\n        \"dtype\": \"string\",\n        \"num_unique_values\": 2160,\n        \"samples\": [\n          \"MSI Modern 15 A11SBU-620XES Intel Core i7-1165G7/32GB/1TB SSD/MX450/15.6\\\"\",\n          \"Thomson Neo White Intel Celeron N4020/4GB/64GB eMMC/14.1\\\"\",\n          \"MSI Modern 14 B11SB-420XES Intel Core i7-1165G7/32GB/1TB SSD/MX450/14\\\"\"\n        ],\n        \"semantic_type\": \"\",\n        \"description\": \"\"\n      }\n    },\n    {\n      \"column\": \"Status\",\n      \"properties\": {\n        \"dtype\": \"category\",\n        \"num_unique_values\": 2,\n        \"samples\": [\n          \"Refurbished\",\n          \"New\"\n        ],\n        \"semantic_type\": \"\",\n        \"description\": \"\"\n      }\n    },\n    {\n      \"column\": \"Brand\",\n      \"properties\": {\n        \"dtype\": \"category\",\n        \"num_unique_values\": 27,\n        \"samples\": [\n          \"Razer\",\n          \"PcCom\"\n        ],\n        \"semantic_type\": \"\",\n        \"description\": \"\"\n      }\n    },\n    {\n      \"column\": \"Model\",\n      \"properties\": {\n        \"dtype\": \"category\",\n        \"num_unique_values\": 121,\n        \"samples\": [\n          \"Aero\",\n          \"Erazer\"\n        ],\n        \"semantic_type\": \"\",\n        \"description\": \"\"\n      }\n    },\n    {\n      \"column\": \"CPU\",\n      \"properties\": {\n        \"dtype\": \"category\",\n        \"num_unique_values\": 28,\n        \"samples\": [\n          \"Apple M2\",\n          \"AMD 3015Ce\"\n        ],\n        \"semantic_type\": \"\",\n        \"description\": \"\"\n      }\n    },\n    {\n      \"column\": \"RAM\",\n      \"properties\": {\n        \"dtype\": \"number\",\n        \"std\": 9,\n        \"min\": 4,\n        \"max\": 128,\n        \"num_unique_values\": 9,\n        \"samples\": [\n          6,\n          16\n        ],\n        \"semantic_type\": \"\",\n        \"description\": \"\"\n      }\n    },\n    {\n      \"column\": \"Storage\",\n      \"properties\": {\n        \"dtype\": \"number\",\n        \"std\": 361,\n        \"min\": 0,\n        \"max\": 4000,\n        \"num_unique_values\": 12,\n        \"samples\": [\n          3000,\n          4000\n        ],\n        \"semantic_type\": \"\",\n        \"description\": \"\"\n      }\n    },\n    {\n      \"column\": \"Storage type\",\n      \"properties\": {\n        \"dtype\": \"category\",\n        \"num_unique_values\": 2,\n        \"samples\": [\n          \"eMMC\",\n          \"SSD\"\n        ],\n        \"semantic_type\": \"\",\n        \"description\": \"\"\n      }\n    },\n    {\n      \"column\": \"GPU\",\n      \"properties\": {\n        \"dtype\": \"category\",\n        \"num_unique_values\": 44,\n        \"samples\": [\n          \"RTX 2080\",\n          \"Radeon Pro 5500M\"\n        ],\n        \"semantic_type\": \"\",\n        \"description\": \"\"\n      }\n    },\n    {\n      \"column\": \"Screen\",\n      \"properties\": {\n        \"dtype\": \"number\",\n        \"std\": 1.203328758328451,\n        \"min\": 10.1,\n        \"max\": 18.0,\n        \"num_unique_values\": 29,\n        \"samples\": [\n          12.0,\n          16.2\n        ],\n        \"semantic_type\": \"\",\n        \"description\": \"\"\n      }\n    },\n    {\n      \"column\": \"Touch\",\n      \"properties\": {\n        \"dtype\": \"category\",\n        \"num_unique_values\": 2,\n        \"samples\": [\n          \"Yes\",\n          \"No\"\n        ],\n        \"semantic_type\": \"\",\n        \"description\": \"\"\n      }\n    },\n    {\n      \"column\": \"Final Price\",\n      \"properties\": {\n        \"dtype\": \"number\",\n        \"std\": 911.4754170328499,\n        \"min\": 201.05,\n        \"max\": 7150.47,\n        \"num_unique_values\": 1440,\n        \"samples\": [\n          3599.0,\n          1799.9\n        ],\n        \"semantic_type\": \"\",\n        \"description\": \"\"\n      }\n    }\n  ]\n}"
            }
          },
          "metadata": {},
          "execution_count": 3
        }
      ]
    },
    {
      "cell_type": "markdown",
      "source": [
        "```\n",
        "Target Column Is Final Price (y)\n",
        "\n",
        "```"
      ],
      "metadata": {
        "id": "iVXdRXMkPQP-"
      }
    },
    {
      "cell_type": "markdown",
      "source": [
        "\n",
        "**1.Data Cleaning**"
      ],
      "metadata": {
        "id": "ckNMV8uyPdVQ"
      }
    },
    {
      "cell_type": "code",
      "source": [
        "df.columns"
      ],
      "metadata": {
        "colab": {
          "base_uri": "https://localhost:8080/"
        },
        "id": "r6kFQR9jPGEh",
        "outputId": "3ad68116-147f-4c45-93d7-1437a1115717"
      },
      "execution_count": 4,
      "outputs": [
        {
          "output_type": "execute_result",
          "data": {
            "text/plain": [
              "Index(['Laptop', 'Status', 'Brand', 'Model', 'CPU', 'RAM', 'Storage',\n",
              "       'Storage type', 'GPU', 'Screen', 'Touch', 'Final Price'],\n",
              "      dtype='object')"
            ]
          },
          "metadata": {},
          "execution_count": 4
        }
      ]
    },
    {
      "cell_type": "code",
      "source": [
        "#For Columns\n",
        "\n",
        "df.columns=df.columns.str.lower().str.replace(' ','_')\n",
        "df.columns"
      ],
      "metadata": {
        "colab": {
          "base_uri": "https://localhost:8080/"
        },
        "id": "34jBp2QAPqSC",
        "outputId": "bd0c9ef5-2d95-4043-91f8-75035fbbb695"
      },
      "execution_count": 5,
      "outputs": [
        {
          "output_type": "execute_result",
          "data": {
            "text/plain": [
              "Index(['laptop', 'status', 'brand', 'model', 'cpu', 'ram', 'storage',\n",
              "       'storage_type', 'gpu', 'screen', 'touch', 'final_price'],\n",
              "      dtype='object')"
            ]
          },
          "metadata": {},
          "execution_count": 5
        }
      ]
    },
    {
      "cell_type": "code",
      "source": [
        "df.tail()"
      ],
      "metadata": {
        "colab": {
          "base_uri": "https://localhost:8080/",
          "height": 379
        },
        "id": "Y8XPLCqUQAc1",
        "outputId": "1d9b858b-624b-4cdf-9a00-ebfa51ff91bb"
      },
      "execution_count": 6,
      "outputs": [
        {
          "output_type": "execute_result",
          "data": {
            "text/plain": [
              "                                                 laptop       status  brand  \\\n",
              "2155  Razer Blade 17 FHD 360Hz Intel Core i7-11800H/...  Refurbished  Razer   \n",
              "2156  Razer Blade 17 FHD 360Hz Intel Core i7-11800H/...  Refurbished  Razer   \n",
              "2157  Razer Blade 17 FHD 360Hz Intel Core i7-11800H/...  Refurbished  Razer   \n",
              "2158  Razer Book 13 Intel Evo Core i7-1165G7/16GB/1T...  Refurbished  Razer   \n",
              "2159  Razer Book FHD+ Intel Evo Core i7-1165G7/16GB/...  Refurbished  Razer   \n",
              "\n",
              "      model                cpu  ram  storage storage_type       gpu  screen  \\\n",
              "2155  Blade      Intel Core i7   16     1000          SSD  RTX 3060    17.3   \n",
              "2156  Blade      Intel Core i7   16     1000          SSD  RTX 3070    17.3   \n",
              "2157  Blade      Intel Core i7   32     1000          SSD  RTX 3080    17.3   \n",
              "2158   Book  Intel Evo Core i7   16     1000          SSD       NaN    13.4   \n",
              "2159   Book  Intel Evo Core i7   16      256          SSD       NaN    13.4   \n",
              "\n",
              "     touch  final_price  \n",
              "2155    No      2699.99  \n",
              "2156    No      2899.99  \n",
              "2157    No      3399.99  \n",
              "2158   Yes      1899.99  \n",
              "2159   Yes      1699.99  "
            ],
            "text/html": [
              "\n",
              "  <div id=\"df-71e3e502-fbff-4170-bdc5-a9a7f4e096fc\" class=\"colab-df-container\">\n",
              "    <div>\n",
              "<style scoped>\n",
              "    .dataframe tbody tr th:only-of-type {\n",
              "        vertical-align: middle;\n",
              "    }\n",
              "\n",
              "    .dataframe tbody tr th {\n",
              "        vertical-align: top;\n",
              "    }\n",
              "\n",
              "    .dataframe thead th {\n",
              "        text-align: right;\n",
              "    }\n",
              "</style>\n",
              "<table border=\"1\" class=\"dataframe\">\n",
              "  <thead>\n",
              "    <tr style=\"text-align: right;\">\n",
              "      <th></th>\n",
              "      <th>laptop</th>\n",
              "      <th>status</th>\n",
              "      <th>brand</th>\n",
              "      <th>model</th>\n",
              "      <th>cpu</th>\n",
              "      <th>ram</th>\n",
              "      <th>storage</th>\n",
              "      <th>storage_type</th>\n",
              "      <th>gpu</th>\n",
              "      <th>screen</th>\n",
              "      <th>touch</th>\n",
              "      <th>final_price</th>\n",
              "    </tr>\n",
              "  </thead>\n",
              "  <tbody>\n",
              "    <tr>\n",
              "      <th>2155</th>\n",
              "      <td>Razer Blade 17 FHD 360Hz Intel Core i7-11800H/...</td>\n",
              "      <td>Refurbished</td>\n",
              "      <td>Razer</td>\n",
              "      <td>Blade</td>\n",
              "      <td>Intel Core i7</td>\n",
              "      <td>16</td>\n",
              "      <td>1000</td>\n",
              "      <td>SSD</td>\n",
              "      <td>RTX 3060</td>\n",
              "      <td>17.3</td>\n",
              "      <td>No</td>\n",
              "      <td>2699.99</td>\n",
              "    </tr>\n",
              "    <tr>\n",
              "      <th>2156</th>\n",
              "      <td>Razer Blade 17 FHD 360Hz Intel Core i7-11800H/...</td>\n",
              "      <td>Refurbished</td>\n",
              "      <td>Razer</td>\n",
              "      <td>Blade</td>\n",
              "      <td>Intel Core i7</td>\n",
              "      <td>16</td>\n",
              "      <td>1000</td>\n",
              "      <td>SSD</td>\n",
              "      <td>RTX 3070</td>\n",
              "      <td>17.3</td>\n",
              "      <td>No</td>\n",
              "      <td>2899.99</td>\n",
              "    </tr>\n",
              "    <tr>\n",
              "      <th>2157</th>\n",
              "      <td>Razer Blade 17 FHD 360Hz Intel Core i7-11800H/...</td>\n",
              "      <td>Refurbished</td>\n",
              "      <td>Razer</td>\n",
              "      <td>Blade</td>\n",
              "      <td>Intel Core i7</td>\n",
              "      <td>32</td>\n",
              "      <td>1000</td>\n",
              "      <td>SSD</td>\n",
              "      <td>RTX 3080</td>\n",
              "      <td>17.3</td>\n",
              "      <td>No</td>\n",
              "      <td>3399.99</td>\n",
              "    </tr>\n",
              "    <tr>\n",
              "      <th>2158</th>\n",
              "      <td>Razer Book 13 Intel Evo Core i7-1165G7/16GB/1T...</td>\n",
              "      <td>Refurbished</td>\n",
              "      <td>Razer</td>\n",
              "      <td>Book</td>\n",
              "      <td>Intel Evo Core i7</td>\n",
              "      <td>16</td>\n",
              "      <td>1000</td>\n",
              "      <td>SSD</td>\n",
              "      <td>NaN</td>\n",
              "      <td>13.4</td>\n",
              "      <td>Yes</td>\n",
              "      <td>1899.99</td>\n",
              "    </tr>\n",
              "    <tr>\n",
              "      <th>2159</th>\n",
              "      <td>Razer Book FHD+ Intel Evo Core i7-1165G7/16GB/...</td>\n",
              "      <td>Refurbished</td>\n",
              "      <td>Razer</td>\n",
              "      <td>Book</td>\n",
              "      <td>Intel Evo Core i7</td>\n",
              "      <td>16</td>\n",
              "      <td>256</td>\n",
              "      <td>SSD</td>\n",
              "      <td>NaN</td>\n",
              "      <td>13.4</td>\n",
              "      <td>Yes</td>\n",
              "      <td>1699.99</td>\n",
              "    </tr>\n",
              "  </tbody>\n",
              "</table>\n",
              "</div>\n",
              "    <div class=\"colab-df-buttons\">\n",
              "\n",
              "  <div class=\"colab-df-container\">\n",
              "    <button class=\"colab-df-convert\" onclick=\"convertToInteractive('df-71e3e502-fbff-4170-bdc5-a9a7f4e096fc')\"\n",
              "            title=\"Convert this dataframe to an interactive table.\"\n",
              "            style=\"display:none;\">\n",
              "\n",
              "  <svg xmlns=\"http://www.w3.org/2000/svg\" height=\"24px\" viewBox=\"0 -960 960 960\">\n",
              "    <path d=\"M120-120v-720h720v720H120Zm60-500h600v-160H180v160Zm220 220h160v-160H400v160Zm0 220h160v-160H400v160ZM180-400h160v-160H180v160Zm440 0h160v-160H620v160ZM180-180h160v-160H180v160Zm440 0h160v-160H620v160Z\"/>\n",
              "  </svg>\n",
              "    </button>\n",
              "\n",
              "  <style>\n",
              "    .colab-df-container {\n",
              "      display:flex;\n",
              "      gap: 12px;\n",
              "    }\n",
              "\n",
              "    .colab-df-convert {\n",
              "      background-color: #E8F0FE;\n",
              "      border: none;\n",
              "      border-radius: 50%;\n",
              "      cursor: pointer;\n",
              "      display: none;\n",
              "      fill: #1967D2;\n",
              "      height: 32px;\n",
              "      padding: 0 0 0 0;\n",
              "      width: 32px;\n",
              "    }\n",
              "\n",
              "    .colab-df-convert:hover {\n",
              "      background-color: #E2EBFA;\n",
              "      box-shadow: 0px 1px 2px rgba(60, 64, 67, 0.3), 0px 1px 3px 1px rgba(60, 64, 67, 0.15);\n",
              "      fill: #174EA6;\n",
              "    }\n",
              "\n",
              "    .colab-df-buttons div {\n",
              "      margin-bottom: 4px;\n",
              "    }\n",
              "\n",
              "    [theme=dark] .colab-df-convert {\n",
              "      background-color: #3B4455;\n",
              "      fill: #D2E3FC;\n",
              "    }\n",
              "\n",
              "    [theme=dark] .colab-df-convert:hover {\n",
              "      background-color: #434B5C;\n",
              "      box-shadow: 0px 1px 3px 1px rgba(0, 0, 0, 0.15);\n",
              "      filter: drop-shadow(0px 1px 2px rgba(0, 0, 0, 0.3));\n",
              "      fill: #FFFFFF;\n",
              "    }\n",
              "  </style>\n",
              "\n",
              "    <script>\n",
              "      const buttonEl =\n",
              "        document.querySelector('#df-71e3e502-fbff-4170-bdc5-a9a7f4e096fc button.colab-df-convert');\n",
              "      buttonEl.style.display =\n",
              "        google.colab.kernel.accessAllowed ? 'block' : 'none';\n",
              "\n",
              "      async function convertToInteractive(key) {\n",
              "        const element = document.querySelector('#df-71e3e502-fbff-4170-bdc5-a9a7f4e096fc');\n",
              "        const dataTable =\n",
              "          await google.colab.kernel.invokeFunction('convertToInteractive',\n",
              "                                                    [key], {});\n",
              "        if (!dataTable) return;\n",
              "\n",
              "        const docLinkHtml = 'Like what you see? Visit the ' +\n",
              "          '<a target=\"_blank\" href=https://colab.research.google.com/notebooks/data_table.ipynb>data table notebook</a>'\n",
              "          + ' to learn more about interactive tables.';\n",
              "        element.innerHTML = '';\n",
              "        dataTable['output_type'] = 'display_data';\n",
              "        await google.colab.output.renderOutput(dataTable, element);\n",
              "        const docLink = document.createElement('div');\n",
              "        docLink.innerHTML = docLinkHtml;\n",
              "        element.appendChild(docLink);\n",
              "      }\n",
              "    </script>\n",
              "  </div>\n",
              "\n",
              "\n",
              "<div id=\"df-01c46888-8371-4d5e-8b54-a132b4d45377\">\n",
              "  <button class=\"colab-df-quickchart\" onclick=\"quickchart('df-01c46888-8371-4d5e-8b54-a132b4d45377')\"\n",
              "            title=\"Suggest charts\"\n",
              "            style=\"display:none;\">\n",
              "\n",
              "<svg xmlns=\"http://www.w3.org/2000/svg\" height=\"24px\"viewBox=\"0 0 24 24\"\n",
              "     width=\"24px\">\n",
              "    <g>\n",
              "        <path d=\"M19 3H5c-1.1 0-2 .9-2 2v14c0 1.1.9 2 2 2h14c1.1 0 2-.9 2-2V5c0-1.1-.9-2-2-2zM9 17H7v-7h2v7zm4 0h-2V7h2v10zm4 0h-2v-4h2v4z\"/>\n",
              "    </g>\n",
              "</svg>\n",
              "  </button>\n",
              "\n",
              "<style>\n",
              "  .colab-df-quickchart {\n",
              "      --bg-color: #E8F0FE;\n",
              "      --fill-color: #1967D2;\n",
              "      --hover-bg-color: #E2EBFA;\n",
              "      --hover-fill-color: #174EA6;\n",
              "      --disabled-fill-color: #AAA;\n",
              "      --disabled-bg-color: #DDD;\n",
              "  }\n",
              "\n",
              "  [theme=dark] .colab-df-quickchart {\n",
              "      --bg-color: #3B4455;\n",
              "      --fill-color: #D2E3FC;\n",
              "      --hover-bg-color: #434B5C;\n",
              "      --hover-fill-color: #FFFFFF;\n",
              "      --disabled-bg-color: #3B4455;\n",
              "      --disabled-fill-color: #666;\n",
              "  }\n",
              "\n",
              "  .colab-df-quickchart {\n",
              "    background-color: var(--bg-color);\n",
              "    border: none;\n",
              "    border-radius: 50%;\n",
              "    cursor: pointer;\n",
              "    display: none;\n",
              "    fill: var(--fill-color);\n",
              "    height: 32px;\n",
              "    padding: 0;\n",
              "    width: 32px;\n",
              "  }\n",
              "\n",
              "  .colab-df-quickchart:hover {\n",
              "    background-color: var(--hover-bg-color);\n",
              "    box-shadow: 0 1px 2px rgba(60, 64, 67, 0.3), 0 1px 3px 1px rgba(60, 64, 67, 0.15);\n",
              "    fill: var(--button-hover-fill-color);\n",
              "  }\n",
              "\n",
              "  .colab-df-quickchart-complete:disabled,\n",
              "  .colab-df-quickchart-complete:disabled:hover {\n",
              "    background-color: var(--disabled-bg-color);\n",
              "    fill: var(--disabled-fill-color);\n",
              "    box-shadow: none;\n",
              "  }\n",
              "\n",
              "  .colab-df-spinner {\n",
              "    border: 2px solid var(--fill-color);\n",
              "    border-color: transparent;\n",
              "    border-bottom-color: var(--fill-color);\n",
              "    animation:\n",
              "      spin 1s steps(1) infinite;\n",
              "  }\n",
              "\n",
              "  @keyframes spin {\n",
              "    0% {\n",
              "      border-color: transparent;\n",
              "      border-bottom-color: var(--fill-color);\n",
              "      border-left-color: var(--fill-color);\n",
              "    }\n",
              "    20% {\n",
              "      border-color: transparent;\n",
              "      border-left-color: var(--fill-color);\n",
              "      border-top-color: var(--fill-color);\n",
              "    }\n",
              "    30% {\n",
              "      border-color: transparent;\n",
              "      border-left-color: var(--fill-color);\n",
              "      border-top-color: var(--fill-color);\n",
              "      border-right-color: var(--fill-color);\n",
              "    }\n",
              "    40% {\n",
              "      border-color: transparent;\n",
              "      border-right-color: var(--fill-color);\n",
              "      border-top-color: var(--fill-color);\n",
              "    }\n",
              "    60% {\n",
              "      border-color: transparent;\n",
              "      border-right-color: var(--fill-color);\n",
              "    }\n",
              "    80% {\n",
              "      border-color: transparent;\n",
              "      border-right-color: var(--fill-color);\n",
              "      border-bottom-color: var(--fill-color);\n",
              "    }\n",
              "    90% {\n",
              "      border-color: transparent;\n",
              "      border-bottom-color: var(--fill-color);\n",
              "    }\n",
              "  }\n",
              "</style>\n",
              "\n",
              "  <script>\n",
              "    async function quickchart(key) {\n",
              "      const quickchartButtonEl =\n",
              "        document.querySelector('#' + key + ' button');\n",
              "      quickchartButtonEl.disabled = true;  // To prevent multiple clicks.\n",
              "      quickchartButtonEl.classList.add('colab-df-spinner');\n",
              "      try {\n",
              "        const charts = await google.colab.kernel.invokeFunction(\n",
              "            'suggestCharts', [key], {});\n",
              "      } catch (error) {\n",
              "        console.error('Error during call to suggestCharts:', error);\n",
              "      }\n",
              "      quickchartButtonEl.classList.remove('colab-df-spinner');\n",
              "      quickchartButtonEl.classList.add('colab-df-quickchart-complete');\n",
              "    }\n",
              "    (() => {\n",
              "      let quickchartButtonEl =\n",
              "        document.querySelector('#df-01c46888-8371-4d5e-8b54-a132b4d45377 button');\n",
              "      quickchartButtonEl.style.display =\n",
              "        google.colab.kernel.accessAllowed ? 'block' : 'none';\n",
              "    })();\n",
              "  </script>\n",
              "</div>\n",
              "\n",
              "    </div>\n",
              "  </div>\n"
            ],
            "application/vnd.google.colaboratory.intrinsic+json": {
              "type": "dataframe",
              "summary": "{\n  \"name\": \"df\",\n  \"rows\": 5,\n  \"fields\": [\n    {\n      \"column\": \"laptop\",\n      \"properties\": {\n        \"dtype\": \"string\",\n        \"num_unique_values\": 5,\n        \"samples\": [\n          \"Razer Blade 17 FHD 360Hz Intel Core i7-11800H/16GB/1TB SSD/RTX 3070/17.3\\\"\",\n          \"Razer Book FHD+ Intel Evo Core i7-1165G7/16GB/256GB SSD/13.4\\\" T\\u00e1ctil\",\n          \"Razer Blade 17 FHD 360Hz Intel Core i7-11800H/32GB/1TB SSD/RTX 3080/17.3\\\"\"\n        ],\n        \"semantic_type\": \"\",\n        \"description\": \"\"\n      }\n    },\n    {\n      \"column\": \"status\",\n      \"properties\": {\n        \"dtype\": \"category\",\n        \"num_unique_values\": 1,\n        \"samples\": [\n          \"Refurbished\"\n        ],\n        \"semantic_type\": \"\",\n        \"description\": \"\"\n      }\n    },\n    {\n      \"column\": \"brand\",\n      \"properties\": {\n        \"dtype\": \"category\",\n        \"num_unique_values\": 1,\n        \"samples\": [\n          \"Razer\"\n        ],\n        \"semantic_type\": \"\",\n        \"description\": \"\"\n      }\n    },\n    {\n      \"column\": \"model\",\n      \"properties\": {\n        \"dtype\": \"category\",\n        \"num_unique_values\": 2,\n        \"samples\": [\n          \"Book\"\n        ],\n        \"semantic_type\": \"\",\n        \"description\": \"\"\n      }\n    },\n    {\n      \"column\": \"cpu\",\n      \"properties\": {\n        \"dtype\": \"category\",\n        \"num_unique_values\": 2,\n        \"samples\": [\n          \"Intel Evo Core i7\"\n        ],\n        \"semantic_type\": \"\",\n        \"description\": \"\"\n      }\n    },\n    {\n      \"column\": \"ram\",\n      \"properties\": {\n        \"dtype\": \"number\",\n        \"std\": 7,\n        \"min\": 16,\n        \"max\": 32,\n        \"num_unique_values\": 2,\n        \"samples\": [\n          32\n        ],\n        \"semantic_type\": \"\",\n        \"description\": \"\"\n      }\n    },\n    {\n      \"column\": \"storage\",\n      \"properties\": {\n        \"dtype\": \"number\",\n        \"std\": 332,\n        \"min\": 256,\n        \"max\": 1000,\n        \"num_unique_values\": 2,\n        \"samples\": [\n          256\n        ],\n        \"semantic_type\": \"\",\n        \"description\": \"\"\n      }\n    },\n    {\n      \"column\": \"storage_type\",\n      \"properties\": {\n        \"dtype\": \"category\",\n        \"num_unique_values\": 1,\n        \"samples\": [\n          \"SSD\"\n        ],\n        \"semantic_type\": \"\",\n        \"description\": \"\"\n      }\n    },\n    {\n      \"column\": \"gpu\",\n      \"properties\": {\n        \"dtype\": \"string\",\n        \"num_unique_values\": 3,\n        \"samples\": [\n          \"RTX 3060\"\n        ],\n        \"semantic_type\": \"\",\n        \"description\": \"\"\n      }\n    },\n    {\n      \"column\": \"screen\",\n      \"properties\": {\n        \"dtype\": \"number\",\n        \"std\": 2.136117974270148,\n        \"min\": 13.4,\n        \"max\": 17.3,\n        \"num_unique_values\": 2,\n        \"samples\": [\n          13.4\n        ],\n        \"semantic_type\": \"\",\n        \"description\": \"\"\n      }\n    },\n    {\n      \"column\": \"touch\",\n      \"properties\": {\n        \"dtype\": \"category\",\n        \"num_unique_values\": 2,\n        \"samples\": [\n          \"Yes\"\n        ],\n        \"semantic_type\": \"\",\n        \"description\": \"\"\n      }\n    },\n    {\n      \"column\": \"final_price\",\n      \"properties\": {\n        \"dtype\": \"number\",\n        \"std\": 708.519583356734,\n        \"min\": 1699.99,\n        \"max\": 3399.99,\n        \"num_unique_values\": 5,\n        \"samples\": [\n          2899.99\n        ],\n        \"semantic_type\": \"\",\n        \"description\": \"\"\n      }\n    }\n  ]\n}"
            }
          },
          "metadata": {},
          "execution_count": 6
        }
      ]
    },
    {
      "cell_type": "code",
      "source": [
        "#For Values\n",
        "\n",
        "strings=list(df.dtypes[df.dtypes==\"object\"].index)\n",
        "strings"
      ],
      "metadata": {
        "colab": {
          "base_uri": "https://localhost:8080/"
        },
        "id": "Y3OJ2i5ZQDer",
        "outputId": "744bd5d5-2271-4006-d22d-e35cff93cb2a"
      },
      "execution_count": 7,
      "outputs": [
        {
          "output_type": "execute_result",
          "data": {
            "text/plain": [
              "['laptop', 'status', 'brand', 'model', 'cpu', 'storage_type', 'gpu', 'touch']"
            ]
          },
          "metadata": {},
          "execution_count": 7
        }
      ]
    },
    {
      "cell_type": "code",
      "source": [
        "for col in strings:\n",
        "  df[col]=df[col].str.lower().str.replace(' ','_')"
      ],
      "metadata": {
        "id": "QZEJIqDVQb-q"
      },
      "execution_count": 8,
      "outputs": []
    },
    {
      "cell_type": "code",
      "source": [
        "df.tail()"
      ],
      "metadata": {
        "colab": {
          "base_uri": "https://localhost:8080/",
          "height": 313
        },
        "id": "ShOR4KINQ21O",
        "outputId": "3d1b47ae-43fd-4896-faa3-3863b569a218"
      },
      "execution_count": 9,
      "outputs": [
        {
          "output_type": "execute_result",
          "data": {
            "text/plain": [
              "                                                 laptop       status  brand  \\\n",
              "2155  razer_blade_17_fhd_360hz_intel_core_i7-11800h/...  refurbished  razer   \n",
              "2156  razer_blade_17_fhd_360hz_intel_core_i7-11800h/...  refurbished  razer   \n",
              "2157  razer_blade_17_fhd_360hz_intel_core_i7-11800h/...  refurbished  razer   \n",
              "2158  razer_book_13_intel_evo_core_i7-1165g7/16gb/1t...  refurbished  razer   \n",
              "2159  razer_book_fhd+_intel_evo_core_i7-1165g7/16gb/...  refurbished  razer   \n",
              "\n",
              "      model                cpu  ram  storage storage_type       gpu  screen  \\\n",
              "2155  blade      intel_core_i7   16     1000          ssd  rtx_3060    17.3   \n",
              "2156  blade      intel_core_i7   16     1000          ssd  rtx_3070    17.3   \n",
              "2157  blade      intel_core_i7   32     1000          ssd  rtx_3080    17.3   \n",
              "2158   book  intel_evo_core_i7   16     1000          ssd       NaN    13.4   \n",
              "2159   book  intel_evo_core_i7   16      256          ssd       NaN    13.4   \n",
              "\n",
              "     touch  final_price  \n",
              "2155    no      2699.99  \n",
              "2156    no      2899.99  \n",
              "2157    no      3399.99  \n",
              "2158   yes      1899.99  \n",
              "2159   yes      1699.99  "
            ],
            "text/html": [
              "\n",
              "  <div id=\"df-c711c7f9-3877-4b7d-aca0-8d50eadbd152\" class=\"colab-df-container\">\n",
              "    <div>\n",
              "<style scoped>\n",
              "    .dataframe tbody tr th:only-of-type {\n",
              "        vertical-align: middle;\n",
              "    }\n",
              "\n",
              "    .dataframe tbody tr th {\n",
              "        vertical-align: top;\n",
              "    }\n",
              "\n",
              "    .dataframe thead th {\n",
              "        text-align: right;\n",
              "    }\n",
              "</style>\n",
              "<table border=\"1\" class=\"dataframe\">\n",
              "  <thead>\n",
              "    <tr style=\"text-align: right;\">\n",
              "      <th></th>\n",
              "      <th>laptop</th>\n",
              "      <th>status</th>\n",
              "      <th>brand</th>\n",
              "      <th>model</th>\n",
              "      <th>cpu</th>\n",
              "      <th>ram</th>\n",
              "      <th>storage</th>\n",
              "      <th>storage_type</th>\n",
              "      <th>gpu</th>\n",
              "      <th>screen</th>\n",
              "      <th>touch</th>\n",
              "      <th>final_price</th>\n",
              "    </tr>\n",
              "  </thead>\n",
              "  <tbody>\n",
              "    <tr>\n",
              "      <th>2155</th>\n",
              "      <td>razer_blade_17_fhd_360hz_intel_core_i7-11800h/...</td>\n",
              "      <td>refurbished</td>\n",
              "      <td>razer</td>\n",
              "      <td>blade</td>\n",
              "      <td>intel_core_i7</td>\n",
              "      <td>16</td>\n",
              "      <td>1000</td>\n",
              "      <td>ssd</td>\n",
              "      <td>rtx_3060</td>\n",
              "      <td>17.3</td>\n",
              "      <td>no</td>\n",
              "      <td>2699.99</td>\n",
              "    </tr>\n",
              "    <tr>\n",
              "      <th>2156</th>\n",
              "      <td>razer_blade_17_fhd_360hz_intel_core_i7-11800h/...</td>\n",
              "      <td>refurbished</td>\n",
              "      <td>razer</td>\n",
              "      <td>blade</td>\n",
              "      <td>intel_core_i7</td>\n",
              "      <td>16</td>\n",
              "      <td>1000</td>\n",
              "      <td>ssd</td>\n",
              "      <td>rtx_3070</td>\n",
              "      <td>17.3</td>\n",
              "      <td>no</td>\n",
              "      <td>2899.99</td>\n",
              "    </tr>\n",
              "    <tr>\n",
              "      <th>2157</th>\n",
              "      <td>razer_blade_17_fhd_360hz_intel_core_i7-11800h/...</td>\n",
              "      <td>refurbished</td>\n",
              "      <td>razer</td>\n",
              "      <td>blade</td>\n",
              "      <td>intel_core_i7</td>\n",
              "      <td>32</td>\n",
              "      <td>1000</td>\n",
              "      <td>ssd</td>\n",
              "      <td>rtx_3080</td>\n",
              "      <td>17.3</td>\n",
              "      <td>no</td>\n",
              "      <td>3399.99</td>\n",
              "    </tr>\n",
              "    <tr>\n",
              "      <th>2158</th>\n",
              "      <td>razer_book_13_intel_evo_core_i7-1165g7/16gb/1t...</td>\n",
              "      <td>refurbished</td>\n",
              "      <td>razer</td>\n",
              "      <td>book</td>\n",
              "      <td>intel_evo_core_i7</td>\n",
              "      <td>16</td>\n",
              "      <td>1000</td>\n",
              "      <td>ssd</td>\n",
              "      <td>NaN</td>\n",
              "      <td>13.4</td>\n",
              "      <td>yes</td>\n",
              "      <td>1899.99</td>\n",
              "    </tr>\n",
              "    <tr>\n",
              "      <th>2159</th>\n",
              "      <td>razer_book_fhd+_intel_evo_core_i7-1165g7/16gb/...</td>\n",
              "      <td>refurbished</td>\n",
              "      <td>razer</td>\n",
              "      <td>book</td>\n",
              "      <td>intel_evo_core_i7</td>\n",
              "      <td>16</td>\n",
              "      <td>256</td>\n",
              "      <td>ssd</td>\n",
              "      <td>NaN</td>\n",
              "      <td>13.4</td>\n",
              "      <td>yes</td>\n",
              "      <td>1699.99</td>\n",
              "    </tr>\n",
              "  </tbody>\n",
              "</table>\n",
              "</div>\n",
              "    <div class=\"colab-df-buttons\">\n",
              "\n",
              "  <div class=\"colab-df-container\">\n",
              "    <button class=\"colab-df-convert\" onclick=\"convertToInteractive('df-c711c7f9-3877-4b7d-aca0-8d50eadbd152')\"\n",
              "            title=\"Convert this dataframe to an interactive table.\"\n",
              "            style=\"display:none;\">\n",
              "\n",
              "  <svg xmlns=\"http://www.w3.org/2000/svg\" height=\"24px\" viewBox=\"0 -960 960 960\">\n",
              "    <path d=\"M120-120v-720h720v720H120Zm60-500h600v-160H180v160Zm220 220h160v-160H400v160Zm0 220h160v-160H400v160ZM180-400h160v-160H180v160Zm440 0h160v-160H620v160ZM180-180h160v-160H180v160Zm440 0h160v-160H620v160Z\"/>\n",
              "  </svg>\n",
              "    </button>\n",
              "\n",
              "  <style>\n",
              "    .colab-df-container {\n",
              "      display:flex;\n",
              "      gap: 12px;\n",
              "    }\n",
              "\n",
              "    .colab-df-convert {\n",
              "      background-color: #E8F0FE;\n",
              "      border: none;\n",
              "      border-radius: 50%;\n",
              "      cursor: pointer;\n",
              "      display: none;\n",
              "      fill: #1967D2;\n",
              "      height: 32px;\n",
              "      padding: 0 0 0 0;\n",
              "      width: 32px;\n",
              "    }\n",
              "\n",
              "    .colab-df-convert:hover {\n",
              "      background-color: #E2EBFA;\n",
              "      box-shadow: 0px 1px 2px rgba(60, 64, 67, 0.3), 0px 1px 3px 1px rgba(60, 64, 67, 0.15);\n",
              "      fill: #174EA6;\n",
              "    }\n",
              "\n",
              "    .colab-df-buttons div {\n",
              "      margin-bottom: 4px;\n",
              "    }\n",
              "\n",
              "    [theme=dark] .colab-df-convert {\n",
              "      background-color: #3B4455;\n",
              "      fill: #D2E3FC;\n",
              "    }\n",
              "\n",
              "    [theme=dark] .colab-df-convert:hover {\n",
              "      background-color: #434B5C;\n",
              "      box-shadow: 0px 1px 3px 1px rgba(0, 0, 0, 0.15);\n",
              "      filter: drop-shadow(0px 1px 2px rgba(0, 0, 0, 0.3));\n",
              "      fill: #FFFFFF;\n",
              "    }\n",
              "  </style>\n",
              "\n",
              "    <script>\n",
              "      const buttonEl =\n",
              "        document.querySelector('#df-c711c7f9-3877-4b7d-aca0-8d50eadbd152 button.colab-df-convert');\n",
              "      buttonEl.style.display =\n",
              "        google.colab.kernel.accessAllowed ? 'block' : 'none';\n",
              "\n",
              "      async function convertToInteractive(key) {\n",
              "        const element = document.querySelector('#df-c711c7f9-3877-4b7d-aca0-8d50eadbd152');\n",
              "        const dataTable =\n",
              "          await google.colab.kernel.invokeFunction('convertToInteractive',\n",
              "                                                    [key], {});\n",
              "        if (!dataTable) return;\n",
              "\n",
              "        const docLinkHtml = 'Like what you see? Visit the ' +\n",
              "          '<a target=\"_blank\" href=https://colab.research.google.com/notebooks/data_table.ipynb>data table notebook</a>'\n",
              "          + ' to learn more about interactive tables.';\n",
              "        element.innerHTML = '';\n",
              "        dataTable['output_type'] = 'display_data';\n",
              "        await google.colab.output.renderOutput(dataTable, element);\n",
              "        const docLink = document.createElement('div');\n",
              "        docLink.innerHTML = docLinkHtml;\n",
              "        element.appendChild(docLink);\n",
              "      }\n",
              "    </script>\n",
              "  </div>\n",
              "\n",
              "\n",
              "<div id=\"df-cf836f9e-3920-4648-aa51-26d29e830aee\">\n",
              "  <button class=\"colab-df-quickchart\" onclick=\"quickchart('df-cf836f9e-3920-4648-aa51-26d29e830aee')\"\n",
              "            title=\"Suggest charts\"\n",
              "            style=\"display:none;\">\n",
              "\n",
              "<svg xmlns=\"http://www.w3.org/2000/svg\" height=\"24px\"viewBox=\"0 0 24 24\"\n",
              "     width=\"24px\">\n",
              "    <g>\n",
              "        <path d=\"M19 3H5c-1.1 0-2 .9-2 2v14c0 1.1.9 2 2 2h14c1.1 0 2-.9 2-2V5c0-1.1-.9-2-2-2zM9 17H7v-7h2v7zm4 0h-2V7h2v10zm4 0h-2v-4h2v4z\"/>\n",
              "    </g>\n",
              "</svg>\n",
              "  </button>\n",
              "\n",
              "<style>\n",
              "  .colab-df-quickchart {\n",
              "      --bg-color: #E8F0FE;\n",
              "      --fill-color: #1967D2;\n",
              "      --hover-bg-color: #E2EBFA;\n",
              "      --hover-fill-color: #174EA6;\n",
              "      --disabled-fill-color: #AAA;\n",
              "      --disabled-bg-color: #DDD;\n",
              "  }\n",
              "\n",
              "  [theme=dark] .colab-df-quickchart {\n",
              "      --bg-color: #3B4455;\n",
              "      --fill-color: #D2E3FC;\n",
              "      --hover-bg-color: #434B5C;\n",
              "      --hover-fill-color: #FFFFFF;\n",
              "      --disabled-bg-color: #3B4455;\n",
              "      --disabled-fill-color: #666;\n",
              "  }\n",
              "\n",
              "  .colab-df-quickchart {\n",
              "    background-color: var(--bg-color);\n",
              "    border: none;\n",
              "    border-radius: 50%;\n",
              "    cursor: pointer;\n",
              "    display: none;\n",
              "    fill: var(--fill-color);\n",
              "    height: 32px;\n",
              "    padding: 0;\n",
              "    width: 32px;\n",
              "  }\n",
              "\n",
              "  .colab-df-quickchart:hover {\n",
              "    background-color: var(--hover-bg-color);\n",
              "    box-shadow: 0 1px 2px rgba(60, 64, 67, 0.3), 0 1px 3px 1px rgba(60, 64, 67, 0.15);\n",
              "    fill: var(--button-hover-fill-color);\n",
              "  }\n",
              "\n",
              "  .colab-df-quickchart-complete:disabled,\n",
              "  .colab-df-quickchart-complete:disabled:hover {\n",
              "    background-color: var(--disabled-bg-color);\n",
              "    fill: var(--disabled-fill-color);\n",
              "    box-shadow: none;\n",
              "  }\n",
              "\n",
              "  .colab-df-spinner {\n",
              "    border: 2px solid var(--fill-color);\n",
              "    border-color: transparent;\n",
              "    border-bottom-color: var(--fill-color);\n",
              "    animation:\n",
              "      spin 1s steps(1) infinite;\n",
              "  }\n",
              "\n",
              "  @keyframes spin {\n",
              "    0% {\n",
              "      border-color: transparent;\n",
              "      border-bottom-color: var(--fill-color);\n",
              "      border-left-color: var(--fill-color);\n",
              "    }\n",
              "    20% {\n",
              "      border-color: transparent;\n",
              "      border-left-color: var(--fill-color);\n",
              "      border-top-color: var(--fill-color);\n",
              "    }\n",
              "    30% {\n",
              "      border-color: transparent;\n",
              "      border-left-color: var(--fill-color);\n",
              "      border-top-color: var(--fill-color);\n",
              "      border-right-color: var(--fill-color);\n",
              "    }\n",
              "    40% {\n",
              "      border-color: transparent;\n",
              "      border-right-color: var(--fill-color);\n",
              "      border-top-color: var(--fill-color);\n",
              "    }\n",
              "    60% {\n",
              "      border-color: transparent;\n",
              "      border-right-color: var(--fill-color);\n",
              "    }\n",
              "    80% {\n",
              "      border-color: transparent;\n",
              "      border-right-color: var(--fill-color);\n",
              "      border-bottom-color: var(--fill-color);\n",
              "    }\n",
              "    90% {\n",
              "      border-color: transparent;\n",
              "      border-bottom-color: var(--fill-color);\n",
              "    }\n",
              "  }\n",
              "</style>\n",
              "\n",
              "  <script>\n",
              "    async function quickchart(key) {\n",
              "      const quickchartButtonEl =\n",
              "        document.querySelector('#' + key + ' button');\n",
              "      quickchartButtonEl.disabled = true;  // To prevent multiple clicks.\n",
              "      quickchartButtonEl.classList.add('colab-df-spinner');\n",
              "      try {\n",
              "        const charts = await google.colab.kernel.invokeFunction(\n",
              "            'suggestCharts', [key], {});\n",
              "      } catch (error) {\n",
              "        console.error('Error during call to suggestCharts:', error);\n",
              "      }\n",
              "      quickchartButtonEl.classList.remove('colab-df-spinner');\n",
              "      quickchartButtonEl.classList.add('colab-df-quickchart-complete');\n",
              "    }\n",
              "    (() => {\n",
              "      let quickchartButtonEl =\n",
              "        document.querySelector('#df-cf836f9e-3920-4648-aa51-26d29e830aee button');\n",
              "      quickchartButtonEl.style.display =\n",
              "        google.colab.kernel.accessAllowed ? 'block' : 'none';\n",
              "    })();\n",
              "  </script>\n",
              "</div>\n",
              "\n",
              "    </div>\n",
              "  </div>\n"
            ],
            "application/vnd.google.colaboratory.intrinsic+json": {
              "type": "dataframe",
              "summary": "{\n  \"name\": \"df\",\n  \"rows\": 5,\n  \"fields\": [\n    {\n      \"column\": \"laptop\",\n      \"properties\": {\n        \"dtype\": \"string\",\n        \"num_unique_values\": 5,\n        \"samples\": [\n          \"razer_blade_17_fhd_360hz_intel_core_i7-11800h/16gb/1tb_ssd/rtx_3070/17.3\\\"\",\n          \"razer_book_fhd+_intel_evo_core_i7-1165g7/16gb/256gb_ssd/13.4\\\"_t\\u00e1ctil\",\n          \"razer_blade_17_fhd_360hz_intel_core_i7-11800h/32gb/1tb_ssd/rtx_3080/17.3\\\"\"\n        ],\n        \"semantic_type\": \"\",\n        \"description\": \"\"\n      }\n    },\n    {\n      \"column\": \"status\",\n      \"properties\": {\n        \"dtype\": \"category\",\n        \"num_unique_values\": 1,\n        \"samples\": [\n          \"refurbished\"\n        ],\n        \"semantic_type\": \"\",\n        \"description\": \"\"\n      }\n    },\n    {\n      \"column\": \"brand\",\n      \"properties\": {\n        \"dtype\": \"category\",\n        \"num_unique_values\": 1,\n        \"samples\": [\n          \"razer\"\n        ],\n        \"semantic_type\": \"\",\n        \"description\": \"\"\n      }\n    },\n    {\n      \"column\": \"model\",\n      \"properties\": {\n        \"dtype\": \"category\",\n        \"num_unique_values\": 2,\n        \"samples\": [\n          \"book\"\n        ],\n        \"semantic_type\": \"\",\n        \"description\": \"\"\n      }\n    },\n    {\n      \"column\": \"cpu\",\n      \"properties\": {\n        \"dtype\": \"category\",\n        \"num_unique_values\": 2,\n        \"samples\": [\n          \"intel_evo_core_i7\"\n        ],\n        \"semantic_type\": \"\",\n        \"description\": \"\"\n      }\n    },\n    {\n      \"column\": \"ram\",\n      \"properties\": {\n        \"dtype\": \"number\",\n        \"std\": 7,\n        \"min\": 16,\n        \"max\": 32,\n        \"num_unique_values\": 2,\n        \"samples\": [\n          32\n        ],\n        \"semantic_type\": \"\",\n        \"description\": \"\"\n      }\n    },\n    {\n      \"column\": \"storage\",\n      \"properties\": {\n        \"dtype\": \"number\",\n        \"std\": 332,\n        \"min\": 256,\n        \"max\": 1000,\n        \"num_unique_values\": 2,\n        \"samples\": [\n          256\n        ],\n        \"semantic_type\": \"\",\n        \"description\": \"\"\n      }\n    },\n    {\n      \"column\": \"storage_type\",\n      \"properties\": {\n        \"dtype\": \"category\",\n        \"num_unique_values\": 1,\n        \"samples\": [\n          \"ssd\"\n        ],\n        \"semantic_type\": \"\",\n        \"description\": \"\"\n      }\n    },\n    {\n      \"column\": \"gpu\",\n      \"properties\": {\n        \"dtype\": \"string\",\n        \"num_unique_values\": 3,\n        \"samples\": [\n          \"rtx_3060\"\n        ],\n        \"semantic_type\": \"\",\n        \"description\": \"\"\n      }\n    },\n    {\n      \"column\": \"screen\",\n      \"properties\": {\n        \"dtype\": \"number\",\n        \"std\": 2.136117974270148,\n        \"min\": 13.4,\n        \"max\": 17.3,\n        \"num_unique_values\": 2,\n        \"samples\": [\n          13.4\n        ],\n        \"semantic_type\": \"\",\n        \"description\": \"\"\n      }\n    },\n    {\n      \"column\": \"touch\",\n      \"properties\": {\n        \"dtype\": \"category\",\n        \"num_unique_values\": 2,\n        \"samples\": [\n          \"yes\"\n        ],\n        \"semantic_type\": \"\",\n        \"description\": \"\"\n      }\n    },\n    {\n      \"column\": \"final_price\",\n      \"properties\": {\n        \"dtype\": \"number\",\n        \"std\": 708.519583356734,\n        \"min\": 1699.99,\n        \"max\": 3399.99,\n        \"num_unique_values\": 5,\n        \"samples\": [\n          2899.99\n        ],\n        \"semantic_type\": \"\",\n        \"description\": \"\"\n      }\n    }\n  ]\n}"
            }
          },
          "metadata": {},
          "execution_count": 9
        }
      ]
    },
    {
      "cell_type": "code",
      "source": [
        "features=['ram',\n",
        "'storage',\n",
        "'screen',\n",
        "] #All numerical features"
      ],
      "metadata": {
        "id": "CJd52COlQ33K"
      },
      "execution_count": 10,
      "outputs": []
    },
    {
      "cell_type": "markdown",
      "source": [
        "# EDA"
      ],
      "metadata": {
        "id": "a2ylNrwORLtO"
      }
    },
    {
      "cell_type": "markdown",
      "source": [
        "**1.General Info**"
      ],
      "metadata": {
        "id": "g5kmJiAqTiai"
      }
    },
    {
      "cell_type": "code",
      "source": [
        "for col in df.columns:\n",
        "  print(col)\n",
        "  print(df[col].unique()[:5])\n",
        "  print(df[col].nunique())\n",
        "  print()"
      ],
      "metadata": {
        "colab": {
          "base_uri": "https://localhost:8080/"
        },
        "id": "2cMnO9h5Th8k",
        "outputId": "0e6a72f4-f144-41e0-f3cc-0b52b070f450"
      },
      "execution_count": 11,
      "outputs": [
        {
          "output_type": "stream",
          "name": "stdout",
          "text": [
            "laptop\n",
            "['asus_expertbook_b1_b1502cba-ej0436x_intel_core_i5-1235u/8gb/512gb_ssd/15.6\"'\n",
            " 'alurin_go_start_intel_celeron_n4020/8gb/256gb_ssd/15.6\"'\n",
            " 'asus_expertbook_b1_b1502cba-ej0424x_intel_core_i3-1215u/8gb/256gb_ssd/15.6\"'\n",
            " 'msi_katana_gf66_12uc-082xes_intel_core_i7-12700h/16gb/1tb_ssd/rtx3050/15.6\"'\n",
            " 'hp_15s-fq5085ns_intel_core_i5-1235u/16gb/512gb_ssd/15.6\"']\n",
            "2160\n",
            "\n",
            "status\n",
            "['new' 'refurbished']\n",
            "2\n",
            "\n",
            "brand\n",
            "['asus' 'alurin' 'msi' 'hp' 'lenovo']\n",
            "27\n",
            "\n",
            "model\n",
            "['expertbook' 'go' 'katana' '15s' 'crosshair']\n",
            "121\n",
            "\n",
            "cpu\n",
            "['intel_core_i5' 'intel_celeron' 'intel_core_i3' 'intel_core_i7'\n",
            " 'amd_ryzen_5']\n",
            "28\n",
            "\n",
            "ram\n",
            "[ 8 16 32 12  4]\n",
            "9\n",
            "\n",
            "storage\n",
            "[ 512  256 1000   64  128]\n",
            "12\n",
            "\n",
            "storage_type\n",
            "['ssd' 'emmc' nan]\n",
            "2\n",
            "\n",
            "gpu\n",
            "[nan 'rtx_3050' 'rtx_4060' 'rtx_4050' 'rtx_3060']\n",
            "44\n",
            "\n",
            "screen\n",
            "[15.6 17.3 14.  16.1 13.3]\n",
            "29\n",
            "\n",
            "touch\n",
            "['no' 'yes']\n",
            "2\n",
            "\n",
            "final_price\n",
            "[1009.    299.    789.   1199.    669.01]\n",
            "1440\n",
            "\n"
          ]
        }
      ]
    },
    {
      "cell_type": "markdown",
      "source": [
        "**1.Look at the final_price variable. Does it have a long tail?**"
      ],
      "metadata": {
        "id": "ii7-DyDVRTDs"
      }
    },
    {
      "cell_type": "code",
      "source": [
        "sns.histplot(df.final_price,color='red',alpha=0.5,bins=50)"
      ],
      "metadata": {
        "colab": {
          "base_uri": "https://localhost:8080/",
          "height": 468
        },
        "id": "RmeWktRlRNN6",
        "outputId": "d1ed33b1-ff92-4d78-b4f1-b1ca58128e18"
      },
      "execution_count": 12,
      "outputs": [
        {
          "output_type": "execute_result",
          "data": {
            "text/plain": [
              "<Axes: xlabel='final_price', ylabel='Count'>"
            ]
          },
          "metadata": {},
          "execution_count": 12
        },
        {
          "output_type": "display_data",
          "data": {
            "text/plain": [
              "<Figure size 640x480 with 1 Axes>"
            ],
            "image/png": "[encoded data removed]"
          },
          "metadata": {}
        }
      ]
    },
    {
      "cell_type": "code",
      "source": [
        "#Yes it has a long tail distribution. A long-tailed distribution is characterized by a large number of occurrences far from the \"head\" or central part of the distribution.\n",
        "\n"
      ],
      "metadata": {
        "id": "GWLFKtzDRa2e"
      },
      "execution_count": 13,
      "outputs": []
    },
    {
      "cell_type": "code",
      "source": [
        "price_logs=np.log1p(df.final_price)\n",
        "sns.histplot(price_logs,color='red',alpha=0.5,bins=100)"
      ],
      "metadata": {
        "colab": {
          "base_uri": "https://localhost:8080/",
          "height": 471
        },
        "id": "b3SZXdYkUmO0",
        "outputId": "e496bf19-49be-44a3-9fe3-aadceb9a74b1"
      },
      "execution_count": 14,
      "outputs": [
        {
          "output_type": "execute_result",
          "data": {
            "text/plain": [
              "<Axes: xlabel='final_price', ylabel='Count'>"
            ]
          },
          "metadata": {},
          "execution_count": 14
        },
        {
          "output_type": "display_data",
          "data": {
            "text/plain": [
              "<Figure size 640x480 with 1 Axes>"
            ],
            "image/png": "[encoded data removed]"
          },
          "metadata": {}
        }
      ]
    },
    {
      "cell_type": "code",
      "source": [
        "#Is this a normal distribution?\n",
        "\n",
        "import numpy as np\n",
        "import scipy.stats as stats\n",
        "\n",
        "# Assuming your data is stored in a list called 'data'\n",
        "data = price_logs\n",
        "\n",
        "# Calculate the skewness coefficient using scipy.stats\n",
        "skewness = stats.skew(data)\n",
        "\n",
        "print(\"Skewness coefficient:\", skewness)"
      ],
      "metadata": {
        "colab": {
          "base_uri": "https://localhost:8080/"
        },
        "id": "fmiuEHUsVQsq",
        "outputId": "66b080d8-7bb6-4aa9-9b70-d2ee5bd16e7b"
      },
      "execution_count": 15,
      "outputs": [
        {
          "output_type": "stream",
          "name": "stdout",
          "text": [
            "Skewness coefficient: 0.11410277946944977\n"
          ]
        }
      ]
    },
    {
      "cell_type": "markdown",
      "source": [
        "```\n",
        "This code will output the skewness coefficient of the given data. If the value is close to 0, the distribution is approximately symmetric. A positive value indicates right-skewness, and a negative value indicates left-skewness.\n",
        "\n",
        "```"
      ],
      "metadata": {
        "id": "pNA3VYWUVkA4"
      }
    },
    {
      "cell_type": "markdown",
      "source": [
        "Square Root Transformation to remove positive skewness:\n"
      ],
      "metadata": {
        "id": "i6jlZD_BV86R"
      }
    },
    {
      "cell_type": "code",
      "source": [
        "price_logs= np.sqrt(price_logs)\n",
        "data=price_logs\n",
        "skewness = stats.skew(data)\n",
        "\n",
        "print(\"Skewness coefficient:\", skewness)\n"
      ],
      "metadata": {
        "colab": {
          "base_uri": "https://localhost:8080/"
        },
        "id": "tUPqRNsuV1xx",
        "outputId": "a446527c-2b0e-4478-8737-32426c6af951"
      },
      "execution_count": 16,
      "outputs": [
        {
          "output_type": "stream",
          "name": "stdout",
          "text": [
            "Skewness coefficient: 0.01658503486720721\n"
          ]
        }
      ]
    },
    {
      "cell_type": "code",
      "source": [
        "#FORMULA FOR CALCULATING SKEWNESS\n",
        "\n",
        "n = len(price_logs)  # Number of observations\n",
        "mean = np.mean(price_logs)\n",
        "std_dev = np.std(price_logs)\n",
        "# Summation of cubed differences normalized by standard deviation\n",
        "summation = 0\n",
        "for i in price_logs:\n",
        "    summation += ((i - mean) / std_dev) ** 3\n",
        "\n",
        "# Formula for skewness (Pearson's skewness formula with the scaling factor)\n",
        "skewness_manual = (n / ((n - 1) * (n - 2))) * summation\n",
        "\n",
        "print(f\"Skewness (manual calculation): {skewness_manual}\")"
      ],
      "metadata": {
        "colab": {
          "base_uri": "https://localhost:8080/"
        },
        "id": "LXqYLRlQcz-U",
        "outputId": "54fd5e62-82d3-4b8a-bd12-dedd5f8dabe0"
      },
      "execution_count": 17,
      "outputs": [
        {
          "output_type": "stream",
          "name": "stdout",
          "text": [
            "Skewness (manual calculation): 0.016608094545805186\n"
          ]
        }
      ]
    },
    {
      "cell_type": "code",
      "source": [
        "price_logs"
      ],
      "metadata": {
        "colab": {
          "base_uri": "https://localhost:8080/",
          "height": 458
        },
        "id": "S6Nb3oq1ct5b",
        "outputId": "4444b174-2a8a-4cfb-c9ee-fe17cc1ef296"
      },
      "execution_count": 18,
      "outputs": [
        {
          "output_type": "execute_result",
          "data": {
            "text/plain": [
              "0       2.630153\n",
              "1       2.388259\n",
              "2       2.583028\n",
              "3       2.662720\n",
              "4       2.550940\n",
              "          ...   \n",
              "2155    2.810938\n",
              "2156    2.823616\n",
              "2157    2.851635\n",
              "2158    2.747750\n",
              "2159    2.727447\n",
              "Name: final_price, Length: 2160, dtype: float64"
            ],
            "text/html": [
              "<div>\n",
              "<style scoped>\n",
              "    .dataframe tbody tr th:only-of-type {\n",
              "        vertical-align: middle;\n",
              "    }\n",
              "\n",
              "    .dataframe tbody tr th {\n",
              "        vertical-align: top;\n",
              "    }\n",
              "\n",
              "    .dataframe thead th {\n",
              "        text-align: right;\n",
              "    }\n",
              "</style>\n",
              "<table border=\"1\" class=\"dataframe\">\n",
              "  <thead>\n",
              "    <tr style=\"text-align: right;\">\n",
              "      <th></th>\n",
              "      <th>final_price</th>\n",
              "    </tr>\n",
              "  </thead>\n",
              "  <tbody>\n",
              "    <tr>\n",
              "      <th>0</th>\n",
              "      <td>2.630153</td>\n",
              "    </tr>\n",
              "    <tr>\n",
              "      <th>1</th>\n",
              "      <td>2.388259</td>\n",
              "    </tr>\n",
              "    <tr>\n",
              "      <th>2</th>\n",
              "      <td>2.583028</td>\n",
              "    </tr>\n",
              "    <tr>\n",
              "      <th>3</th>\n",
              "      <td>2.662720</td>\n",
              "    </tr>\n",
              "    <tr>\n",
              "      <th>4</th>\n",
              "      <td>2.550940</td>\n",
              "    </tr>\n",
              "    <tr>\n",
              "      <th>...</th>\n",
              "      <td>...</td>\n",
              "    </tr>\n",
              "    <tr>\n",
              "      <th>2155</th>\n",
              "      <td>2.810938</td>\n",
              "    </tr>\n",
              "    <tr>\n",
              "      <th>2156</th>\n",
              "      <td>2.823616</td>\n",
              "    </tr>\n",
              "    <tr>\n",
              "      <th>2157</th>\n",
              "      <td>2.851635</td>\n",
              "    </tr>\n",
              "    <tr>\n",
              "      <th>2158</th>\n",
              "      <td>2.747750</td>\n",
              "    </tr>\n",
              "    <tr>\n",
              "      <th>2159</th>\n",
              "      <td>2.727447</td>\n",
              "    </tr>\n",
              "  </tbody>\n",
              "</table>\n",
              "<p>2160 rows × 1 columns</p>\n",
              "</div><br><label><b>dtype:</b> float64</label>"
            ]
          },
          "metadata": {},
          "execution_count": 18
        }
      ]
    },
    {
      "cell_type": "code",
      "source": [
        "sns.histplot(price_logs,color='red',alpha=0.5,bins=50)"
      ],
      "metadata": {
        "colab": {
          "base_uri": "https://localhost:8080/",
          "height": 468
        },
        "id": "RDX2Yi4rXgYY",
        "outputId": "2712c281-726a-40ad-c8b8-263cc10b5311"
      },
      "execution_count": 19,
      "outputs": [
        {
          "output_type": "execute_result",
          "data": {
            "text/plain": [
              "<Axes: xlabel='final_price', ylabel='Count'>"
            ]
          },
          "metadata": {},
          "execution_count": 19
        },
        {
          "output_type": "display_data",
          "data": {
            "text/plain": [
              "<Figure size 640x480 with 1 Axes>"
            ],
            "image/png": "[encoded data removed]"
          },
          "metadata": {}
        }
      ]
    },
    {
      "cell_type": "markdown",
      "source": [
        "**2.There's one column with missing values. What is it?**"
      ],
      "metadata": {
        "id": "zzVfiJz_SgHL"
      }
    },
    {
      "cell_type": "code",
      "source": [
        "df.isnull().sum()"
      ],
      "metadata": {
        "colab": {
          "base_uri": "https://localhost:8080/",
          "height": 460
        },
        "id": "4A-fkyFMSfYO",
        "outputId": "da52190f-bb8d-4b9c-ba29-564bab2740b2"
      },
      "execution_count": 20,
      "outputs": [
        {
          "output_type": "execute_result",
          "data": {
            "text/plain": [
              "laptop             0\n",
              "status             0\n",
              "brand              0\n",
              "model              0\n",
              "cpu                0\n",
              "ram                0\n",
              "storage            0\n",
              "storage_type      42\n",
              "gpu             1371\n",
              "screen             4\n",
              "touch              0\n",
              "final_price        0\n",
              "dtype: int64"
            ],
            "text/html": [
              "<div>\n",
              "<style scoped>\n",
              "    .dataframe tbody tr th:only-of-type {\n",
              "        vertical-align: middle;\n",
              "    }\n",
              "\n",
              "    .dataframe tbody tr th {\n",
              "        vertical-align: top;\n",
              "    }\n",
              "\n",
              "    .dataframe thead th {\n",
              "        text-align: right;\n",
              "    }\n",
              "</style>\n",
              "<table border=\"1\" class=\"dataframe\">\n",
              "  <thead>\n",
              "    <tr style=\"text-align: right;\">\n",
              "      <th></th>\n",
              "      <th>0</th>\n",
              "    </tr>\n",
              "  </thead>\n",
              "  <tbody>\n",
              "    <tr>\n",
              "      <th>laptop</th>\n",
              "      <td>0</td>\n",
              "    </tr>\n",
              "    <tr>\n",
              "      <th>status</th>\n",
              "      <td>0</td>\n",
              "    </tr>\n",
              "    <tr>\n",
              "      <th>brand</th>\n",
              "      <td>0</td>\n",
              "    </tr>\n",
              "    <tr>\n",
              "      <th>model</th>\n",
              "      <td>0</td>\n",
              "    </tr>\n",
              "    <tr>\n",
              "      <th>cpu</th>\n",
              "      <td>0</td>\n",
              "    </tr>\n",
              "    <tr>\n",
              "      <th>ram</th>\n",
              "      <td>0</td>\n",
              "    </tr>\n",
              "    <tr>\n",
              "      <th>storage</th>\n",
              "      <td>0</td>\n",
              "    </tr>\n",
              "    <tr>\n",
              "      <th>storage_type</th>\n",
              "      <td>42</td>\n",
              "    </tr>\n",
              "    <tr>\n",
              "      <th>gpu</th>\n",
              "      <td>1371</td>\n",
              "    </tr>\n",
              "    <tr>\n",
              "      <th>screen</th>\n",
              "      <td>4</td>\n",
              "    </tr>\n",
              "    <tr>\n",
              "      <th>touch</th>\n",
              "      <td>0</td>\n",
              "    </tr>\n",
              "    <tr>\n",
              "      <th>final_price</th>\n",
              "      <td>0</td>\n",
              "    </tr>\n",
              "  </tbody>\n",
              "</table>\n",
              "</div><br><label><b>dtype:</b> int64</label>"
            ]
          },
          "metadata": {},
          "execution_count": 20
        }
      ]
    },
    {
      "cell_type": "code",
      "source": [
        "#2.What's the median (50% percentile) for variable 'ram'?\n",
        "\n",
        "df['ram'].median() #Median ->first sort it in ascending/descending order then find the middle value 50% below it 50% abv it"
      ],
      "metadata": {
        "colab": {
          "base_uri": "https://localhost:8080/"
        },
        "id": "bQrxkOnXXWE_",
        "outputId": "59c80183-64bb-40d3-9483-ebeb08523061"
      },
      "execution_count": 21,
      "outputs": [
        {
          "output_type": "execute_result",
          "data": {
            "text/plain": [
              "16.0"
            ]
          },
          "metadata": {},
          "execution_count": 21
        }
      ]
    },
    {
      "cell_type": "code",
      "source": [],
      "metadata": {
        "id": "swM7PkbzXW2H"
      },
      "execution_count": 21,
      "outputs": []
    },
    {
      "cell_type": "markdown",
      "source": [
        "Skewness\n",
        "\n",
        "```\n",
        "Values of skewness that are between -0.5 and +0.5 are often considered to show a distribution that is close to normal.\n",
        "\n",
        "Interpretation of Skewness:\n",
        "\n",
        "Skewness ≈ 0: Indicates a symmetric distribution, which is what you generally want for a normal distribution.\n",
        "Skewness > 0 (positive skewness): Indicates a distribution where the right tail is longer or more spread out than the left tail.\n",
        "Skewness < 0 (negative skewness): Indicates a distribution where the left tail is longer or more spread out than the right tail.\n",
        "\n",
        "```"
      ],
      "metadata": {
        "id": "mo_EibaNWYo7"
      }
    },
    {
      "cell_type": "markdown",
      "source": [
        "```\n",
        "Perfect normal distribution: Skewness = 0\n",
        "Slight right skewness: 0 < skewness < 0.5\n",
        "Slight left skewness: -0.5 < skewness < 0\n",
        "\n",
        "```"
      ],
      "metadata": {
        "id": "JQTuBboCEr4M"
      }
    },
    {
      "cell_type": "markdown",
      "source": [
        "![image.png](data:image/png;base64,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)\n",
        "\n",
        "\n",
        "\n",
        "```\n",
        "df['transformed'] = 1 / df['column_name']\n",
        "\n",
        "\n",
        "```"
      ],
      "metadata": {
        "id": "j44yBys7XIxt"
      }
    },
    {
      "cell_type": "code",
      "source": [],
      "metadata": {
        "id": "hcbR0i0PWisj"
      },
      "execution_count": 21,
      "outputs": []
    },
    {
      "cell_type": "markdown",
      "source": [
        "# Setting Up Validation Framework (Train Val Test)"
      ],
      "metadata": {
        "id": "TcHdAGE3XyaH"
      }
    },
    {
      "cell_type": "code",
      "source": [
        "len(df)"
      ],
      "metadata": {
        "colab": {
          "base_uri": "https://localhost:8080/"
        },
        "id": "EOontSGBX4_M",
        "outputId": "5b353736-917d-485a-96b9-8a374354d2c6"
      },
      "execution_count": 111,
      "outputs": [
        {
          "output_type": "execute_result",
          "data": {
            "text/plain": [
              "2160"
            ]
          },
          "metadata": {},
          "execution_count": 111
        }
      ]
    },
    {
      "cell_type": "code",
      "source": [
        "#Train=60% rest 20%\n",
        "\n",
        "n=len(df)\n",
        "n_val=int(0.2*n)\n",
        "n_test=int(0.2*n)\n",
        "n_train=n-(n_val+n_test) #0.2=20%"
      ],
      "metadata": {
        "id": "UQRoWsufX9RD"
      },
      "execution_count": 112,
      "outputs": []
    },
    {
      "cell_type": "code",
      "source": [
        "n,n_train+n_test+n_val"
      ],
      "metadata": {
        "colab": {
          "base_uri": "https://localhost:8080/"
        },
        "id": "kZkOrEvQYWdj",
        "outputId": "12425d95-02a8-42eb-909c-f31b09b75459"
      },
      "execution_count": 113,
      "outputs": [
        {
          "output_type": "execute_result",
          "data": {
            "text/plain": [
              "(2160, 2160)"
            ]
          },
          "metadata": {},
          "execution_count": 113
        }
      ]
    },
    {
      "cell_type": "markdown",
      "source": [
        "**1.Shuffle the records**"
      ],
      "metadata": {
        "id": "NMeKSo6hYgox"
      }
    },
    {
      "cell_type": "code",
      "source": [
        "index=np.arange(n)\n",
        "index"
      ],
      "metadata": {
        "colab": {
          "base_uri": "https://localhost:8080/"
        },
        "id": "dXUI_pflYZ77",
        "outputId": "565e5edd-b9e0-4059-dd7b-f30c73f0658a"
      },
      "execution_count": 114,
      "outputs": [
        {
          "output_type": "execute_result",
          "data": {
            "text/plain": [
              "array([   0,    1,    2, ..., 2157, 2158, 2159])"
            ]
          },
          "metadata": {},
          "execution_count": 114
        }
      ]
    },
    {
      "cell_type": "code",
      "source": [
        "np.random.seed(42)\n",
        "np.random.shuffle(index)"
      ],
      "metadata": {
        "id": "MfNaec6MYkwD"
      },
      "execution_count": 115,
      "outputs": []
    },
    {
      "cell_type": "code",
      "source": [
        "#Creating train,val,test frameworks\n",
        "\n",
        "df_train=df.iloc[index[:n_train]]\n",
        "df_val=df.iloc[index[n_train:n_train+n_val]]\n",
        "df_test=df.iloc[index[n_train+n_val:]]"
      ],
      "metadata": {
        "id": "NvPqNaczYnPG"
      },
      "execution_count": 116,
      "outputs": []
    },
    {
      "cell_type": "code",
      "source": [
        "df_train.head()"
      ],
      "metadata": {
        "colab": {
          "base_uri": "https://localhost:8080/",
          "height": 226
        },
        "id": "Tpz9J7GmY70l",
        "outputId": "eb7f7a4e-cade-479e-d728-3c39ff2b91f5"
      },
      "execution_count": 117,
      "outputs": [
        {
          "output_type": "execute_result",
          "data": {
            "text/plain": [
              "                                                 laptop       status    brand  \\\n",
              "2079  msi_modern_15_a11sbu-620xes_intel_core_i7-1165...  refurbished      msi   \n",
              "668   thomson_neo_white_intel_celeron_n4020/4gb/64gb...          new  thomson   \n",
              "2073  msi_modern_14_b11sb-420xes_intel_core_i7-1165g...  refurbished      msi   \n",
              "1113  asus_zenbook_13_oled_ux325ea_intel_evo_core_i7...          new     asus   \n",
              "788   acer_predator_triton_500_se_pt516-51s-75k6_int...          new     acer   \n",
              "\n",
              "         model                cpu  ram  storage storage_type       gpu  \\\n",
              "2079    modern      intel_core_i7   32     1000          ssd    mx_450   \n",
              "668        neo      intel_celeron    4       64         emmc       NaN   \n",
              "2073    modern      intel_core_i7   32     1000          ssd    mx_450   \n",
              "1113   zenbook  intel_evo_core_i7   16      512          ssd       NaN   \n",
              "788   predator      intel_core_i7   32     1000          ssd  rtx_3080   \n",
              "\n",
              "      screen touch  final_price  \n",
              "2079    15.6    no      1123.29  \n",
              "668     14.1    no       201.05  \n",
              "2073    14.0    no       997.74  \n",
              "1113    13.3    no      1016.00  \n",
              "788     16.0    no      2739.00  "
            ],
            "text/html": [
              "\n",
              "  <div id=\"df-206f2607-9149-47bb-988a-33fb63ab0a62\" class=\"colab-df-container\">\n",
              "    <div>\n",
              "<style scoped>\n",
              "    .dataframe tbody tr th:only-of-type {\n",
              "        vertical-align: middle;\n",
              "    }\n",
              "\n",
              "    .dataframe tbody tr th {\n",
              "        vertical-align: top;\n",
              "    }\n",
              "\n",
              "    .dataframe thead th {\n",
              "        text-align: right;\n",
              "    }\n",
              "</style>\n",
              "<table border=\"1\" class=\"dataframe\">\n",
              "  <thead>\n",
              "    <tr style=\"text-align: right;\">\n",
              "      <th></th>\n",
              "      <th>laptop</th>\n",
              "      <th>status</th>\n",
              "      <th>brand</th>\n",
              "      <th>model</th>\n",
              "      <th>cpu</th>\n",
              "      <th>ram</th>\n",
              "      <th>storage</th>\n",
              "      <th>storage_type</th>\n",
              "      <th>gpu</th>\n",
              "      <th>screen</th>\n",
              "      <th>touch</th>\n",
              "      <th>final_price</th>\n",
              "    </tr>\n",
              "  </thead>\n",
              "  <tbody>\n",
              "    <tr>\n",
              "      <th>2079</th>\n",
              "      <td>msi_modern_15_a11sbu-620xes_intel_core_i7-1165...</td>\n",
              "      <td>refurbished</td>\n",
              "      <td>msi</td>\n",
              "      <td>modern</td>\n",
              "      <td>intel_core_i7</td>\n",
              "      <td>32</td>\n",
              "      <td>1000</td>\n",
              "      <td>ssd</td>\n",
              "      <td>mx_450</td>\n",
              "      <td>15.6</td>\n",
              "      <td>no</td>\n",
              "      <td>1123.29</td>\n",
              "    </tr>\n",
              "    <tr>\n",
              "      <th>668</th>\n",
              "      <td>thomson_neo_white_intel_celeron_n4020/4gb/64gb...</td>\n",
              "      <td>new</td>\n",
              "      <td>thomson</td>\n",
              "      <td>neo</td>\n",
              "      <td>intel_celeron</td>\n",
              "      <td>4</td>\n",
              "      <td>64</td>\n",
              "      <td>emmc</td>\n",
              "      <td>NaN</td>\n",
              "      <td>14.1</td>\n",
              "      <td>no</td>\n",
              "      <td>201.05</td>\n",
              "    </tr>\n",
              "    <tr>\n",
              "      <th>2073</th>\n",
              "      <td>msi_modern_14_b11sb-420xes_intel_core_i7-1165g...</td>\n",
              "      <td>refurbished</td>\n",
              "      <td>msi</td>\n",
              "      <td>modern</td>\n",
              "      <td>intel_core_i7</td>\n",
              "      <td>32</td>\n",
              "      <td>1000</td>\n",
              "      <td>ssd</td>\n",
              "      <td>mx_450</td>\n",
              "      <td>14.0</td>\n",
              "      <td>no</td>\n",
              "      <td>997.74</td>\n",
              "    </tr>\n",
              "    <tr>\n",
              "      <th>1113</th>\n",
              "      <td>asus_zenbook_13_oled_ux325ea_intel_evo_core_i7...</td>\n",
              "      <td>new</td>\n",
              "      <td>asus</td>\n",
              "      <td>zenbook</td>\n",
              "      <td>intel_evo_core_i7</td>\n",
              "      <td>16</td>\n",
              "      <td>512</td>\n",
              "      <td>ssd</td>\n",
              "      <td>NaN</td>\n",
              "      <td>13.3</td>\n",
              "      <td>no</td>\n",
              "      <td>1016.00</td>\n",
              "    </tr>\n",
              "    <tr>\n",
              "      <th>788</th>\n",
              "      <td>acer_predator_triton_500_se_pt516-51s-75k6_int...</td>\n",
              "      <td>new</td>\n",
              "      <td>acer</td>\n",
              "      <td>predator</td>\n",
              "      <td>intel_core_i7</td>\n",
              "      <td>32</td>\n",
              "      <td>1000</td>\n",
              "      <td>ssd</td>\n",
              "      <td>rtx_3080</td>\n",
              "      <td>16.0</td>\n",
              "      <td>no</td>\n",
              "      <td>2739.00</td>\n",
              "    </tr>\n",
              "  </tbody>\n",
              "</table>\n",
              "</div>\n",
              "    <div class=\"colab-df-buttons\">\n",
              "\n",
              "  <div class=\"colab-df-container\">\n",
              "    <button class=\"colab-df-convert\" onclick=\"convertToInteractive('df-206f2607-9149-47bb-988a-33fb63ab0a62')\"\n",
              "            title=\"Convert this dataframe to an interactive table.\"\n",
              "            style=\"display:none;\">\n",
              "\n",
              "  <svg xmlns=\"http://www.w3.org/2000/svg\" height=\"24px\" viewBox=\"0 -960 960 960\">\n",
              "    <path d=\"M120-120v-720h720v720H120Zm60-500h600v-160H180v160Zm220 220h160v-160H400v160Zm0 220h160v-160H400v160ZM180-400h160v-160H180v160Zm440 0h160v-160H620v160ZM180-180h160v-160H180v160Zm440 0h160v-160H620v160Z\"/>\n",
              "  </svg>\n",
              "    </button>\n",
              "\n",
              "  <style>\n",
              "    .colab-df-container {\n",
              "      display:flex;\n",
              "      gap: 12px;\n",
              "    }\n",
              "\n",
              "    .colab-df-convert {\n",
              "      background-color: #E8F0FE;\n",
              "      border: none;\n",
              "      border-radius: 50%;\n",
              "      cursor: pointer;\n",
              "      display: none;\n",
              "      fill: #1967D2;\n",
              "      height: 32px;\n",
              "      padding: 0 0 0 0;\n",
              "      width: 32px;\n",
              "    }\n",
              "\n",
              "    .colab-df-convert:hover {\n",
              "      background-color: #E2EBFA;\n",
              "      box-shadow: 0px 1px 2px rgba(60, 64, 67, 0.3), 0px 1px 3px 1px rgba(60, 64, 67, 0.15);\n",
              "      fill: #174EA6;\n",
              "    }\n",
              "\n",
              "    .colab-df-buttons div {\n",
              "      margin-bottom: 4px;\n",
              "    }\n",
              "\n",
              "    [theme=dark] .colab-df-convert {\n",
              "      background-color: #3B4455;\n",
              "      fill: #D2E3FC;\n",
              "    }\n",
              "\n",
              "    [theme=dark] .colab-df-convert:hover {\n",
              "      background-color: #434B5C;\n",
              "      box-shadow: 0px 1px 3px 1px rgba(0, 0, 0, 0.15);\n",
              "      filter: drop-shadow(0px 1px 2px rgba(0, 0, 0, 0.3));\n",
              "      fill: #FFFFFF;\n",
              "    }\n",
              "  </style>\n",
              "\n",
              "    <script>\n",
              "      const buttonEl =\n",
              "        document.querySelector('#df-206f2607-9149-47bb-988a-33fb63ab0a62 button.colab-df-convert');\n",
              "      buttonEl.style.display =\n",
              "        google.colab.kernel.accessAllowed ? 'block' : 'none';\n",
              "\n",
              "      async function convertToInteractive(key) {\n",
              "        const element = document.querySelector('#df-206f2607-9149-47bb-988a-33fb63ab0a62');\n",
              "        const dataTable =\n",
              "          await google.colab.kernel.invokeFunction('convertToInteractive',\n",
              "                                                    [key], {});\n",
              "        if (!dataTable) return;\n",
              "\n",
              "        const docLinkHtml = 'Like what you see? Visit the ' +\n",
              "          '<a target=\"_blank\" href=https://colab.research.google.com/notebooks/data_table.ipynb>data table notebook</a>'\n",
              "          + ' to learn more about interactive tables.';\n",
              "        element.innerHTML = '';\n",
              "        dataTable['output_type'] = 'display_data';\n",
              "        await google.colab.output.renderOutput(dataTable, element);\n",
              "        const docLink = document.createElement('div');\n",
              "        docLink.innerHTML = docLinkHtml;\n",
              "        element.appendChild(docLink);\n",
              "      }\n",
              "    </script>\n",
              "  </div>\n",
              "\n",
              "\n",
              "<div id=\"df-95bc0f78-0a07-43b9-8b48-70559315b6d6\">\n",
              "  <button class=\"colab-df-quickchart\" onclick=\"quickchart('df-95bc0f78-0a07-43b9-8b48-70559315b6d6')\"\n",
              "            title=\"Suggest charts\"\n",
              "            style=\"display:none;\">\n",
              "\n",
              "<svg xmlns=\"http://www.w3.org/2000/svg\" height=\"24px\"viewBox=\"0 0 24 24\"\n",
              "     width=\"24px\">\n",
              "    <g>\n",
              "        <path d=\"M19 3H5c-1.1 0-2 .9-2 2v14c0 1.1.9 2 2 2h14c1.1 0 2-.9 2-2V5c0-1.1-.9-2-2-2zM9 17H7v-7h2v7zm4 0h-2V7h2v10zm4 0h-2v-4h2v4z\"/>\n",
              "    </g>\n",
              "</svg>\n",
              "  </button>\n",
              "\n",
              "<style>\n",
              "  .colab-df-quickchart {\n",
              "      --bg-color: #E8F0FE;\n",
              "      --fill-color: #1967D2;\n",
              "      --hover-bg-color: #E2EBFA;\n",
              "      --hover-fill-color: #174EA6;\n",
              "      --disabled-fill-color: #AAA;\n",
              "      --disabled-bg-color: #DDD;\n",
              "  }\n",
              "\n",
              "  [theme=dark] .colab-df-quickchart {\n",
              "      --bg-color: #3B4455;\n",
              "      --fill-color: #D2E3FC;\n",
              "      --hover-bg-color: #434B5C;\n",
              "      --hover-fill-color: #FFFFFF;\n",
              "      --disabled-bg-color: #3B4455;\n",
              "      --disabled-fill-color: #666;\n",
              "  }\n",
              "\n",
              "  .colab-df-quickchart {\n",
              "    background-color: var(--bg-color);\n",
              "    border: none;\n",
              "    border-radius: 50%;\n",
              "    cursor: pointer;\n",
              "    display: none;\n",
              "    fill: var(--fill-color);\n",
              "    height: 32px;\n",
              "    padding: 0;\n",
              "    width: 32px;\n",
              "  }\n",
              "\n",
              "  .colab-df-quickchart:hover {\n",
              "    background-color: var(--hover-bg-color);\n",
              "    box-shadow: 0 1px 2px rgba(60, 64, 67, 0.3), 0 1px 3px 1px rgba(60, 64, 67, 0.15);\n",
              "    fill: var(--button-hover-fill-color);\n",
              "  }\n",
              "\n",
              "  .colab-df-quickchart-complete:disabled,\n",
              "  .colab-df-quickchart-complete:disabled:hover {\n",
              "    background-color: var(--disabled-bg-color);\n",
              "    fill: var(--disabled-fill-color);\n",
              "    box-shadow: none;\n",
              "  }\n",
              "\n",
              "  .colab-df-spinner {\n",
              "    border: 2px solid var(--fill-color);\n",
              "    border-color: transparent;\n",
              "    border-bottom-color: var(--fill-color);\n",
              "    animation:\n",
              "      spin 1s steps(1) infinite;\n",
              "  }\n",
              "\n",
              "  @keyframes spin {\n",
              "    0% {\n",
              "      border-color: transparent;\n",
              "      border-bottom-color: var(--fill-color);\n",
              "      border-left-color: var(--fill-color);\n",
              "    }\n",
              "    20% {\n",
              "      border-color: transparent;\n",
              "      border-left-color: var(--fill-color);\n",
              "      border-top-color: var(--fill-color);\n",
              "    }\n",
              "    30% {\n",
              "      border-color: transparent;\n",
              "      border-left-color: var(--fill-color);\n",
              "      border-top-color: var(--fill-color);\n",
              "      border-right-color: var(--fill-color);\n",
              "    }\n",
              "    40% {\n",
              "      border-color: transparent;\n",
              "      border-right-color: var(--fill-color);\n",
              "      border-top-color: var(--fill-color);\n",
              "    }\n",
              "    60% {\n",
              "      border-color: transparent;\n",
              "      border-right-color: var(--fill-color);\n",
              "    }\n",
              "    80% {\n",
              "      border-color: transparent;\n",
              "      border-right-color: var(--fill-color);\n",
              "      border-bottom-color: var(--fill-color);\n",
              "    }\n",
              "    90% {\n",
              "      border-color: transparent;\n",
              "      border-bottom-color: var(--fill-color);\n",
              "    }\n",
              "  }\n",
              "</style>\n",
              "\n",
              "  <script>\n",
              "    async function quickchart(key) {\n",
              "      const quickchartButtonEl =\n",
              "        document.querySelector('#' + key + ' button');\n",
              "      quickchartButtonEl.disabled = true;  // To prevent multiple clicks.\n",
              "      quickchartButtonEl.classList.add('colab-df-spinner');\n",
              "      try {\n",
              "        const charts = await google.colab.kernel.invokeFunction(\n",
              "            'suggestCharts', [key], {});\n",
              "      } catch (error) {\n",
              "        console.error('Error during call to suggestCharts:', error);\n",
              "      }\n",
              "      quickchartButtonEl.classList.remove('colab-df-spinner');\n",
              "      quickchartButtonEl.classList.add('colab-df-quickchart-complete');\n",
              "    }\n",
              "    (() => {\n",
              "      let quickchartButtonEl =\n",
              "        document.querySelector('#df-95bc0f78-0a07-43b9-8b48-70559315b6d6 button');\n",
              "      quickchartButtonEl.style.display =\n",
              "        google.colab.kernel.accessAllowed ? 'block' : 'none';\n",
              "    })();\n",
              "  </script>\n",
              "</div>\n",
              "\n",
              "    </div>\n",
              "  </div>\n"
            ],
            "application/vnd.google.colaboratory.intrinsic+json": {
              "type": "dataframe",
              "variable_name": "df_train",
              "summary": "{\n  \"name\": \"df_train\",\n  \"rows\": 1296,\n  \"fields\": [\n    {\n      \"column\": \"laptop\",\n      \"properties\": {\n        \"dtype\": \"string\",\n        \"num_unique_values\": 1296,\n        \"samples\": [\n          \"hp_15s-fq4107ns_intel_core_i5-1155g7/8gb/512gb_ssd/15.6\\\"\",\n          \"asus_rog_zephyrus_g14_ga401ii-he004t_amd_ryzen_7_4800hs/16gb/1tb_ssd/gtx_1650ti/14\\\"\",\n          \"msi_titan_gt77_hx_13vi-007es_intel_core_i9-13980hx/64gb/2tb_ssd/rtx_4090/17.3\\\"\"\n        ],\n        \"semantic_type\": \"\",\n        \"description\": \"\"\n      }\n    },\n    {\n      \"column\": \"status\",\n      \"properties\": {\n        \"dtype\": \"category\",\n        \"num_unique_values\": 2,\n        \"samples\": [\n          \"new\",\n          \"refurbished\"\n        ],\n        \"semantic_type\": \"\",\n        \"description\": \"\"\n      }\n    },\n    {\n      \"column\": \"brand\",\n      \"properties\": {\n        \"dtype\": \"category\",\n        \"num_unique_values\": 25,\n        \"samples\": [\n          \"microsoft\",\n          \"pccom\"\n        ],\n        \"semantic_type\": \"\",\n        \"description\": \"\"\n      }\n    },\n    {\n      \"column\": \"model\",\n      \"properties\": {\n        \"dtype\": \"category\",\n        \"num_unique_values\": 113,\n        \"samples\": [\n          \"thin\",\n          \"rog\"\n        ],\n        \"semantic_type\": \"\",\n        \"description\": \"\"\n      }\n    },\n    {\n      \"column\": \"cpu\",\n      \"properties\": {\n        \"dtype\": \"category\",\n        \"num_unique_values\": 24,\n        \"samples\": [\n          \"amd_ryzen_3\",\n          \"apple_m2_pro\"\n        ],\n        \"semantic_type\": \"\",\n        \"description\": \"\"\n      }\n    },\n    {\n      \"column\": \"ram\",\n      \"properties\": {\n        \"dtype\": \"number\",\n        \"std\": 10,\n        \"min\": 4,\n        \"max\": 128,\n        \"num_unique_values\": 9,\n        \"samples\": [\n          6,\n          4\n        ],\n        \"semantic_type\": \"\",\n        \"description\": \"\"\n      }\n    },\n    {\n      \"column\": \"storage\",\n      \"properties\": {\n        \"dtype\": \"number\",\n        \"std\": 378,\n        \"min\": 32,\n        \"max\": 4000,\n        \"num_unique_values\": 11,\n        \"samples\": [\n          256,\n          1000\n        ],\n        \"semantic_type\": \"\",\n        \"description\": \"\"\n      }\n    },\n    {\n      \"column\": \"storage_type\",\n      \"properties\": {\n        \"dtype\": \"category\",\n        \"num_unique_values\": 2,\n        \"samples\": [\n          \"emmc\",\n          \"ssd\"\n        ],\n        \"semantic_type\": \"\",\n        \"description\": \"\"\n      }\n    },\n    {\n      \"column\": \"gpu\",\n      \"properties\": {\n        \"dtype\": \"category\",\n        \"num_unique_values\": 38,\n        \"samples\": [\n          \"a_370m\",\n          \"t_1200\"\n        ],\n        \"semantic_type\": \"\",\n        \"description\": \"\"\n      }\n    },\n    {\n      \"column\": \"screen\",\n      \"properties\": {\n        \"dtype\": \"number\",\n        \"std\": 1.2333765064218012,\n        \"min\": 10.1,\n        \"max\": 18.0,\n        \"num_unique_values\": 28,\n        \"samples\": [\n          14.2,\n          12.5\n        ],\n        \"semantic_type\": \"\",\n        \"description\": \"\"\n      }\n    },\n    {\n      \"column\": \"touch\",\n      \"properties\": {\n        \"dtype\": \"category\",\n        \"num_unique_values\": 2,\n        \"samples\": [\n          \"yes\",\n          \"no\"\n        ],\n        \"semantic_type\": \"\",\n        \"description\": \"\"\n      }\n    },\n    {\n      \"column\": \"final_price\",\n      \"properties\": {\n        \"dtype\": \"number\",\n        \"std\": 937.7524391067687,\n        \"min\": 201.05,\n        \"max\": 5999.0,\n        \"num_unique_values\": 925,\n        \"samples\": [\n          659.44,\n          2243.18\n        ],\n        \"semantic_type\": \"\",\n        \"description\": \"\"\n      }\n    }\n  ]\n}"
            }
          },
          "metadata": {},
          "execution_count": 117
        }
      ]
    },
    {
      "cell_type": "code",
      "source": [
        "len(df_train),len(df_val),len(df_test)"
      ],
      "metadata": {
        "colab": {
          "base_uri": "https://localhost:8080/"
        },
        "id": "vckCf7ekY_gO",
        "outputId": "db316f2d-c645-4b7f-b2d3-1a9839c00647"
      },
      "execution_count": 118,
      "outputs": [
        {
          "output_type": "execute_result",
          "data": {
            "text/plain": [
              "(1296, 432, 432)"
            ]
          },
          "metadata": {},
          "execution_count": 118
        }
      ]
    },
    {
      "cell_type": "code",
      "source": [
        "#Reset the indices of each dataframe\n",
        "\n",
        "df_train=df_train.reset_index(drop=True)\n",
        "df_val=df_val.reset_index(drop=True)\n",
        "df_test=df_test.reset_index(drop=True)"
      ],
      "metadata": {
        "id": "nde7KckPZKS_"
      },
      "execution_count": 119,
      "outputs": []
    },
    {
      "cell_type": "code",
      "source": [
        "df_train.head()"
      ],
      "metadata": {
        "colab": {
          "base_uri": "https://localhost:8080/",
          "height": 226
        },
        "id": "XN0Nyi7uZOin",
        "outputId": "3274d39d-37d3-4509-90f8-4271bc0b19ce"
      },
      "execution_count": 120,
      "outputs": [
        {
          "output_type": "execute_result",
          "data": {
            "text/plain": [
              "                                              laptop       status    brand  \\\n",
              "0  msi_modern_15_a11sbu-620xes_intel_core_i7-1165...  refurbished      msi   \n",
              "1  thomson_neo_white_intel_celeron_n4020/4gb/64gb...          new  thomson   \n",
              "2  msi_modern_14_b11sb-420xes_intel_core_i7-1165g...  refurbished      msi   \n",
              "3  asus_zenbook_13_oled_ux325ea_intel_evo_core_i7...          new     asus   \n",
              "4  acer_predator_triton_500_se_pt516-51s-75k6_int...          new     acer   \n",
              "\n",
              "      model                cpu  ram  storage storage_type       gpu  screen  \\\n",
              "0    modern      intel_core_i7   32     1000          ssd    mx_450    15.6   \n",
              "1       neo      intel_celeron    4       64         emmc       NaN    14.1   \n",
              "2    modern      intel_core_i7   32     1000          ssd    mx_450    14.0   \n",
              "3   zenbook  intel_evo_core_i7   16      512          ssd       NaN    13.3   \n",
              "4  predator      intel_core_i7   32     1000          ssd  rtx_3080    16.0   \n",
              "\n",
              "  touch  final_price  \n",
              "0    no      1123.29  \n",
              "1    no       201.05  \n",
              "2    no       997.74  \n",
              "3    no      1016.00  \n",
              "4    no      2739.00  "
            ],
            "text/html": [
              "\n",
              "  <div id=\"df-7ae7f4cf-a0b6-4824-b32a-1d5f2951d452\" class=\"colab-df-container\">\n",
              "    <div>\n",
              "<style scoped>\n",
              "    .dataframe tbody tr th:only-of-type {\n",
              "        vertical-align: middle;\n",
              "    }\n",
              "\n",
              "    .dataframe tbody tr th {\n",
              "        vertical-align: top;\n",
              "    }\n",
              "\n",
              "    .dataframe thead th {\n",
              "        text-align: right;\n",
              "    }\n",
              "</style>\n",
              "<table border=\"1\" class=\"dataframe\">\n",
              "  <thead>\n",
              "    <tr style=\"text-align: right;\">\n",
              "      <th></th>\n",
              "      <th>laptop</th>\n",
              "      <th>status</th>\n",
              "      <th>brand</th>\n",
              "      <th>model</th>\n",
              "      <th>cpu</th>\n",
              "      <th>ram</th>\n",
              "      <th>storage</th>\n",
              "      <th>storage_type</th>\n",
              "      <th>gpu</th>\n",
              "      <th>screen</th>\n",
              "      <th>touch</th>\n",
              "      <th>final_price</th>\n",
              "    </tr>\n",
              "  </thead>\n",
              "  <tbody>\n",
              "    <tr>\n",
              "      <th>0</th>\n",
              "      <td>msi_modern_15_a11sbu-620xes_intel_core_i7-1165...</td>\n",
              "      <td>refurbished</td>\n",
              "      <td>msi</td>\n",
              "      <td>modern</td>\n",
              "      <td>intel_core_i7</td>\n",
              "      <td>32</td>\n",
              "      <td>1000</td>\n",
              "      <td>ssd</td>\n",
              "      <td>mx_450</td>\n",
              "      <td>15.6</td>\n",
              "      <td>no</td>\n",
              "      <td>1123.29</td>\n",
              "    </tr>\n",
              "    <tr>\n",
              "      <th>1</th>\n",
              "      <td>thomson_neo_white_intel_celeron_n4020/4gb/64gb...</td>\n",
              "      <td>new</td>\n",
              "      <td>thomson</td>\n",
              "      <td>neo</td>\n",
              "      <td>intel_celeron</td>\n",
              "      <td>4</td>\n",
              "      <td>64</td>\n",
              "      <td>emmc</td>\n",
              "      <td>NaN</td>\n",
              "      <td>14.1</td>\n",
              "      <td>no</td>\n",
              "      <td>201.05</td>\n",
              "    </tr>\n",
              "    <tr>\n",
              "      <th>2</th>\n",
              "      <td>msi_modern_14_b11sb-420xes_intel_core_i7-1165g...</td>\n",
              "      <td>refurbished</td>\n",
              "      <td>msi</td>\n",
              "      <td>modern</td>\n",
              "      <td>intel_core_i7</td>\n",
              "      <td>32</td>\n",
              "      <td>1000</td>\n",
              "      <td>ssd</td>\n",
              "      <td>mx_450</td>\n",
              "      <td>14.0</td>\n",
              "      <td>no</td>\n",
              "      <td>997.74</td>\n",
              "    </tr>\n",
              "    <tr>\n",
              "      <th>3</th>\n",
              "      <td>asus_zenbook_13_oled_ux325ea_intel_evo_core_i7...</td>\n",
              "      <td>new</td>\n",
              "      <td>asus</td>\n",
              "      <td>zenbook</td>\n",
              "      <td>intel_evo_core_i7</td>\n",
              "      <td>16</td>\n",
              "      <td>512</td>\n",
              "      <td>ssd</td>\n",
              "      <td>NaN</td>\n",
              "      <td>13.3</td>\n",
              "      <td>no</td>\n",
              "      <td>1016.00</td>\n",
              "    </tr>\n",
              "    <tr>\n",
              "      <th>4</th>\n",
              "      <td>acer_predator_triton_500_se_pt516-51s-75k6_int...</td>\n",
              "      <td>new</td>\n",
              "      <td>acer</td>\n",
              "      <td>predator</td>\n",
              "      <td>intel_core_i7</td>\n",
              "      <td>32</td>\n",
              "      <td>1000</td>\n",
              "      <td>ssd</td>\n",
              "      <td>rtx_3080</td>\n",
              "      <td>16.0</td>\n",
              "      <td>no</td>\n",
              "      <td>2739.00</td>\n",
              "    </tr>\n",
              "  </tbody>\n",
              "</table>\n",
              "</div>\n",
              "    <div class=\"colab-df-buttons\">\n",
              "\n",
              "  <div class=\"colab-df-container\">\n",
              "    <button class=\"colab-df-convert\" onclick=\"convertToInteractive('df-7ae7f4cf-a0b6-4824-b32a-1d5f2951d452')\"\n",
              "            title=\"Convert this dataframe to an interactive table.\"\n",
              "            style=\"display:none;\">\n",
              "\n",
              "  <svg xmlns=\"http://www.w3.org/2000/svg\" height=\"24px\" viewBox=\"0 -960 960 960\">\n",
              "    <path d=\"M120-120v-720h720v720H120Zm60-500h600v-160H180v160Zm220 220h160v-160H400v160Zm0 220h160v-160H400v160ZM180-400h160v-160H180v160Zm440 0h160v-160H620v160ZM180-180h160v-160H180v160Zm440 0h160v-160H620v160Z\"/>\n",
              "  </svg>\n",
              "    </button>\n",
              "\n",
              "  <style>\n",
              "    .colab-df-container {\n",
              "      display:flex;\n",
              "      gap: 12px;\n",
              "    }\n",
              "\n",
              "    .colab-df-convert {\n",
              "      background-color: #E8F0FE;\n",
              "      border: none;\n",
              "      border-radius: 50%;\n",
              "      cursor: pointer;\n",
              "      display: none;\n",
              "      fill: #1967D2;\n",
              "      height: 32px;\n",
              "      padding: 0 0 0 0;\n",
              "      width: 32px;\n",
              "    }\n",
              "\n",
              "    .colab-df-convert:hover {\n",
              "      background-color: #E2EBFA;\n",
              "      box-shadow: 0px 1px 2px rgba(60, 64, 67, 0.3), 0px 1px 3px 1px rgba(60, 64, 67, 0.15);\n",
              "      fill: #174EA6;\n",
              "    }\n",
              "\n",
              "    .colab-df-buttons div {\n",
              "      margin-bottom: 4px;\n",
              "    }\n",
              "\n",
              "    [theme=dark] .colab-df-convert {\n",
              "      background-color: #3B4455;\n",
              "      fill: #D2E3FC;\n",
              "    }\n",
              "\n",
              "    [theme=dark] .colab-df-convert:hover {\n",
              "      background-color: #434B5C;\n",
              "      box-shadow: 0px 1px 3px 1px rgba(0, 0, 0, 0.15);\n",
              "      filter: drop-shadow(0px 1px 2px rgba(0, 0, 0, 0.3));\n",
              "      fill: #FFFFFF;\n",
              "    }\n",
              "  </style>\n",
              "\n",
              "    <script>\n",
              "      const buttonEl =\n",
              "        document.querySelector('#df-7ae7f4cf-a0b6-4824-b32a-1d5f2951d452 button.colab-df-convert');\n",
              "      buttonEl.style.display =\n",
              "        google.colab.kernel.accessAllowed ? 'block' : 'none';\n",
              "\n",
              "      async function convertToInteractive(key) {\n",
              "        const element = document.querySelector('#df-7ae7f4cf-a0b6-4824-b32a-1d5f2951d452');\n",
              "        const dataTable =\n",
              "          await google.colab.kernel.invokeFunction('convertToInteractive',\n",
              "                                                    [key], {});\n",
              "        if (!dataTable) return;\n",
              "\n",
              "        const docLinkHtml = 'Like what you see? Visit the ' +\n",
              "          '<a target=\"_blank\" href=https://colab.research.google.com/notebooks/data_table.ipynb>data table notebook</a>'\n",
              "          + ' to learn more about interactive tables.';\n",
              "        element.innerHTML = '';\n",
              "        dataTable['output_type'] = 'display_data';\n",
              "        await google.colab.output.renderOutput(dataTable, element);\n",
              "        const docLink = document.createElement('div');\n",
              "        docLink.innerHTML = docLinkHtml;\n",
              "        element.appendChild(docLink);\n",
              "      }\n",
              "    </script>\n",
              "  </div>\n",
              "\n",
              "\n",
              "<div id=\"df-a5ee8126-4264-4155-be6a-6910f5080e29\">\n",
              "  <button class=\"colab-df-quickchart\" onclick=\"quickchart('df-a5ee8126-4264-4155-be6a-6910f5080e29')\"\n",
              "            title=\"Suggest charts\"\n",
              "            style=\"display:none;\">\n",
              "\n",
              "<svg xmlns=\"http://www.w3.org/2000/svg\" height=\"24px\"viewBox=\"0 0 24 24\"\n",
              "     width=\"24px\">\n",
              "    <g>\n",
              "        <path d=\"M19 3H5c-1.1 0-2 .9-2 2v14c0 1.1.9 2 2 2h14c1.1 0 2-.9 2-2V5c0-1.1-.9-2-2-2zM9 17H7v-7h2v7zm4 0h-2V7h2v10zm4 0h-2v-4h2v4z\"/>\n",
              "    </g>\n",
              "</svg>\n",
              "  </button>\n",
              "\n",
              "<style>\n",
              "  .colab-df-quickchart {\n",
              "      --bg-color: #E8F0FE;\n",
              "      --fill-color: #1967D2;\n",
              "      --hover-bg-color: #E2EBFA;\n",
              "      --hover-fill-color: #174EA6;\n",
              "      --disabled-fill-color: #AAA;\n",
              "      --disabled-bg-color: #DDD;\n",
              "  }\n",
              "\n",
              "  [theme=dark] .colab-df-quickchart {\n",
              "      --bg-color: #3B4455;\n",
              "      --fill-color: #D2E3FC;\n",
              "      --hover-bg-color: #434B5C;\n",
              "      --hover-fill-color: #FFFFFF;\n",
              "      --disabled-bg-color: #3B4455;\n",
              "      --disabled-fill-color: #666;\n",
              "  }\n",
              "\n",
              "  .colab-df-quickchart {\n",
              "    background-color: var(--bg-color);\n",
              "    border: none;\n",
              "    border-radius: 50%;\n",
              "    cursor: pointer;\n",
              "    display: none;\n",
              "    fill: var(--fill-color);\n",
              "    height: 32px;\n",
              "    padding: 0;\n",
              "    width: 32px;\n",
              "  }\n",
              "\n",
              "  .colab-df-quickchart:hover {\n",
              "    background-color: var(--hover-bg-color);\n",
              "    box-shadow: 0 1px 2px rgba(60, 64, 67, 0.3), 0 1px 3px 1px rgba(60, 64, 67, 0.15);\n",
              "    fill: var(--button-hover-fill-color);\n",
              "  }\n",
              "\n",
              "  .colab-df-quickchart-complete:disabled,\n",
              "  .colab-df-quickchart-complete:disabled:hover {\n",
              "    background-color: var(--disabled-bg-color);\n",
              "    fill: var(--disabled-fill-color);\n",
              "    box-shadow: none;\n",
              "  }\n",
              "\n",
              "  .colab-df-spinner {\n",
              "    border: 2px solid var(--fill-color);\n",
              "    border-color: transparent;\n",
              "    border-bottom-color: var(--fill-color);\n",
              "    animation:\n",
              "      spin 1s steps(1) infinite;\n",
              "  }\n",
              "\n",
              "  @keyframes spin {\n",
              "    0% {\n",
              "      border-color: transparent;\n",
              "      border-bottom-color: var(--fill-color);\n",
              "      border-left-color: var(--fill-color);\n",
              "    }\n",
              "    20% {\n",
              "      border-color: transparent;\n",
              "      border-left-color: var(--fill-color);\n",
              "      border-top-color: var(--fill-color);\n",
              "    }\n",
              "    30% {\n",
              "      border-color: transparent;\n",
              "      border-left-color: var(--fill-color);\n",
              "      border-top-color: var(--fill-color);\n",
              "      border-right-color: var(--fill-color);\n",
              "    }\n",
              "    40% {\n",
              "      border-color: transparent;\n",
              "      border-right-color: var(--fill-color);\n",
              "      border-top-color: var(--fill-color);\n",
              "    }\n",
              "    60% {\n",
              "      border-color: transparent;\n",
              "      border-right-color: var(--fill-color);\n",
              "    }\n",
              "    80% {\n",
              "      border-color: transparent;\n",
              "      border-right-color: var(--fill-color);\n",
              "      border-bottom-color: var(--fill-color);\n",
              "    }\n",
              "    90% {\n",
              "      border-color: transparent;\n",
              "      border-bottom-color: var(--fill-color);\n",
              "    }\n",
              "  }\n",
              "</style>\n",
              "\n",
              "  <script>\n",
              "    async function quickchart(key) {\n",
              "      const quickchartButtonEl =\n",
              "        document.querySelector('#' + key + ' button');\n",
              "      quickchartButtonEl.disabled = true;  // To prevent multiple clicks.\n",
              "      quickchartButtonEl.classList.add('colab-df-spinner');\n",
              "      try {\n",
              "        const charts = await google.colab.kernel.invokeFunction(\n",
              "            'suggestCharts', [key], {});\n",
              "      } catch (error) {\n",
              "        console.error('Error during call to suggestCharts:', error);\n",
              "      }\n",
              "      quickchartButtonEl.classList.remove('colab-df-spinner');\n",
              "      quickchartButtonEl.classList.add('colab-df-quickchart-complete');\n",
              "    }\n",
              "    (() => {\n",
              "      let quickchartButtonEl =\n",
              "        document.querySelector('#df-a5ee8126-4264-4155-be6a-6910f5080e29 button');\n",
              "      quickchartButtonEl.style.display =\n",
              "        google.colab.kernel.accessAllowed ? 'block' : 'none';\n",
              "    })();\n",
              "  </script>\n",
              "</div>\n",
              "\n",
              "    </div>\n",
              "  </div>\n"
            ],
            "application/vnd.google.colaboratory.intrinsic+json": {
              "type": "dataframe",
              "variable_name": "df_train",
              "summary": "{\n  \"name\": \"df_train\",\n  \"rows\": 1296,\n  \"fields\": [\n    {\n      \"column\": \"laptop\",\n      \"properties\": {\n        \"dtype\": \"string\",\n        \"num_unique_values\": 1296,\n        \"samples\": [\n          \"hp_15s-fq4107ns_intel_core_i5-1155g7/8gb/512gb_ssd/15.6\\\"\",\n          \"asus_rog_zephyrus_g14_ga401ii-he004t_amd_ryzen_7_4800hs/16gb/1tb_ssd/gtx_1650ti/14\\\"\",\n          \"msi_titan_gt77_hx_13vi-007es_intel_core_i9-13980hx/64gb/2tb_ssd/rtx_4090/17.3\\\"\"\n        ],\n        \"semantic_type\": \"\",\n        \"description\": \"\"\n      }\n    },\n    {\n      \"column\": \"status\",\n      \"properties\": {\n        \"dtype\": \"category\",\n        \"num_unique_values\": 2,\n        \"samples\": [\n          \"new\",\n          \"refurbished\"\n        ],\n        \"semantic_type\": \"\",\n        \"description\": \"\"\n      }\n    },\n    {\n      \"column\": \"brand\",\n      \"properties\": {\n        \"dtype\": \"category\",\n        \"num_unique_values\": 25,\n        \"samples\": [\n          \"microsoft\",\n          \"pccom\"\n        ],\n        \"semantic_type\": \"\",\n        \"description\": \"\"\n      }\n    },\n    {\n      \"column\": \"model\",\n      \"properties\": {\n        \"dtype\": \"category\",\n        \"num_unique_values\": 113,\n        \"samples\": [\n          \"thin\",\n          \"rog\"\n        ],\n        \"semantic_type\": \"\",\n        \"description\": \"\"\n      }\n    },\n    {\n      \"column\": \"cpu\",\n      \"properties\": {\n        \"dtype\": \"category\",\n        \"num_unique_values\": 24,\n        \"samples\": [\n          \"amd_ryzen_3\",\n          \"apple_m2_pro\"\n        ],\n        \"semantic_type\": \"\",\n        \"description\": \"\"\n      }\n    },\n    {\n      \"column\": \"ram\",\n      \"properties\": {\n        \"dtype\": \"number\",\n        \"std\": 10,\n        \"min\": 4,\n        \"max\": 128,\n        \"num_unique_values\": 9,\n        \"samples\": [\n          6,\n          4\n        ],\n        \"semantic_type\": \"\",\n        \"description\": \"\"\n      }\n    },\n    {\n      \"column\": \"storage\",\n      \"properties\": {\n        \"dtype\": \"number\",\n        \"std\": 378,\n        \"min\": 32,\n        \"max\": 4000,\n        \"num_unique_values\": 11,\n        \"samples\": [\n          256,\n          1000\n        ],\n        \"semantic_type\": \"\",\n        \"description\": \"\"\n      }\n    },\n    {\n      \"column\": \"storage_type\",\n      \"properties\": {\n        \"dtype\": \"category\",\n        \"num_unique_values\": 2,\n        \"samples\": [\n          \"emmc\",\n          \"ssd\"\n        ],\n        \"semantic_type\": \"\",\n        \"description\": \"\"\n      }\n    },\n    {\n      \"column\": \"gpu\",\n      \"properties\": {\n        \"dtype\": \"category\",\n        \"num_unique_values\": 38,\n        \"samples\": [\n          \"a_370m\",\n          \"t_1200\"\n        ],\n        \"semantic_type\": \"\",\n        \"description\": \"\"\n      }\n    },\n    {\n      \"column\": \"screen\",\n      \"properties\": {\n        \"dtype\": \"number\",\n        \"std\": 1.2333765064218012,\n        \"min\": 10.1,\n        \"max\": 18.0,\n        \"num_unique_values\": 28,\n        \"samples\": [\n          14.2,\n          12.5\n        ],\n        \"semantic_type\": \"\",\n        \"description\": \"\"\n      }\n    },\n    {\n      \"column\": \"touch\",\n      \"properties\": {\n        \"dtype\": \"category\",\n        \"num_unique_values\": 2,\n        \"samples\": [\n          \"yes\",\n          \"no\"\n        ],\n        \"semantic_type\": \"\",\n        \"description\": \"\"\n      }\n    },\n    {\n      \"column\": \"final_price\",\n      \"properties\": {\n        \"dtype\": \"number\",\n        \"std\": 937.7524391067687,\n        \"min\": 201.05,\n        \"max\": 5999.0,\n        \"num_unique_values\": 925,\n        \"samples\": [\n          659.44,\n          2243.18\n        ],\n        \"semantic_type\": \"\",\n        \"description\": \"\"\n      }\n    }\n  ]\n}"
            }
          },
          "metadata": {},
          "execution_count": 120
        }
      ]
    },
    {
      "cell_type": "markdown",
      "source": [
        "**2.To reduce long tail distribution in final_price apply log1p transformation + square root transformation**"
      ],
      "metadata": {
        "id": "114d0l5-ZcvA"
      }
    },
    {
      "cell_type": "code",
      "source": [
        "y_train=df_train.final_price.values\n",
        "y_val=df_val.final_price.values\n",
        "y_test=df_test.final_price.values\n",
        "\n",
        "y_train_log=np.log(y_train)\n",
        "y_val_log=np.log(y_val)\n",
        "y_test_log=np.log(y_test)\n",
        "\n",
        "y_train_log_sq=np.sqrt(y_train_log)\n",
        "y_val_log_sq=np.sqrt(y_val_log)\n",
        "y_test_log_sq=np.sqrt(y_test_log)\n"
      ],
      "metadata": {
        "id": "lbYE3zoyZQd9"
      },
      "execution_count": 121,
      "outputs": []
    },
    {
      "cell_type": "code",
      "source": [
        "y_train=y_train_log_sq\n",
        "y_val=y_val_log_sq\n",
        "y_test=y_test_log_sq"
      ],
      "metadata": {
        "id": "dT-nJnWotwEG"
      },
      "execution_count": 122,
      "outputs": []
    },
    {
      "cell_type": "code",
      "source": [
        "#Remove final_price column from the dataframes\n",
        "\n",
        "del df_train['final_price']\n",
        "del df_val['final_price']\n",
        "del df_test['final_price']"
      ],
      "metadata": {
        "id": "LiODczpFZ0et"
      },
      "execution_count": 123,
      "outputs": []
    },
    {
      "cell_type": "code",
      "source": [],
      "metadata": {
        "id": "v1rwB1w7aD0l"
      },
      "execution_count": 34,
      "outputs": []
    },
    {
      "cell_type": "markdown",
      "source": [
        "# FURTHER EDA"
      ],
      "metadata": {
        "id": "b_S8eaW8fpu-"
      }
    },
    {
      "cell_type": "markdown",
      "source": [
        "**1.Missing Values**"
      ],
      "metadata": {
        "id": "q5dT6PXHfwIT"
      }
    },
    {
      "cell_type": "code",
      "source": [
        "#We have two options: fill it with 0 or with the mean of this variable.\n",
        "\n"
      ],
      "metadata": {
        "id": "OPnw1e4Tfsiv"
      },
      "execution_count": 35,
      "outputs": []
    },
    {
      "cell_type": "code",
      "source": [
        "df_train=df_train[features]\n",
        "df_val=df_val[features]\n",
        "df_test=df_test[features]"
      ],
      "metadata": {
        "id": "TRUwou6mgLXu"
      },
      "execution_count": 36,
      "outputs": []
    },
    {
      "cell_type": "code",
      "source": [
        "df_train.isnull().sum()"
      ],
      "metadata": {
        "colab": {
          "base_uri": "https://localhost:8080/",
          "height": 178
        },
        "id": "XdJyXGP4g449",
        "outputId": "aa5add67-7569-474a-9ed0-2b002ee969d0"
      },
      "execution_count": 37,
      "outputs": [
        {
          "output_type": "execute_result",
          "data": {
            "text/plain": [
              "ram        0\n",
              "storage    0\n",
              "screen     3\n",
              "dtype: int64"
            ],
            "text/html": [
              "<div>\n",
              "<style scoped>\n",
              "    .dataframe tbody tr th:only-of-type {\n",
              "        vertical-align: middle;\n",
              "    }\n",
              "\n",
              "    .dataframe tbody tr th {\n",
              "        vertical-align: top;\n",
              "    }\n",
              "\n",
              "    .dataframe thead th {\n",
              "        text-align: right;\n",
              "    }\n",
              "</style>\n",
              "<table border=\"1\" class=\"dataframe\">\n",
              "  <thead>\n",
              "    <tr style=\"text-align: right;\">\n",
              "      <th></th>\n",
              "      <th>0</th>\n",
              "    </tr>\n",
              "  </thead>\n",
              "  <tbody>\n",
              "    <tr>\n",
              "      <th>ram</th>\n",
              "      <td>0</td>\n",
              "    </tr>\n",
              "    <tr>\n",
              "      <th>storage</th>\n",
              "      <td>0</td>\n",
              "    </tr>\n",
              "    <tr>\n",
              "      <th>screen</th>\n",
              "      <td>3</td>\n",
              "    </tr>\n",
              "  </tbody>\n",
              "</table>\n",
              "</div><br><label><b>dtype:</b> int64</label>"
            ]
          },
          "metadata": {},
          "execution_count": 37
        }
      ]
    },
    {
      "cell_type": "code",
      "source": [
        "#Fill Missing Values with 0\n",
        "\n",
        "df_train_0=df_train.fillna(0)\n",
        "df_val_0=df_val.fillna(0)\n",
        "df_test_0=df_test.fillna(0)"
      ],
      "metadata": {
        "id": "4o3ESUGphF_w"
      },
      "execution_count": 38,
      "outputs": []
    },
    {
      "cell_type": "code",
      "source": [
        "\n",
        "#Fill with mean\n",
        "\n",
        "\n",
        "df_train_1=df_train.fillna(np.mean(df_train['screen']))\n",
        "df_val_1=df_val.fillna(np.mean(df_train['screen']))\n",
        "df_test_1=df_test.fillna(np.mean(df_train['screen']))"
      ],
      "metadata": {
        "id": "-jGR5l82hRwB"
      },
      "execution_count": 39,
      "outputs": []
    },
    {
      "cell_type": "code",
      "source": [],
      "metadata": {
        "id": "J-ea9WREhkQm"
      },
      "execution_count": 39,
      "outputs": []
    },
    {
      "cell_type": "markdown",
      "source": [
        "# Linear Regression Model"
      ],
      "metadata": {
        "id": "oFiNcz2bhxX3"
      }
    },
    {
      "cell_type": "markdown",
      "source": [
        "```\n",
        "Formula => X.w =y\n",
        "\n",
        "X=feature matrix, w=weights vector , y =predictions vector\n",
        "\n",
        "X^T.X.w=X^T.y\n",
        "(X^T.X)^-1(X^T.X).w=(X^T.X)^-1.y\n",
        "w=(X^T.X)^-1.y\n",
        "```"
      ],
      "metadata": {
        "id": "SqpMR4qnh1ai"
      }
    },
    {
      "cell_type": "code",
      "source": [
        "df_train.head(3)"
      ],
      "metadata": {
        "colab": {
          "base_uri": "https://localhost:8080/",
          "height": 143
        },
        "id": "jSDL_HS4jPxS",
        "outputId": "365fcc8d-96dd-4fb4-d97c-b8310d6e52ea"
      },
      "execution_count": 40,
      "outputs": [
        {
          "output_type": "execute_result",
          "data": {
            "text/plain": [
              "   ram  storage  screen\n",
              "0   32     1000    15.6\n",
              "1    4       64    14.1\n",
              "2   32     1000    14.0"
            ],
            "text/html": [
              "\n",
              "  <div id=\"df-20f1c3cd-3d9d-4c5b-9434-9abd81dd386b\" class=\"colab-df-container\">\n",
              "    <div>\n",
              "<style scoped>\n",
              "    .dataframe tbody tr th:only-of-type {\n",
              "        vertical-align: middle;\n",
              "    }\n",
              "\n",
              "    .dataframe tbody tr th {\n",
              "        vertical-align: top;\n",
              "    }\n",
              "\n",
              "    .dataframe thead th {\n",
              "        text-align: right;\n",
              "    }\n",
              "</style>\n",
              "<table border=\"1\" class=\"dataframe\">\n",
              "  <thead>\n",
              "    <tr style=\"text-align: right;\">\n",
              "      <th></th>\n",
              "      <th>ram</th>\n",
              "      <th>storage</th>\n",
              "      <th>screen</th>\n",
              "    </tr>\n",
              "  </thead>\n",
              "  <tbody>\n",
              "    <tr>\n",
              "      <th>0</th>\n",
              "      <td>32</td>\n",
              "      <td>1000</td>\n",
              "      <td>15.6</td>\n",
              "    </tr>\n",
              "    <tr>\n",
              "      <th>1</th>\n",
              "      <td>4</td>\n",
              "      <td>64</td>\n",
              "      <td>14.1</td>\n",
              "    </tr>\n",
              "    <tr>\n",
              "      <th>2</th>\n",
              "      <td>32</td>\n",
              "      <td>1000</td>\n",
              "      <td>14.0</td>\n",
              "    </tr>\n",
              "  </tbody>\n",
              "</table>\n",
              "</div>\n",
              "    <div class=\"colab-df-buttons\">\n",
              "\n",
              "  <div class=\"colab-df-container\">\n",
              "    <button class=\"colab-df-convert\" onclick=\"convertToInteractive('df-20f1c3cd-3d9d-4c5b-9434-9abd81dd386b')\"\n",
              "            title=\"Convert this dataframe to an interactive table.\"\n",
              "            style=\"display:none;\">\n",
              "\n",
              "  <svg xmlns=\"http://www.w3.org/2000/svg\" height=\"24px\" viewBox=\"0 -960 960 960\">\n",
              "    <path d=\"M120-120v-720h720v720H120Zm60-500h600v-160H180v160Zm220 220h160v-160H400v160Zm0 220h160v-160H400v160ZM180-400h160v-160H180v160Zm440 0h160v-160H620v160ZM180-180h160v-160H180v160Zm440 0h160v-160H620v160Z\"/>\n",
              "  </svg>\n",
              "    </button>\n",
              "\n",
              "  <style>\n",
              "    .colab-df-container {\n",
              "      display:flex;\n",
              "      gap: 12px;\n",
              "    }\n",
              "\n",
              "    .colab-df-convert {\n",
              "      background-color: #E8F0FE;\n",
              "      border: none;\n",
              "      border-radius: 50%;\n",
              "      cursor: pointer;\n",
              "      display: none;\n",
              "      fill: #1967D2;\n",
              "      height: 32px;\n",
              "      padding: 0 0 0 0;\n",
              "      width: 32px;\n",
              "    }\n",
              "\n",
              "    .colab-df-convert:hover {\n",
              "      background-color: #E2EBFA;\n",
              "      box-shadow: 0px 1px 2px rgba(60, 64, 67, 0.3), 0px 1px 3px 1px rgba(60, 64, 67, 0.15);\n",
              "      fill: #174EA6;\n",
              "    }\n",
              "\n",
              "    .colab-df-buttons div {\n",
              "      margin-bottom: 4px;\n",
              "    }\n",
              "\n",
              "    [theme=dark] .colab-df-convert {\n",
              "      background-color: #3B4455;\n",
              "      fill: #D2E3FC;\n",
              "    }\n",
              "\n",
              "    [theme=dark] .colab-df-convert:hover {\n",
              "      background-color: #434B5C;\n",
              "      box-shadow: 0px 1px 3px 1px rgba(0, 0, 0, 0.15);\n",
              "      filter: drop-shadow(0px 1px 2px rgba(0, 0, 0, 0.3));\n",
              "      fill: #FFFFFF;\n",
              "    }\n",
              "  </style>\n",
              "\n",
              "    <script>\n",
              "      const buttonEl =\n",
              "        document.querySelector('#df-20f1c3cd-3d9d-4c5b-9434-9abd81dd386b button.colab-df-convert');\n",
              "      buttonEl.style.display =\n",
              "        google.colab.kernel.accessAllowed ? 'block' : 'none';\n",
              "\n",
              "      async function convertToInteractive(key) {\n",
              "        const element = document.querySelector('#df-20f1c3cd-3d9d-4c5b-9434-9abd81dd386b');\n",
              "        const dataTable =\n",
              "          await google.colab.kernel.invokeFunction('convertToInteractive',\n",
              "                                                    [key], {});\n",
              "        if (!dataTable) return;\n",
              "\n",
              "        const docLinkHtml = 'Like what you see? Visit the ' +\n",
              "          '<a target=\"_blank\" href=https://colab.research.google.com/notebooks/data_table.ipynb>data table notebook</a>'\n",
              "          + ' to learn more about interactive tables.';\n",
              "        element.innerHTML = '';\n",
              "        dataTable['output_type'] = 'display_data';\n",
              "        await google.colab.output.renderOutput(dataTable, element);\n",
              "        const docLink = document.createElement('div');\n",
              "        docLink.innerHTML = docLinkHtml;\n",
              "        element.appendChild(docLink);\n",
              "      }\n",
              "    </script>\n",
              "  </div>\n",
              "\n",
              "\n",
              "<div id=\"df-687985d5-45ba-42cd-8802-545aade6a514\">\n",
              "  <button class=\"colab-df-quickchart\" onclick=\"quickchart('df-687985d5-45ba-42cd-8802-545aade6a514')\"\n",
              "            title=\"Suggest charts\"\n",
              "            style=\"display:none;\">\n",
              "\n",
              "<svg xmlns=\"http://www.w3.org/2000/svg\" height=\"24px\"viewBox=\"0 0 24 24\"\n",
              "     width=\"24px\">\n",
              "    <g>\n",
              "        <path d=\"M19 3H5c-1.1 0-2 .9-2 2v14c0 1.1.9 2 2 2h14c1.1 0 2-.9 2-2V5c0-1.1-.9-2-2-2zM9 17H7v-7h2v7zm4 0h-2V7h2v10zm4 0h-2v-4h2v4z\"/>\n",
              "    </g>\n",
              "</svg>\n",
              "  </button>\n",
              "\n",
              "<style>\n",
              "  .colab-df-quickchart {\n",
              "      --bg-color: #E8F0FE;\n",
              "      --fill-color: #1967D2;\n",
              "      --hover-bg-color: #E2EBFA;\n",
              "      --hover-fill-color: #174EA6;\n",
              "      --disabled-fill-color: #AAA;\n",
              "      --disabled-bg-color: #DDD;\n",
              "  }\n",
              "\n",
              "  [theme=dark] .colab-df-quickchart {\n",
              "      --bg-color: #3B4455;\n",
              "      --fill-color: #D2E3FC;\n",
              "      --hover-bg-color: #434B5C;\n",
              "      --hover-fill-color: #FFFFFF;\n",
              "      --disabled-bg-color: #3B4455;\n",
              "      --disabled-fill-color: #666;\n",
              "  }\n",
              "\n",
              "  .colab-df-quickchart {\n",
              "    background-color: var(--bg-color);\n",
              "    border: none;\n",
              "    border-radius: 50%;\n",
              "    cursor: pointer;\n",
              "    display: none;\n",
              "    fill: var(--fill-color);\n",
              "    height: 32px;\n",
              "    padding: 0;\n",
              "    width: 32px;\n",
              "  }\n",
              "\n",
              "  .colab-df-quickchart:hover {\n",
              "    background-color: var(--hover-bg-color);\n",
              "    box-shadow: 0 1px 2px rgba(60, 64, 67, 0.3), 0 1px 3px 1px rgba(60, 64, 67, 0.15);\n",
              "    fill: var(--button-hover-fill-color);\n",
              "  }\n",
              "\n",
              "  .colab-df-quickchart-complete:disabled,\n",
              "  .colab-df-quickchart-complete:disabled:hover {\n",
              "    background-color: var(--disabled-bg-color);\n",
              "    fill: var(--disabled-fill-color);\n",
              "    box-shadow: none;\n",
              "  }\n",
              "\n",
              "  .colab-df-spinner {\n",
              "    border: 2px solid var(--fill-color);\n",
              "    border-color: transparent;\n",
              "    border-bottom-color: var(--fill-color);\n",
              "    animation:\n",
              "      spin 1s steps(1) infinite;\n",
              "  }\n",
              "\n",
              "  @keyframes spin {\n",
              "    0% {\n",
              "      border-color: transparent;\n",
              "      border-bottom-color: var(--fill-color);\n",
              "      border-left-color: var(--fill-color);\n",
              "    }\n",
              "    20% {\n",
              "      border-color: transparent;\n",
              "      border-left-color: var(--fill-color);\n",
              "      border-top-color: var(--fill-color);\n",
              "    }\n",
              "    30% {\n",
              "      border-color: transparent;\n",
              "      border-left-color: var(--fill-color);\n",
              "      border-top-color: var(--fill-color);\n",
              "      border-right-color: var(--fill-color);\n",
              "    }\n",
              "    40% {\n",
              "      border-color: transparent;\n",
              "      border-right-color: var(--fill-color);\n",
              "      border-top-color: var(--fill-color);\n",
              "    }\n",
              "    60% {\n",
              "      border-color: transparent;\n",
              "      border-right-color: var(--fill-color);\n",
              "    }\n",
              "    80% {\n",
              "      border-color: transparent;\n",
              "      border-right-color: var(--fill-color);\n",
              "      border-bottom-color: var(--fill-color);\n",
              "    }\n",
              "    90% {\n",
              "      border-color: transparent;\n",
              "      border-bottom-color: var(--fill-color);\n",
              "    }\n",
              "  }\n",
              "</style>\n",
              "\n",
              "  <script>\n",
              "    async function quickchart(key) {\n",
              "      const quickchartButtonEl =\n",
              "        document.querySelector('#' + key + ' button');\n",
              "      quickchartButtonEl.disabled = true;  // To prevent multiple clicks.\n",
              "      quickchartButtonEl.classList.add('colab-df-spinner');\n",
              "      try {\n",
              "        const charts = await google.colab.kernel.invokeFunction(\n",
              "            'suggestCharts', [key], {});\n",
              "      } catch (error) {\n",
              "        console.error('Error during call to suggestCharts:', error);\n",
              "      }\n",
              "      quickchartButtonEl.classList.remove('colab-df-spinner');\n",
              "      quickchartButtonEl.classList.add('colab-df-quickchart-complete');\n",
              "    }\n",
              "    (() => {\n",
              "      let quickchartButtonEl =\n",
              "        document.querySelector('#df-687985d5-45ba-42cd-8802-545aade6a514 button');\n",
              "      quickchartButtonEl.style.display =\n",
              "        google.colab.kernel.accessAllowed ? 'block' : 'none';\n",
              "    })();\n",
              "  </script>\n",
              "</div>\n",
              "\n",
              "    </div>\n",
              "  </div>\n"
            ],
            "application/vnd.google.colaboratory.intrinsic+json": {
              "type": "dataframe",
              "variable_name": "df_train",
              "summary": "{\n  \"name\": \"df_train\",\n  \"rows\": 1296,\n  \"fields\": [\n    {\n      \"column\": \"ram\",\n      \"properties\": {\n        \"dtype\": \"number\",\n        \"std\": 10,\n        \"min\": 4,\n        \"max\": 128,\n        \"num_unique_values\": 9,\n        \"samples\": [\n          6,\n          4,\n          128\n        ],\n        \"semantic_type\": \"\",\n        \"description\": \"\"\n      }\n    },\n    {\n      \"column\": \"storage\",\n      \"properties\": {\n        \"dtype\": \"number\",\n        \"std\": 378,\n        \"min\": 32,\n        \"max\": 4000,\n        \"num_unique_values\": 11,\n        \"samples\": [\n          256,\n          1000,\n          4000\n        ],\n        \"semantic_type\": \"\",\n        \"description\": \"\"\n      }\n    },\n    {\n      \"column\": \"screen\",\n      \"properties\": {\n        \"dtype\": \"number\",\n        \"std\": 1.2333765064218012,\n        \"min\": 10.1,\n        \"max\": 18.0,\n        \"num_unique_values\": 28,\n        \"samples\": [\n          14.2,\n          12.5,\n          13.6\n        ],\n        \"semantic_type\": \"\",\n        \"description\": \"\"\n      }\n    }\n  ]\n}"
            }
          },
          "metadata": {},
          "execution_count": 40
        }
      ]
    },
    {
      "cell_type": "markdown",
      "source": [
        "**1.Prepare Feature Matrix X**"
      ],
      "metadata": {
        "id": "1bnv5RSDiBjf"
      }
    },
    {
      "cell_type": "code",
      "source": [
        "#Convert DataFrame to Feature Matrix\n",
        "\n",
        "def Prepare_X(df):\n",
        "  X=df.values\n",
        "  return X\n"
      ],
      "metadata": {
        "id": "bYOnD_nThzfY"
      },
      "execution_count": 41,
      "outputs": []
    },
    {
      "cell_type": "code",
      "source": [
        "def Train_Linear_Regression(Xi,y):\n",
        "  ones=np.ones(Xi.shape[0])\n",
        "  Xi=np.column_stack([ones,Xi])\n",
        "\n",
        "  #Linear Regression Normal Equation\n",
        "  #---------------------------------\n",
        "  X_Gram=Xi.T.dot(Xi)\n",
        "  X_Gram_inv=np.linalg.inv(X_Gram)\n",
        "  w_full=X_Gram_inv.dot(Xi.T).dot(y)\n",
        "  #---------------------------------\n",
        "  w0=w_full[0]\n",
        "  w=w_full[1:]\n",
        "  return w0,w\n"
      ],
      "metadata": {
        "id": "viX3F-efjZnj"
      },
      "execution_count": 42,
      "outputs": []
    },
    {
      "cell_type": "code",
      "source": [
        "X_train_0=Prepare_X(df_train_0)\n",
        "w0_zero,w_zero=Train_Linear_Regression(X_train_0,y_train)\n"
      ],
      "metadata": {
        "id": "FwtkW7cEk7HE"
      },
      "execution_count": 43,
      "outputs": []
    },
    {
      "cell_type": "code",
      "source": [],
      "metadata": {
        "id": "cJ4sJlNdp_-7"
      },
      "execution_count": 43,
      "outputs": []
    },
    {
      "cell_type": "code",
      "source": [
        "w0_zero,w_zero"
      ],
      "metadata": {
        "colab": {
          "base_uri": "https://localhost:8080/"
        },
        "id": "WmRw496km1kk",
        "outputId": "f118ada7-c8c3-4be4-cbed-6125040679ee"
      },
      "execution_count": 44,
      "outputs": [
        {
          "output_type": "execute_result",
          "data": {
            "text/plain": [
              "(2.5935097393157815, array([ 0.00490358,  0.00012524, -0.0070085 ]))"
            ]
          },
          "metadata": {},
          "execution_count": 44
        }
      ]
    },
    {
      "cell_type": "code",
      "source": [
        "X_train_Mean=Prepare_X(df_train_1)\n",
        "w0_mean,w_mean=Train_Linear_Regression(X_train_Mean,y_train)"
      ],
      "metadata": {
        "id": "QOgp78u6lt9y"
      },
      "execution_count": 45,
      "outputs": []
    },
    {
      "cell_type": "code",
      "source": [
        "w0_mean,w_mean"
      ],
      "metadata": {
        "colab": {
          "base_uri": "https://localhost:8080/"
        },
        "id": "qGBdyX2zl4LV",
        "outputId": "79e792e7-4a09-4462-986d-465bd4cbaa49"
      },
      "execution_count": 46,
      "outputs": [
        {
          "output_type": "execute_result",
          "data": {
            "text/plain": [
              "(2.6181411124979417, array([ 0.0049413 ,  0.00012639, -0.00870125]))"
            ]
          },
          "metadata": {},
          "execution_count": 46
        }
      ]
    },
    {
      "cell_type": "markdown",
      "source": [
        "# RMSE\n",
        "\n",
        "![image.png](data:image/png;base64,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)"
      ],
      "metadata": {
        "id": "yn-EOlOLmQgQ"
      }
    },
    {
      "cell_type": "code",
      "source": [
        "def RMSE(y_true, y_pred):\n",
        "    # assert len(y_true) == len(y_pred)\n",
        "    error=y_true-y_pred\n",
        "    sq_error=error**2\n",
        "    mse=sq_error.mean()\n",
        "    res=np.sqrt(mse)\n",
        "    return res\n"
      ],
      "metadata": {
        "id": "bmbyTMyNmSvu"
      },
      "execution_count": 47,
      "outputs": []
    },
    {
      "cell_type": "code",
      "source": [
        "X_val_0=Prepare_X(df_val_0)\n",
        "X_val_mean=Prepare_X(df_val_1)"
      ],
      "metadata": {
        "id": "OkSLXX_4noT4"
      },
      "execution_count": 48,
      "outputs": []
    },
    {
      "cell_type": "code",
      "source": [
        "y_val_0=w0_zero+X_val_0.dot(w_zero)\n",
        "y_val_mean=w0_mean+X_val_mean.dot(w_mean)"
      ],
      "metadata": {
        "id": "W5hd1NSMmtfa"
      },
      "execution_count": 49,
      "outputs": []
    },
    {
      "cell_type": "code",
      "source": [
        "y_val.shape"
      ],
      "metadata": {
        "colab": {
          "base_uri": "https://localhost:8080/"
        },
        "id": "udxdf315n7l7",
        "outputId": "ffb06538-0dba-4fab-f850-1e4715d3a970"
      },
      "execution_count": 50,
      "outputs": [
        {
          "output_type": "execute_result",
          "data": {
            "text/plain": [
              "(432,)"
            ]
          },
          "metadata": {},
          "execution_count": 50
        }
      ]
    },
    {
      "cell_type": "code",
      "source": [
        "y_val_0.shape"
      ],
      "metadata": {
        "colab": {
          "base_uri": "https://localhost:8080/"
        },
        "id": "ry4ykOSKn-Go",
        "outputId": "d27865c1-de5b-4ae9-a6f2-a2f1f17b192f"
      },
      "execution_count": 51,
      "outputs": [
        {
          "output_type": "execute_result",
          "data": {
            "text/plain": [
              "(432,)"
            ]
          },
          "metadata": {},
          "execution_count": 51
        }
      ]
    },
    {
      "cell_type": "code",
      "source": [
        "round(RMSE(y_val,y_val_0),2)"
      ],
      "metadata": {
        "colab": {
          "base_uri": "https://localhost:8080/"
        },
        "id": "0IPmEGeXnzTl",
        "outputId": "9a326f2c-5aaa-483d-da7d-6fd3693c7dda"
      },
      "execution_count": 52,
      "outputs": [
        {
          "output_type": "execute_result",
          "data": {
            "text/plain": [
              "0.08"
            ]
          },
          "metadata": {},
          "execution_count": 52
        }
      ]
    },
    {
      "cell_type": "code",
      "source": [
        "round(RMSE(y_val,y_val_mean),2)"
      ],
      "metadata": {
        "colab": {
          "base_uri": "https://localhost:8080/"
        },
        "id": "HLZssp9Pn5pQ",
        "outputId": "e5da1572-95d7-4949-c68f-584099b0057e"
      },
      "execution_count": 53,
      "outputs": [
        {
          "output_type": "execute_result",
          "data": {
            "text/plain": [
              "0.08"
            ]
          },
          "metadata": {},
          "execution_count": 53
        }
      ]
    },
    {
      "cell_type": "code",
      "source": [],
      "metadata": {
        "id": "8RUVqQiNoTR3"
      },
      "execution_count": 53,
      "outputs": []
    },
    {
      "cell_type": "code",
      "source": [],
      "metadata": {
        "id": "lC2T6Rp6oXkv"
      },
      "execution_count": 53,
      "outputs": []
    },
    {
      "cell_type": "markdown",
      "source": [
        "# Regularization + Final Model\n",
        "\n",
        "\n",
        "\n",
        "\n",
        "\n"
      ],
      "metadata": {
        "id": "QYqKM1Y0q2UV"
      }
    },
    {
      "cell_type": "markdown",
      "source": [
        "```\n",
        "Question 4\n",
        "\n",
        "Now let's train a regularized linear regression.\n",
        "For this question, fill the NAs with 0.\n",
        "Try different values of r from this list: [0, 0.01, 0.1, 1, 5, 10, 100].\n",
        "Use RMSE to evaluate the model on the validation dataset.\n",
        "Round the RMSE scores to 2 decimal digits.\n",
        "Which r gives the best RMSE?\n",
        "If there are multiple options, select the smallest r.\n",
        "\n",
        "```"
      ],
      "metadata": {
        "id": "WAHsvUcwq9TI"
      }
    },
    {
      "cell_type": "code",
      "source": [
        "np.eye(3,1)"
      ],
      "metadata": {
        "colab": {
          "base_uri": "https://localhost:8080/"
        },
        "id": "bS1dAVresEkt",
        "outputId": "5e9206b3-a38e-4c3f-caa7-fd7744587a1d"
      },
      "execution_count": 54,
      "outputs": [
        {
          "output_type": "execute_result",
          "data": {
            "text/plain": [
              "array([[1.],\n",
              "       [0.],\n",
              "       [0.]])"
            ]
          },
          "metadata": {},
          "execution_count": 54
        }
      ]
    },
    {
      "cell_type": "code",
      "source": [
        "def Train_Linear_Regression(Xi,y,r):\n",
        "  ones=np.ones(Xi.shape[0])\n",
        "  X=np.column_stack([ones,Xi])\n",
        "\n",
        "  XTX=X.T.dot(X)\n",
        "  XTX=XTX+r*np.eye(XTX.shape[0])\n",
        "  XTX_inv=np.linalg.inv(XTX)\n",
        "  w_full=XTX_inv.dot(X.T).dot(y)\n",
        "\n",
        "  return w_full[0],w_full[1:]"
      ],
      "metadata": {
        "id": "iv32pA4aq8ye"
      },
      "execution_count": 55,
      "outputs": []
    },
    {
      "cell_type": "code",
      "source": [
        "X_train=Prepare_X(df_train_0)\n",
        "w0,w=Train_Linear_Regression(X_train,y_train,r=0.01)\n",
        "\n",
        "X_val=Prepare_X(df_val_0)\n",
        "y_pred=w0+X_val.dot(w)\n",
        "RMSE(y_val,y_pred)"
      ],
      "metadata": {
        "colab": {
          "base_uri": "https://localhost:8080/"
        },
        "id": "XPyBNAlqsHEF",
        "outputId": "d344615a-75b8-47a3-b610-df58e7bff8f9"
      },
      "execution_count": 56,
      "outputs": [
        {
          "output_type": "execute_result",
          "data": {
            "text/plain": [
              "0.0820638826198925"
            ]
          },
          "metadata": {},
          "execution_count": 56
        }
      ]
    },
    {
      "cell_type": "code",
      "source": [
        "#Best RMSE\n",
        "\n",
        "final_score=0;\n",
        "optimal_r=0;\n",
        "\n",
        "for i in [0, 0.01, 0.1, 1, 5, 10, 100] :\n",
        "  X_train=Prepare_X(df_train_0)\n",
        "  w0,w=Train_Linear_Regression(X_train,y_train,r=i)\n",
        "  X_val=Prepare_X(df_val_0)\n",
        "  y_pred=w0+X_val.dot(w)\n",
        "  score=RMSE(y_pred,y_val)\n",
        "  if(score<final_score or final_score==0):\n",
        "    final_score=score\n",
        "    optimal_r=i\n",
        "\n",
        "\n",
        "  print(i,w0,score)\n",
        "\n",
        "print()\n",
        "print(final_score,optimal_r)"
      ],
      "metadata": {
        "colab": {
          "base_uri": "https://localhost:8080/"
        },
        "id": "ciK-D1BLsZLW",
        "outputId": "dcff7c67-8c04-4ff7-b2b0-73cdcabef229"
      },
      "execution_count": 57,
      "outputs": [
        {
          "output_type": "stream",
          "name": "stdout",
          "text": [
            "0 2.5935097393157815 0.08206827563040614\n",
            "0.01 2.5911355714969395 0.0820638826198925\n",
            "0.1 2.5699629192905613 0.08204804225342152\n",
            "1 2.375901575865524 0.08383898074631069\n",
            "5 1.7797820219943354 0.10751992366436287\n",
            "10 1.356037984286243 0.13454146872885464\n",
            "100 0.26449178909058846 0.21822048512919118\n",
            "\n",
            "0.08204804225342152 0.1\n"
          ]
        }
      ]
    },
    {
      "cell_type": "code",
      "source": [
        "#Best RMSE\n",
        "\n",
        "final_score=0;\n",
        "optimal_r=0;\n",
        "\n",
        "for i in [0, 0.01, 0.1, 1, 5, 10, 100] :\n",
        "  X_train=Prepare_X(df_train_0)\n",
        "  w0,w=Train_Linear_Regression(X_train,y_train,r=i)\n",
        "  X_val=Prepare_X(df_val_0)\n",
        "  y_pred=w0+X_val.dot(w)\n",
        "  score=RMSE(y_pred,y_val)\n",
        "  if(score<final_score or final_score==0):\n",
        "    final_score=score\n",
        "    optimal_r=i\n",
        "\n",
        "\n",
        "  print(i,w0,score)\n",
        "\n",
        "print()\n",
        "print(final_score,optimal_r)"
      ],
      "metadata": {
        "colab": {
          "base_uri": "https://localhost:8080/"
        },
        "id": "DO0A20uREKWP",
        "outputId": "ed089597-fafa-452a-b25d-711bd8e93057"
      },
      "execution_count": 142,
      "outputs": [
        {
          "output_type": "stream",
          "name": "stdout",
          "text": [
            "0 2.5935097393157815 0.08206827563040614\n",
            "0.01 2.5911355714969395 0.0820638826198925\n",
            "0.1 2.5699629192905613 0.08204804225342152\n",
            "1 2.375901575865524 0.08383898074631069\n",
            "5 1.7797820219943354 0.10751992366436287\n",
            "10 1.356037984286243 0.13454146872885464\n",
            "100 0.26449178909058846 0.21822048512919118\n",
            "\n",
            "0.08204804225342152 0.1\n"
          ]
        }
      ]
    },
    {
      "cell_type": "code",
      "source": [
        "df_shuffled = df1.sample(frac=1, random_state=seed).reset_index(drop=True)\n",
        "\n",
        "\n",
        "  # Define the split points\n",
        "train_size = int(0.6 * len(df_shuffled))  # 60% for training\n",
        "val_size = int(0.2 * len(df_shuffled))    # 80% for validation\n",
        "\n",
        "train_size+val_size"
      ],
      "metadata": {
        "id": "Ro77aSs4Df7u"
      },
      "execution_count": null,
      "outputs": []
    },
    {
      "cell_type": "code",
      "source": [
        "score_track=[None]*12\n",
        "\n",
        "for seed in [0, 1, 2, 3, 4, 5, 6, 7, 8, 9,42]:\n",
        "  # Shuffle the DataFrame with the current seed\n",
        "  df1=df[features].copy()\n",
        "  df_shuffled = df1.sample(frac=1, random_state=seed).reset_index(drop=True)\n",
        "\n",
        "\n",
        "  # Define the split points\n",
        "  train_size = int(0.6 * len(df_shuffled))  # 60% for training\n",
        "  val_size = int(0.2 * len(df_shuffled))    # 80% for validation\n",
        "\n",
        "  # Split the shuffled DataFrame into train, validation, and test sets\n",
        "  df_train_new = df_shuffled.iloc[:train_size]  # First 60% goes to train\n",
        "  df_val_new = df_shuffled.iloc[train_size:train_size+val_size]  # Next 20% goes to validation\n",
        "  df_test_new = df_shuffled.iloc[train_size+val_size:]  # Last 20% goes to test\n",
        "\n",
        "\n",
        "  # Getting respective feature matrices\n",
        "  # X_train=np.array(Prepare_X(df_train_new))\n",
        "  # X_val=np.array(Prepare_X(df_val_new))\n",
        "  # X_test=np.array(Prepare_X(df_test_new))\n",
        "\n",
        "  X_train=(Prepare_X(df_train_new))\n",
        "  X_val=(Prepare_X(df_val_new))\n",
        "  X_test=(Prepare_X(df_test_new))\n",
        "\n",
        "\n",
        "\n",
        "\n",
        "  w0,w=Train_Linear_Regression(X_train,y_train,r=0.01)\n",
        "  y_pred=w0+X_val.dot(w)\n",
        "  score=RMSE(y_val,y_pred)\n",
        "  score_track.append(score)\n",
        "  print(seed,score)\n",
        "\n",
        "\n",
        "\n"
      ],
      "metadata": {
        "id": "rGZt_EkxuLPw",
        "colab": {
          "base_uri": "https://localhost:8080/"
        },
        "outputId": "46e8791b-9383-47c5-abdf-f0ec23e63777"
      },
      "execution_count": 141,
      "outputs": [
        {
          "output_type": "stream",
          "name": "stdout",
          "text": [
            "0 0.12284152002898666\n",
            "1 0.12281116077107951\n",
            "2 0.12271537818309002\n",
            "3 0.12264127578992332\n",
            "4 0.12295810805767678\n",
            "5 0.12331513047534981\n",
            "6 0.12300687996358722\n",
            "7 0.12369911698956018\n",
            "8 0.1228024718864755\n",
            "9 0.12266682908138697\n",
            "42 0.049189442383959614\n"
          ]
        }
      ]
    },
    {
      "cell_type": "code",
      "source": [
        "np.std(score_track)"
      ],
      "metadata": {
        "colab": {
          "base_uri": "https://localhost:8080/"
        },
        "id": "_F5sWDaaCz3v",
        "outputId": "2e00e321-d3ff-402c-b29b-a2efbb96fde8"
      },
      "execution_count": 126,
      "outputs": [
        {
          "output_type": "execute_result",
          "data": {
            "text/plain": [
              "0.0003145962288904313"
            ]
          },
          "metadata": {},
          "execution_count": 126
        }
      ]
    },
    {
      "cell_type": "code",
      "source": [
        "#Ideal low standard deviation+rmse"
      ],
      "metadata": {
        "id": "00okTDOLDPpp"
      },
      "execution_count": null,
      "outputs": []
    },
    {
      "cell_type": "markdown",
      "source": [
        "# Influence Of Seed\n",
        "\n",
        "Question 5\n",
        "\n",
        "* We used seed 42 for splitting the data. Let's find out how selecting the seed influences our score.\n",
        "* Try different seed values: [0, 1, 2, 3, 4, 5, 6, 7, 8, 9].\n",
        "* For each seed, do the train/validation/test split with 60%/20%/20% distribution.\n",
        "* Fill the missing values with 0 and train a model without regularization.\n",
        "* For each seed, evaluate the model on the validation dataset and collect the RMSE scores.\n",
        "* What's the standard deviation of all the scores? To compute the standard deviation, use np.std.\n",
        "* Round the result to 3 decimal digits (round(std, 3))"
      ],
      "metadata": {
        "id": "unSMPqWs0zr9"
      }
    },
    {
      "cell_type": "code",
      "source": [
        "def Train_Linear_Regression_Without_Reg(Xi,y):\n",
        "  ones=np.ones(Xi.shape[0])\n",
        "  X=np.column_stack([ones,Xi])\n",
        "\n",
        "  XTX=X.T.dot(X)\n",
        "  XTX_inv=np.linalg.inv(XTX)\n",
        "  w_full=XTX_inv.dot(X.T).dot(y)\n",
        "\n",
        "  return w_full[0],w_full[1:]"
      ],
      "metadata": {
        "id": "73Stt7Ri-xTk"
      },
      "execution_count": 89,
      "outputs": []
    },
    {
      "cell_type": "code",
      "source": [
        "df.head()"
      ],
      "metadata": {
        "colab": {
          "base_uri": "https://localhost:8080/",
          "height": 295
        },
        "id": "UyMlq2sE1Q8h",
        "outputId": "d5f1489c-069d-4382-8854-40d728b0e04f"
      },
      "execution_count": 90,
      "outputs": [
        {
          "output_type": "execute_result",
          "data": {
            "text/plain": [
              "                                              laptop status   brand  \\\n",
              "0  asus_expertbook_b1_b1502cba-ej0436x_intel_core...    new    asus   \n",
              "1  alurin_go_start_intel_celeron_n4020/8gb/256gb_...    new  alurin   \n",
              "2  asus_expertbook_b1_b1502cba-ej0424x_intel_core...    new    asus   \n",
              "3  msi_katana_gf66_12uc-082xes_intel_core_i7-1270...    new     msi   \n",
              "4  hp_15s-fq5085ns_intel_core_i5-1235u/16gb/512gb...    new      hp   \n",
              "\n",
              "        model            cpu  ram  storage storage_type       gpu  screen  \\\n",
              "0  expertbook  intel_core_i5    8      512          ssd       NaN    15.6   \n",
              "1          go  intel_celeron    8      256          ssd       NaN    15.6   \n",
              "2  expertbook  intel_core_i3    8      256          ssd       NaN    15.6   \n",
              "3      katana  intel_core_i7   16     1000          ssd  rtx_3050    15.6   \n",
              "4         15s  intel_core_i5   16      512          ssd       NaN    15.6   \n",
              "\n",
              "  touch  final_price  \n",
              "0    no      1009.00  \n",
              "1    no       299.00  \n",
              "2    no       789.00  \n",
              "3    no      1199.00  \n",
              "4    no       669.01  "
            ],
            "text/html": [
              "\n",
              "  <div id=\"df-9ce7c5ef-2ca1-4dca-ba16-5f90e2dcc8d4\" class=\"colab-df-container\">\n",
              "    <div>\n",
              "<style scoped>\n",
              "    .dataframe tbody tr th:only-of-type {\n",
              "        vertical-align: middle;\n",
              "    }\n",
              "\n",
              "    .dataframe tbody tr th {\n",
              "        vertical-align: top;\n",
              "    }\n",
              "\n",
              "    .dataframe thead th {\n",
              "        text-align: right;\n",
              "    }\n",
              "</style>\n",
              "<table border=\"1\" class=\"dataframe\">\n",
              "  <thead>\n",
              "    <tr style=\"text-align: right;\">\n",
              "      <th></th>\n",
              "      <th>laptop</th>\n",
              "      <th>status</th>\n",
              "      <th>brand</th>\n",
              "      <th>model</th>\n",
              "      <th>cpu</th>\n",
              "      <th>ram</th>\n",
              "      <th>storage</th>\n",
              "      <th>storage_type</th>\n",
              "      <th>gpu</th>\n",
              "      <th>screen</th>\n",
              "      <th>touch</th>\n",
              "      <th>final_price</th>\n",
              "    </tr>\n",
              "  </thead>\n",
              "  <tbody>\n",
              "    <tr>\n",
              "      <th>0</th>\n",
              "      <td>asus_expertbook_b1_b1502cba-ej0436x_intel_core...</td>\n",
              "      <td>new</td>\n",
              "      <td>asus</td>\n",
              "      <td>expertbook</td>\n",
              "      <td>intel_core_i5</td>\n",
              "      <td>8</td>\n",
              "      <td>512</td>\n",
              "      <td>ssd</td>\n",
              "      <td>NaN</td>\n",
              "      <td>15.6</td>\n",
              "      <td>no</td>\n",
              "      <td>1009.00</td>\n",
              "    </tr>\n",
              "    <tr>\n",
              "      <th>1</th>\n",
              "      <td>alurin_go_start_intel_celeron_n4020/8gb/256gb_...</td>\n",
              "      <td>new</td>\n",
              "      <td>alurin</td>\n",
              "      <td>go</td>\n",
              "      <td>intel_celeron</td>\n",
              "      <td>8</td>\n",
              "      <td>256</td>\n",
              "      <td>ssd</td>\n",
              "      <td>NaN</td>\n",
              "      <td>15.6</td>\n",
              "      <td>no</td>\n",
              "      <td>299.00</td>\n",
              "    </tr>\n",
              "    <tr>\n",
              "      <th>2</th>\n",
              "      <td>asus_expertbook_b1_b1502cba-ej0424x_intel_core...</td>\n",
              "      <td>new</td>\n",
              "      <td>asus</td>\n",
              "      <td>expertbook</td>\n",
              "      <td>intel_core_i3</td>\n",
              "      <td>8</td>\n",
              "      <td>256</td>\n",
              "      <td>ssd</td>\n",
              "      <td>NaN</td>\n",
              "      <td>15.6</td>\n",
              "      <td>no</td>\n",
              "      <td>789.00</td>\n",
              "    </tr>\n",
              "    <tr>\n",
              "      <th>3</th>\n",
              "      <td>msi_katana_gf66_12uc-082xes_intel_core_i7-1270...</td>\n",
              "      <td>new</td>\n",
              "      <td>msi</td>\n",
              "      <td>katana</td>\n",
              "      <td>intel_core_i7</td>\n",
              "      <td>16</td>\n",
              "      <td>1000</td>\n",
              "      <td>ssd</td>\n",
              "      <td>rtx_3050</td>\n",
              "      <td>15.6</td>\n",
              "      <td>no</td>\n",
              "      <td>1199.00</td>\n",
              "    </tr>\n",
              "    <tr>\n",
              "      <th>4</th>\n",
              "      <td>hp_15s-fq5085ns_intel_core_i5-1235u/16gb/512gb...</td>\n",
              "      <td>new</td>\n",
              "      <td>hp</td>\n",
              "      <td>15s</td>\n",
              "      <td>intel_core_i5</td>\n",
              "      <td>16</td>\n",
              "      <td>512</td>\n",
              "      <td>ssd</td>\n",
              "      <td>NaN</td>\n",
              "      <td>15.6</td>\n",
              "      <td>no</td>\n",
              "      <td>669.01</td>\n",
              "    </tr>\n",
              "  </tbody>\n",
              "</table>\n",
              "</div>\n",
              "    <div class=\"colab-df-buttons\">\n",
              "\n",
              "  <div class=\"colab-df-container\">\n",
              "    <button class=\"colab-df-convert\" onclick=\"convertToInteractive('df-9ce7c5ef-2ca1-4dca-ba16-5f90e2dcc8d4')\"\n",
              "            title=\"Convert this dataframe to an interactive table.\"\n",
              "            style=\"display:none;\">\n",
              "\n",
              "  <svg xmlns=\"http://www.w3.org/2000/svg\" height=\"24px\" viewBox=\"0 -960 960 960\">\n",
              "    <path d=\"M120-120v-720h720v720H120Zm60-500h600v-160H180v160Zm220 220h160v-160H400v160Zm0 220h160v-160H400v160ZM180-400h160v-160H180v160Zm440 0h160v-160H620v160ZM180-180h160v-160H180v160Zm440 0h160v-160H620v160Z\"/>\n",
              "  </svg>\n",
              "    </button>\n",
              "\n",
              "  <style>\n",
              "    .colab-df-container {\n",
              "      display:flex;\n",
              "      gap: 12px;\n",
              "    }\n",
              "\n",
              "    .colab-df-convert {\n",
              "      background-color: #E8F0FE;\n",
              "      border: none;\n",
              "      border-radius: 50%;\n",
              "      cursor: pointer;\n",
              "      display: none;\n",
              "      fill: #1967D2;\n",
              "      height: 32px;\n",
              "      padding: 0 0 0 0;\n",
              "      width: 32px;\n",
              "    }\n",
              "\n",
              "    .colab-df-convert:hover {\n",
              "      background-color: #E2EBFA;\n",
              "      box-shadow: 0px 1px 2px rgba(60, 64, 67, 0.3), 0px 1px 3px 1px rgba(60, 64, 67, 0.15);\n",
              "      fill: #174EA6;\n",
              "    }\n",
              "\n",
              "    .colab-df-buttons div {\n",
              "      margin-bottom: 4px;\n",
              "    }\n",
              "\n",
              "    [theme=dark] .colab-df-convert {\n",
              "      background-color: #3B4455;\n",
              "      fill: #D2E3FC;\n",
              "    }\n",
              "\n",
              "    [theme=dark] .colab-df-convert:hover {\n",
              "      background-color: #434B5C;\n",
              "      box-shadow: 0px 1px 3px 1px rgba(0, 0, 0, 0.15);\n",
              "      filter: drop-shadow(0px 1px 2px rgba(0, 0, 0, 0.3));\n",
              "      fill: #FFFFFF;\n",
              "    }\n",
              "  </style>\n",
              "\n",
              "    <script>\n",
              "      const buttonEl =\n",
              "        document.querySelector('#df-9ce7c5ef-2ca1-4dca-ba16-5f90e2dcc8d4 button.colab-df-convert');\n",
              "      buttonEl.style.display =\n",
              "        google.colab.kernel.accessAllowed ? 'block' : 'none';\n",
              "\n",
              "      async function convertToInteractive(key) {\n",
              "        const element = document.querySelector('#df-9ce7c5ef-2ca1-4dca-ba16-5f90e2dcc8d4');\n",
              "        const dataTable =\n",
              "          await google.colab.kernel.invokeFunction('convertToInteractive',\n",
              "                                                    [key], {});\n",
              "        if (!dataTable) return;\n",
              "\n",
              "        const docLinkHtml = 'Like what you see? Visit the ' +\n",
              "          '<a target=\"_blank\" href=https://colab.research.google.com/notebooks/data_table.ipynb>data table notebook</a>'\n",
              "          + ' to learn more about interactive tables.';\n",
              "        element.innerHTML = '';\n",
              "        dataTable['output_type'] = 'display_data';\n",
              "        await google.colab.output.renderOutput(dataTable, element);\n",
              "        const docLink = document.createElement('div');\n",
              "        docLink.innerHTML = docLinkHtml;\n",
              "        element.appendChild(docLink);\n",
              "      }\n",
              "    </script>\n",
              "  </div>\n",
              "\n",
              "\n",
              "<div id=\"df-f8c5d0be-d3cf-46ca-9a4e-79a8ae026b71\">\n",
              "  <button class=\"colab-df-quickchart\" onclick=\"quickchart('df-f8c5d0be-d3cf-46ca-9a4e-79a8ae026b71')\"\n",
              "            title=\"Suggest charts\"\n",
              "            style=\"display:none;\">\n",
              "\n",
              "<svg xmlns=\"http://www.w3.org/2000/svg\" height=\"24px\"viewBox=\"0 0 24 24\"\n",
              "     width=\"24px\">\n",
              "    <g>\n",
              "        <path d=\"M19 3H5c-1.1 0-2 .9-2 2v14c0 1.1.9 2 2 2h14c1.1 0 2-.9 2-2V5c0-1.1-.9-2-2-2zM9 17H7v-7h2v7zm4 0h-2V7h2v10zm4 0h-2v-4h2v4z\"/>\n",
              "    </g>\n",
              "</svg>\n",
              "  </button>\n",
              "\n",
              "<style>\n",
              "  .colab-df-quickchart {\n",
              "      --bg-color: #E8F0FE;\n",
              "      --fill-color: #1967D2;\n",
              "      --hover-bg-color: #E2EBFA;\n",
              "      --hover-fill-color: #174EA6;\n",
              "      --disabled-fill-color: #AAA;\n",
              "      --disabled-bg-color: #DDD;\n",
              "  }\n",
              "\n",
              "  [theme=dark] .colab-df-quickchart {\n",
              "      --bg-color: #3B4455;\n",
              "      --fill-color: #D2E3FC;\n",
              "      --hover-bg-color: #434B5C;\n",
              "      --hover-fill-color: #FFFFFF;\n",
              "      --disabled-bg-color: #3B4455;\n",
              "      --disabled-fill-color: #666;\n",
              "  }\n",
              "\n",
              "  .colab-df-quickchart {\n",
              "    background-color: var(--bg-color);\n",
              "    border: none;\n",
              "    border-radius: 50%;\n",
              "    cursor: pointer;\n",
              "    display: none;\n",
              "    fill: var(--fill-color);\n",
              "    height: 32px;\n",
              "    padding: 0;\n",
              "    width: 32px;\n",
              "  }\n",
              "\n",
              "  .colab-df-quickchart:hover {\n",
              "    background-color: var(--hover-bg-color);\n",
              "    box-shadow: 0 1px 2px rgba(60, 64, 67, 0.3), 0 1px 3px 1px rgba(60, 64, 67, 0.15);\n",
              "    fill: var(--button-hover-fill-color);\n",
              "  }\n",
              "\n",
              "  .colab-df-quickchart-complete:disabled,\n",
              "  .colab-df-quickchart-complete:disabled:hover {\n",
              "    background-color: var(--disabled-bg-color);\n",
              "    fill: var(--disabled-fill-color);\n",
              "    box-shadow: none;\n",
              "  }\n",
              "\n",
              "  .colab-df-spinner {\n",
              "    border: 2px solid var(--fill-color);\n",
              "    border-color: transparent;\n",
              "    border-bottom-color: var(--fill-color);\n",
              "    animation:\n",
              "      spin 1s steps(1) infinite;\n",
              "  }\n",
              "\n",
              "  @keyframes spin {\n",
              "    0% {\n",
              "      border-color: transparent;\n",
              "      border-bottom-color: var(--fill-color);\n",
              "      border-left-color: var(--fill-color);\n",
              "    }\n",
              "    20% {\n",
              "      border-color: transparent;\n",
              "      border-left-color: var(--fill-color);\n",
              "      border-top-color: var(--fill-color);\n",
              "    }\n",
              "    30% {\n",
              "      border-color: transparent;\n",
              "      border-left-color: var(--fill-color);\n",
              "      border-top-color: var(--fill-color);\n",
              "      border-right-color: var(--fill-color);\n",
              "    }\n",
              "    40% {\n",
              "      border-color: transparent;\n",
              "      border-right-color: var(--fill-color);\n",
              "      border-top-color: var(--fill-color);\n",
              "    }\n",
              "    60% {\n",
              "      border-color: transparent;\n",
              "      border-right-color: var(--fill-color);\n",
              "    }\n",
              "    80% {\n",
              "      border-color: transparent;\n",
              "      border-right-color: var(--fill-color);\n",
              "      border-bottom-color: var(--fill-color);\n",
              "    }\n",
              "    90% {\n",
              "      border-color: transparent;\n",
              "      border-bottom-color: var(--fill-color);\n",
              "    }\n",
              "  }\n",
              "</style>\n",
              "\n",
              "  <script>\n",
              "    async function quickchart(key) {\n",
              "      const quickchartButtonEl =\n",
              "        document.querySelector('#' + key + ' button');\n",
              "      quickchartButtonEl.disabled = true;  // To prevent multiple clicks.\n",
              "      quickchartButtonEl.classList.add('colab-df-spinner');\n",
              "      try {\n",
              "        const charts = await google.colab.kernel.invokeFunction(\n",
              "            'suggestCharts', [key], {});\n",
              "      } catch (error) {\n",
              "        console.error('Error during call to suggestCharts:', error);\n",
              "      }\n",
              "      quickchartButtonEl.classList.remove('colab-df-spinner');\n",
              "      quickchartButtonEl.classList.add('colab-df-quickchart-complete');\n",
              "    }\n",
              "    (() => {\n",
              "      let quickchartButtonEl =\n",
              "        document.querySelector('#df-f8c5d0be-d3cf-46ca-9a4e-79a8ae026b71 button');\n",
              "      quickchartButtonEl.style.display =\n",
              "        google.colab.kernel.accessAllowed ? 'block' : 'none';\n",
              "    })();\n",
              "  </script>\n",
              "</div>\n",
              "\n",
              "    </div>\n",
              "  </div>\n"
            ],
            "application/vnd.google.colaboratory.intrinsic+json": {
              "type": "dataframe",
              "variable_name": "df",
              "summary": "{\n  \"name\": \"df\",\n  \"rows\": 2160,\n  \"fields\": [\n    {\n      \"column\": \"laptop\",\n      \"properties\": {\n        \"dtype\": \"string\",\n        \"num_unique_values\": 2160,\n        \"samples\": [\n          \"msi_modern_15_a11sbu-620xes_intel_core_i7-1165g7/32gb/1tb_ssd/mx450/15.6\\\"\",\n          \"thomson_neo_white_intel_celeron_n4020/4gb/64gb_emmc/14.1\\\"\",\n          \"msi_modern_14_b11sb-420xes_intel_core_i7-1165g7/32gb/1tb_ssd/mx450/14\\\"\"\n        ],\n        \"semantic_type\": \"\",\n        \"description\": \"\"\n      }\n    },\n    {\n      \"column\": \"status\",\n      \"properties\": {\n        \"dtype\": \"category\",\n        \"num_unique_values\": 2,\n        \"samples\": [\n          \"refurbished\",\n          \"new\"\n        ],\n        \"semantic_type\": \"\",\n        \"description\": \"\"\n      }\n    },\n    {\n      \"column\": \"brand\",\n      \"properties\": {\n        \"dtype\": \"category\",\n        \"num_unique_values\": 27,\n        \"samples\": [\n          \"razer\",\n          \"pccom\"\n        ],\n        \"semantic_type\": \"\",\n        \"description\": \"\"\n      }\n    },\n    {\n      \"column\": \"model\",\n      \"properties\": {\n        \"dtype\": \"category\",\n        \"num_unique_values\": 121,\n        \"samples\": [\n          \"aero\",\n          \"erazer\"\n        ],\n        \"semantic_type\": \"\",\n        \"description\": \"\"\n      }\n    },\n    {\n      \"column\": \"cpu\",\n      \"properties\": {\n        \"dtype\": \"category\",\n        \"num_unique_values\": 28,\n        \"samples\": [\n          \"apple_m2\",\n          \"amd_3015ce\"\n        ],\n        \"semantic_type\": \"\",\n        \"description\": \"\"\n      }\n    },\n    {\n      \"column\": \"ram\",\n      \"properties\": {\n        \"dtype\": \"number\",\n        \"std\": 9,\n        \"min\": 4,\n        \"max\": 128,\n        \"num_unique_values\": 9,\n        \"samples\": [\n          6,\n          16\n        ],\n        \"semantic_type\": \"\",\n        \"description\": \"\"\n      }\n    },\n    {\n      \"column\": \"storage\",\n      \"properties\": {\n        \"dtype\": \"number\",\n        \"std\": 361,\n        \"min\": 0,\n        \"max\": 4000,\n        \"num_unique_values\": 12,\n        \"samples\": [\n          3000,\n          4000\n        ],\n        \"semantic_type\": \"\",\n        \"description\": \"\"\n      }\n    },\n    {\n      \"column\": \"storage_type\",\n      \"properties\": {\n        \"dtype\": \"category\",\n        \"num_unique_values\": 2,\n        \"samples\": [\n          \"emmc\",\n          \"ssd\"\n        ],\n        \"semantic_type\": \"\",\n        \"description\": \"\"\n      }\n    },\n    {\n      \"column\": \"gpu\",\n      \"properties\": {\n        \"dtype\": \"category\",\n        \"num_unique_values\": 44,\n        \"samples\": [\n          \"rtx_2080\",\n          \"radeon_pro_5500m\"\n        ],\n        \"semantic_type\": \"\",\n        \"description\": \"\"\n      }\n    },\n    {\n      \"column\": \"screen\",\n      \"properties\": {\n        \"dtype\": \"number\",\n        \"std\": 1.203328758328451,\n        \"min\": 10.1,\n        \"max\": 18.0,\n        \"num_unique_values\": 29,\n        \"samples\": [\n          12.0,\n          16.2\n        ],\n        \"semantic_type\": \"\",\n        \"description\": \"\"\n      }\n    },\n    {\n      \"column\": \"touch\",\n      \"properties\": {\n        \"dtype\": \"category\",\n        \"num_unique_values\": 2,\n        \"samples\": [\n          \"yes\",\n          \"no\"\n        ],\n        \"semantic_type\": \"\",\n        \"description\": \"\"\n      }\n    },\n    {\n      \"column\": \"final_price\",\n      \"properties\": {\n        \"dtype\": \"number\",\n        \"std\": 911.4754170328499,\n        \"min\": 201.05,\n        \"max\": 7150.47,\n        \"num_unique_values\": 1440,\n        \"samples\": [\n          3599.0,\n          1799.9\n        ],\n        \"semantic_type\": \"\",\n        \"description\": \"\"\n      }\n    }\n  ]\n}"
            }
          },
          "metadata": {},
          "execution_count": 90
        }
      ]
    },
    {
      "cell_type": "code",
      "source": [
        "def Prepare_X(df):\n",
        "  df=df.fillna(0)\n",
        "  X=df.values\n",
        "  return X"
      ],
      "metadata": {
        "id": "aJtu_EZh1KWO"
      },
      "execution_count": 100,
      "outputs": []
    },
    {
      "cell_type": "code",
      "source": [
        "Train_Linear_Regression"
      ],
      "metadata": {
        "colab": {
          "base_uri": "https://localhost:8080/",
          "height": 103
        },
        "id": "m5KsK5OU4S2v",
        "outputId": "392c8189-bc4e-48db-a6c3-53f676631b25"
      },
      "execution_count": 92,
      "outputs": [
        {
          "output_type": "execute_result",
          "data": {
            "text/plain": [
              "<function __main__.Train_Linear_Regression(Xi, y, r)>"
            ],
            "text/html": [
              "<div style=\"max-width:800px; border: 1px solid var(--colab-border-color);\"><style>\n",
              "      pre.function-repr-contents {\n",
              "        overflow-x: auto;\n",
              "        padding: 8px 12px;\n",
              "        max-height: 500px;\n",
              "      }\n",
              "\n",
              "      pre.function-repr-contents.function-repr-contents-collapsed {\n",
              "        cursor: pointer;\n",
              "        max-height: 100px;\n",
              "      }\n",
              "    </style>\n",
              "    <pre style=\"white-space: initial; background:\n",
              "         var(--colab-secondary-surface-color); padding: 8px 12px;\n",
              "         border-bottom: 1px solid var(--colab-border-color);\"><b>Train_Linear_Regression</b><br/>def Train_Linear_Regression(Xi, y, r)</pre><pre class=\"function-repr-contents function-repr-contents-collapsed\" style=\"\"><a class=\"filepath\" style=\"display:none\" href=\"#\">/content/&lt;ipython-input-55-e47291d84e2f&gt;</a>&lt;no docstring&gt;</pre></div>"
            ]
          },
          "metadata": {},
          "execution_count": 92
        }
      ]
    },
    {
      "cell_type": "markdown",
      "source": [
        "```\n",
        "How to fill missing values\n",
        "\n",
        "First: Split your data into train, validation, and test sets.\n",
        "Second: Use the training data to fill missing values.\n",
        "Finally: Apply the same imputation technique (based on training data) to the validation and test sets to prevent data leakage.\n",
        "\n",
        "Fill missing values in the test set, but only using information from the training set. The key principle is that you should not use the test set to inform your data preprocessing. This ensures the integrity of your test set and prevents data leakage.\n",
        "\n",
        "\n",
        "\n",
        "```"
      ],
      "metadata": {
        "id": "uRlTnWGR3mPF"
      }
    },
    {
      "cell_type": "code",
      "source": [
        "features\n",
        "features.append('final_price')"
      ],
      "metadata": {
        "id": "fyHBdHIk8Vsl"
      },
      "execution_count": 99,
      "outputs": []
    },
    {
      "cell_type": "code",
      "source": [
        "\n",
        "df.head(3)"
      ],
      "metadata": {
        "colab": {
          "base_uri": "https://localhost:8080/",
          "height": 198
        },
        "id": "DMLoiNus9sZ-",
        "outputId": "d17a4a2f-14eb-46be-a4a2-52243c34e094"
      },
      "execution_count": 94,
      "outputs": [
        {
          "output_type": "execute_result",
          "data": {
            "text/plain": [
              "                                              laptop status   brand  \\\n",
              "0  asus_expertbook_b1_b1502cba-ej0436x_intel_core...    new    asus   \n",
              "1  alurin_go_start_intel_celeron_n4020/8gb/256gb_...    new  alurin   \n",
              "2  asus_expertbook_b1_b1502cba-ej0424x_intel_core...    new    asus   \n",
              "\n",
              "        model            cpu  ram  storage storage_type  gpu  screen touch  \\\n",
              "0  expertbook  intel_core_i5    8      512          ssd  NaN    15.6    no   \n",
              "1          go  intel_celeron    8      256          ssd  NaN    15.6    no   \n",
              "2  expertbook  intel_core_i3    8      256          ssd  NaN    15.6    no   \n",
              "\n",
              "   final_price  \n",
              "0       1009.0  \n",
              "1        299.0  \n",
              "2        789.0  "
            ],
            "text/html": [
              "\n",
              "  <div id=\"df-029ce972-3015-4fc2-8794-34412ae8f912\" class=\"colab-df-container\">\n",
              "    <div>\n",
              "<style scoped>\n",
              "    .dataframe tbody tr th:only-of-type {\n",
              "        vertical-align: middle;\n",
              "    }\n",
              "\n",
              "    .dataframe tbody tr th {\n",
              "        vertical-align: top;\n",
              "    }\n",
              "\n",
              "    .dataframe thead th {\n",
              "        text-align: right;\n",
              "    }\n",
              "</style>\n",
              "<table border=\"1\" class=\"dataframe\">\n",
              "  <thead>\n",
              "    <tr style=\"text-align: right;\">\n",
              "      <th></th>\n",
              "      <th>laptop</th>\n",
              "      <th>status</th>\n",
              "      <th>brand</th>\n",
              "      <th>model</th>\n",
              "      <th>cpu</th>\n",
              "      <th>ram</th>\n",
              "      <th>storage</th>\n",
              "      <th>storage_type</th>\n",
              "      <th>gpu</th>\n",
              "      <th>screen</th>\n",
              "      <th>touch</th>\n",
              "      <th>final_price</th>\n",
              "    </tr>\n",
              "  </thead>\n",
              "  <tbody>\n",
              "    <tr>\n",
              "      <th>0</th>\n",
              "      <td>asus_expertbook_b1_b1502cba-ej0436x_intel_core...</td>\n",
              "      <td>new</td>\n",
              "      <td>asus</td>\n",
              "      <td>expertbook</td>\n",
              "      <td>intel_core_i5</td>\n",
              "      <td>8</td>\n",
              "      <td>512</td>\n",
              "      <td>ssd</td>\n",
              "      <td>NaN</td>\n",
              "      <td>15.6</td>\n",
              "      <td>no</td>\n",
              "      <td>1009.0</td>\n",
              "    </tr>\n",
              "    <tr>\n",
              "      <th>1</th>\n",
              "      <td>alurin_go_start_intel_celeron_n4020/8gb/256gb_...</td>\n",
              "      <td>new</td>\n",
              "      <td>alurin</td>\n",
              "      <td>go</td>\n",
              "      <td>intel_celeron</td>\n",
              "      <td>8</td>\n",
              "      <td>256</td>\n",
              "      <td>ssd</td>\n",
              "      <td>NaN</td>\n",
              "      <td>15.6</td>\n",
              "      <td>no</td>\n",
              "      <td>299.0</td>\n",
              "    </tr>\n",
              "    <tr>\n",
              "      <th>2</th>\n",
              "      <td>asus_expertbook_b1_b1502cba-ej0424x_intel_core...</td>\n",
              "      <td>new</td>\n",
              "      <td>asus</td>\n",
              "      <td>expertbook</td>\n",
              "      <td>intel_core_i3</td>\n",
              "      <td>8</td>\n",
              "      <td>256</td>\n",
              "      <td>ssd</td>\n",
              "      <td>NaN</td>\n",
              "      <td>15.6</td>\n",
              "      <td>no</td>\n",
              "      <td>789.0</td>\n",
              "    </tr>\n",
              "  </tbody>\n",
              "</table>\n",
              "</div>\n",
              "    <div class=\"colab-df-buttons\">\n",
              "\n",
              "  <div class=\"colab-df-container\">\n",
              "    <button class=\"colab-df-convert\" onclick=\"convertToInteractive('df-029ce972-3015-4fc2-8794-34412ae8f912')\"\n",
              "            title=\"Convert this dataframe to an interactive table.\"\n",
              "            style=\"display:none;\">\n",
              "\n",
              "  <svg xmlns=\"http://www.w3.org/2000/svg\" height=\"24px\" viewBox=\"0 -960 960 960\">\n",
              "    <path d=\"M120-120v-720h720v720H120Zm60-500h600v-160H180v160Zm220 220h160v-160H400v160Zm0 220h160v-160H400v160ZM180-400h160v-160H180v160Zm440 0h160v-160H620v160ZM180-180h160v-160H180v160Zm440 0h160v-160H620v160Z\"/>\n",
              "  </svg>\n",
              "    </button>\n",
              "\n",
              "  <style>\n",
              "    .colab-df-container {\n",
              "      display:flex;\n",
              "      gap: 12px;\n",
              "    }\n",
              "\n",
              "    .colab-df-convert {\n",
              "      background-color: #E8F0FE;\n",
              "      border: none;\n",
              "      border-radius: 50%;\n",
              "      cursor: pointer;\n",
              "      display: none;\n",
              "      fill: #1967D2;\n",
              "      height: 32px;\n",
              "      padding: 0 0 0 0;\n",
              "      width: 32px;\n",
              "    }\n",
              "\n",
              "    .colab-df-convert:hover {\n",
              "      background-color: #E2EBFA;\n",
              "      box-shadow: 0px 1px 2px rgba(60, 64, 67, 0.3), 0px 1px 3px 1px rgba(60, 64, 67, 0.15);\n",
              "      fill: #174EA6;\n",
              "    }\n",
              "\n",
              "    .colab-df-buttons div {\n",
              "      margin-bottom: 4px;\n",
              "    }\n",
              "\n",
              "    [theme=dark] .colab-df-convert {\n",
              "      background-color: #3B4455;\n",
              "      fill: #D2E3FC;\n",
              "    }\n",
              "\n",
              "    [theme=dark] .colab-df-convert:hover {\n",
              "      background-color: #434B5C;\n",
              "      box-shadow: 0px 1px 3px 1px rgba(0, 0, 0, 0.15);\n",
              "      filter: drop-shadow(0px 1px 2px rgba(0, 0, 0, 0.3));\n",
              "      fill: #FFFFFF;\n",
              "    }\n",
              "  </style>\n",
              "\n",
              "    <script>\n",
              "      const buttonEl =\n",
              "        document.querySelector('#df-029ce972-3015-4fc2-8794-34412ae8f912 button.colab-df-convert');\n",
              "      buttonEl.style.display =\n",
              "        google.colab.kernel.accessAllowed ? 'block' : 'none';\n",
              "\n",
              "      async function convertToInteractive(key) {\n",
              "        const element = document.querySelector('#df-029ce972-3015-4fc2-8794-34412ae8f912');\n",
              "        const dataTable =\n",
              "          await google.colab.kernel.invokeFunction('convertToInteractive',\n",
              "                                                    [key], {});\n",
              "        if (!dataTable) return;\n",
              "\n",
              "        const docLinkHtml = 'Like what you see? Visit the ' +\n",
              "          '<a target=\"_blank\" href=https://colab.research.google.com/notebooks/data_table.ipynb>data table notebook</a>'\n",
              "          + ' to learn more about interactive tables.';\n",
              "        element.innerHTML = '';\n",
              "        dataTable['output_type'] = 'display_data';\n",
              "        await google.colab.output.renderOutput(dataTable, element);\n",
              "        const docLink = document.createElement('div');\n",
              "        docLink.innerHTML = docLinkHtml;\n",
              "        element.appendChild(docLink);\n",
              "      }\n",
              "    </script>\n",
              "  </div>\n",
              "\n",
              "\n",
              "<div id=\"df-d671dcc8-ebb5-4aa6-af7f-3607e79f7868\">\n",
              "  <button class=\"colab-df-quickchart\" onclick=\"quickchart('df-d671dcc8-ebb5-4aa6-af7f-3607e79f7868')\"\n",
              "            title=\"Suggest charts\"\n",
              "            style=\"display:none;\">\n",
              "\n",
              "<svg xmlns=\"http://www.w3.org/2000/svg\" height=\"24px\"viewBox=\"0 0 24 24\"\n",
              "     width=\"24px\">\n",
              "    <g>\n",
              "        <path d=\"M19 3H5c-1.1 0-2 .9-2 2v14c0 1.1.9 2 2 2h14c1.1 0 2-.9 2-2V5c0-1.1-.9-2-2-2zM9 17H7v-7h2v7zm4 0h-2V7h2v10zm4 0h-2v-4h2v4z\"/>\n",
              "    </g>\n",
              "</svg>\n",
              "  </button>\n",
              "\n",
              "<style>\n",
              "  .colab-df-quickchart {\n",
              "      --bg-color: #E8F0FE;\n",
              "      --fill-color: #1967D2;\n",
              "      --hover-bg-color: #E2EBFA;\n",
              "      --hover-fill-color: #174EA6;\n",
              "      --disabled-fill-color: #AAA;\n",
              "      --disabled-bg-color: #DDD;\n",
              "  }\n",
              "\n",
              "  [theme=dark] .colab-df-quickchart {\n",
              "      --bg-color: #3B4455;\n",
              "      --fill-color: #D2E3FC;\n",
              "      --hover-bg-color: #434B5C;\n",
              "      --hover-fill-color: #FFFFFF;\n",
              "      --disabled-bg-color: #3B4455;\n",
              "      --disabled-fill-color: #666;\n",
              "  }\n",
              "\n",
              "  .colab-df-quickchart {\n",
              "    background-color: var(--bg-color);\n",
              "    border: none;\n",
              "    border-radius: 50%;\n",
              "    cursor: pointer;\n",
              "    display: none;\n",
              "    fill: var(--fill-color);\n",
              "    height: 32px;\n",
              "    padding: 0;\n",
              "    width: 32px;\n",
              "  }\n",
              "\n",
              "  .colab-df-quickchart:hover {\n",
              "    background-color: var(--hover-bg-color);\n",
              "    box-shadow: 0 1px 2px rgba(60, 64, 67, 0.3), 0 1px 3px 1px rgba(60, 64, 67, 0.15);\n",
              "    fill: var(--button-hover-fill-color);\n",
              "  }\n",
              "\n",
              "  .colab-df-quickchart-complete:disabled,\n",
              "  .colab-df-quickchart-complete:disabled:hover {\n",
              "    background-color: var(--disabled-bg-color);\n",
              "    fill: var(--disabled-fill-color);\n",
              "    box-shadow: none;\n",
              "  }\n",
              "\n",
              "  .colab-df-spinner {\n",
              "    border: 2px solid var(--fill-color);\n",
              "    border-color: transparent;\n",
              "    border-bottom-color: var(--fill-color);\n",
              "    animation:\n",
              "      spin 1s steps(1) infinite;\n",
              "  }\n",
              "\n",
              "  @keyframes spin {\n",
              "    0% {\n",
              "      border-color: transparent;\n",
              "      border-bottom-color: var(--fill-color);\n",
              "      border-left-color: var(--fill-color);\n",
              "    }\n",
              "    20% {\n",
              "      border-color: transparent;\n",
              "      border-left-color: var(--fill-color);\n",
              "      border-top-color: var(--fill-color);\n",
              "    }\n",
              "    30% {\n",
              "      border-color: transparent;\n",
              "      border-left-color: var(--fill-color);\n",
              "      border-top-color: var(--fill-color);\n",
              "      border-right-color: var(--fill-color);\n",
              "    }\n",
              "    40% {\n",
              "      border-color: transparent;\n",
              "      border-right-color: var(--fill-color);\n",
              "      border-top-color: var(--fill-color);\n",
              "    }\n",
              "    60% {\n",
              "      border-color: transparent;\n",
              "      border-right-color: var(--fill-color);\n",
              "    }\n",
              "    80% {\n",
              "      border-color: transparent;\n",
              "      border-right-color: var(--fill-color);\n",
              "      border-bottom-color: var(--fill-color);\n",
              "    }\n",
              "    90% {\n",
              "      border-color: transparent;\n",
              "      border-bottom-color: var(--fill-color);\n",
              "    }\n",
              "  }\n",
              "</style>\n",
              "\n",
              "  <script>\n",
              "    async function quickchart(key) {\n",
              "      const quickchartButtonEl =\n",
              "        document.querySelector('#' + key + ' button');\n",
              "      quickchartButtonEl.disabled = true;  // To prevent multiple clicks.\n",
              "      quickchartButtonEl.classList.add('colab-df-spinner');\n",
              "      try {\n",
              "        const charts = await google.colab.kernel.invokeFunction(\n",
              "            'suggestCharts', [key], {});\n",
              "      } catch (error) {\n",
              "        console.error('Error during call to suggestCharts:', error);\n",
              "      }\n",
              "      quickchartButtonEl.classList.remove('colab-df-spinner');\n",
              "      quickchartButtonEl.classList.add('colab-df-quickchart-complete');\n",
              "    }\n",
              "    (() => {\n",
              "      let quickchartButtonEl =\n",
              "        document.querySelector('#df-d671dcc8-ebb5-4aa6-af7f-3607e79f7868 button');\n",
              "      quickchartButtonEl.style.display =\n",
              "        google.colab.kernel.accessAllowed ? 'block' : 'none';\n",
              "    })();\n",
              "  </script>\n",
              "</div>\n",
              "\n",
              "    </div>\n",
              "  </div>\n"
            ],
            "application/vnd.google.colaboratory.intrinsic+json": {
              "type": "dataframe",
              "variable_name": "df",
              "summary": "{\n  \"name\": \"df\",\n  \"rows\": 2160,\n  \"fields\": [\n    {\n      \"column\": \"laptop\",\n      \"properties\": {\n        \"dtype\": \"string\",\n        \"num_unique_values\": 2160,\n        \"samples\": [\n          \"msi_modern_15_a11sbu-620xes_intel_core_i7-1165g7/32gb/1tb_ssd/mx450/15.6\\\"\",\n          \"thomson_neo_white_intel_celeron_n4020/4gb/64gb_emmc/14.1\\\"\",\n          \"msi_modern_14_b11sb-420xes_intel_core_i7-1165g7/32gb/1tb_ssd/mx450/14\\\"\"\n        ],\n        \"semantic_type\": \"\",\n        \"description\": \"\"\n      }\n    },\n    {\n      \"column\": \"status\",\n      \"properties\": {\n        \"dtype\": \"category\",\n        \"num_unique_values\": 2,\n        \"samples\": [\n          \"refurbished\",\n          \"new\"\n        ],\n        \"semantic_type\": \"\",\n        \"description\": \"\"\n      }\n    },\n    {\n      \"column\": \"brand\",\n      \"properties\": {\n        \"dtype\": \"category\",\n        \"num_unique_values\": 27,\n        \"samples\": [\n          \"razer\",\n          \"pccom\"\n        ],\n        \"semantic_type\": \"\",\n        \"description\": \"\"\n      }\n    },\n    {\n      \"column\": \"model\",\n      \"properties\": {\n        \"dtype\": \"category\",\n        \"num_unique_values\": 121,\n        \"samples\": [\n          \"aero\",\n          \"erazer\"\n        ],\n        \"semantic_type\": \"\",\n        \"description\": \"\"\n      }\n    },\n    {\n      \"column\": \"cpu\",\n      \"properties\": {\n        \"dtype\": \"category\",\n        \"num_unique_values\": 28,\n        \"samples\": [\n          \"apple_m2\",\n          \"amd_3015ce\"\n        ],\n        \"semantic_type\": \"\",\n        \"description\": \"\"\n      }\n    },\n    {\n      \"column\": \"ram\",\n      \"properties\": {\n        \"dtype\": \"number\",\n        \"std\": 9,\n        \"min\": 4,\n        \"max\": 128,\n        \"num_unique_values\": 9,\n        \"samples\": [\n          6,\n          16\n        ],\n        \"semantic_type\": \"\",\n        \"description\": \"\"\n      }\n    },\n    {\n      \"column\": \"storage\",\n      \"properties\": {\n        \"dtype\": \"number\",\n        \"std\": 361,\n        \"min\": 0,\n        \"max\": 4000,\n        \"num_unique_values\": 12,\n        \"samples\": [\n          3000,\n          4000\n        ],\n        \"semantic_type\": \"\",\n        \"description\": \"\"\n      }\n    },\n    {\n      \"column\": \"storage_type\",\n      \"properties\": {\n        \"dtype\": \"category\",\n        \"num_unique_values\": 2,\n        \"samples\": [\n          \"emmc\",\n          \"ssd\"\n        ],\n        \"semantic_type\": \"\",\n        \"description\": \"\"\n      }\n    },\n    {\n      \"column\": \"gpu\",\n      \"properties\": {\n        \"dtype\": \"category\",\n        \"num_unique_values\": 44,\n        \"samples\": [\n          \"rtx_2080\",\n          \"radeon_pro_5500m\"\n        ],\n        \"semantic_type\": \"\",\n        \"description\": \"\"\n      }\n    },\n    {\n      \"column\": \"screen\",\n      \"properties\": {\n        \"dtype\": \"number\",\n        \"std\": 1.203328758328451,\n        \"min\": 10.1,\n        \"max\": 18.0,\n        \"num_unique_values\": 29,\n        \"samples\": [\n          12.0,\n          16.2\n        ],\n        \"semantic_type\": \"\",\n        \"description\": \"\"\n      }\n    },\n    {\n      \"column\": \"touch\",\n      \"properties\": {\n        \"dtype\": \"category\",\n        \"num_unique_values\": 2,\n        \"samples\": [\n          \"yes\",\n          \"no\"\n        ],\n        \"semantic_type\": \"\",\n        \"description\": \"\"\n      }\n    },\n    {\n      \"column\": \"final_price\",\n      \"properties\": {\n        \"dtype\": \"number\",\n        \"std\": 911.4754170328499,\n        \"min\": 201.05,\n        \"max\": 7150.47,\n        \"num_unique_values\": 1440,\n        \"samples\": [\n          3599.0,\n          1799.9\n        ],\n        \"semantic_type\": \"\",\n        \"description\": \"\"\n      }\n    }\n  ]\n}"
            }
          },
          "metadata": {},
          "execution_count": 94
        }
      ]
    },
    {
      "cell_type": "code",
      "source": [],
      "metadata": {
        "id": "bkgHSLJd9u0V"
      },
      "execution_count": 94,
      "outputs": []
    },
    {
      "cell_type": "code",
      "source": [
        "score_track=[None]*10\n",
        "\n",
        "for seed in [0, 1, 2, 3, 4, 5, 6, 7, 8, 9]:\n",
        "  # Shuffle the DataFrame with the current seed\n",
        "  df1=df[features].copy()\n",
        "  df_shuffled = df1.sample(frac=1, random_state=seed).reset_index(drop=True)\n",
        "\n",
        "\n",
        "  # Define the split points\n",
        "  train_size = int(0.6 * len(df_shuffled))  # 60% for training\n",
        "  val_size = int(0.8 * len(df_shuffled))    # 80% for validation\n",
        "\n",
        "  # Split the shuffled DataFrame into train, validation, and test sets\n",
        "  df_train_new = df_shuffled.iloc[:train_size]  # First 60% goes to train\n",
        "  df_val_new = df_shuffled.iloc[train_size:val_size]  # Next 20% goes to validation\n",
        "  df_test_new = df_shuffled.iloc[val_size:]  # Last 20% goes to test\n",
        "\n",
        "  y_train=df_train_new['final_price'].values\n",
        "  y_val=df_val_new['final_price'].values\n",
        "  y_test=df_test_new['final_price'].values\n",
        "\n",
        "  del df_train_new['final_price']\n",
        "  del df_val_new['final_price']\n",
        "  del df_test_new['final_price']\n",
        "\n",
        "  # Getting respective feature matrices\n",
        "  # X_train=np.array(Prepare_X(df_train_new))\n",
        "  # X_val=np.array(Prepare_X(df_val_new))\n",
        "  # X_test=np.array(Prepare_X(df_test_new))\n",
        "\n",
        "  X_train=(Prepare_X(df_train_new))\n",
        "  X_val=(Prepare_X(df_val_new))\n",
        "  X_test=(Prepare_X(df_test_new))\n",
        "\n",
        "\n",
        "\n",
        "\n",
        "  w0,w=Train_Linear_Regression_Without_Reg(X_train,y_train)\n",
        "  y_pred=w0+X_val.dot(w)\n",
        "  score=RMSE(y_val,y_pred)\n",
        "  score_track[seed]=score\n",
        "  print(seed,score)\n",
        "\n",
        "\n",
        "\n"
      ],
      "metadata": {
        "colab": {
          "base_uri": "https://localhost:8080/"
        },
        "id": "2kNggG4Y03CT",
        "outputId": "24692693-3a96-48a7-d2a5-45a47f383e0d"
      },
      "execution_count": 101,
      "outputs": [
        {
          "output_type": "stream",
          "name": "stdout",
          "text": [
            "0 565.4520868770992\n",
            "1 636.7985423056716\n",
            "2 588.9558697907979\n",
            "3 597.8148920012542\n",
            "4 571.9627915111046\n",
            "5 573.2383256618959\n",
            "6 647.3438328407311\n",
            "7 550.4398184485875\n",
            "8 587.333503616987\n",
            "9 576.1017929433077\n"
          ]
        }
      ]
    },
    {
      "cell_type": "code",
      "source": [
        "std=np.std(score_track)\n",
        "print(round(std,3))"
      ],
      "metadata": {
        "colab": {
          "base_uri": "https://localhost:8080/"
        },
        "id": "BHh2aF2H5t03",
        "outputId": "772ae182-f456-4720-a104-fc9f0cb66674"
      },
      "execution_count": 105,
      "outputs": [
        {
          "output_type": "stream",
          "name": "stdout",
          "text": [
            "29.176\n"
          ]
        }
      ]
    },
    {
      "cell_type": "code",
      "source": [
        "#NOTE WE DO NOT APPLY ANY TECHNIQUES FOR LONG TAIL DISTRIBUTION OR FOR REGULARIZATION"
      ],
      "metadata": {
        "id": "YJJiGGqb5ylT"
      },
      "execution_count": 103,
      "outputs": []
    },
    {
      "cell_type": "markdown",
      "source": [
        "```\n",
        "Note: Standard deviation shows how different the values are. If it's low, then all values are approximately the same. If it's high, the values are different. If standard deviation of scores is low, then our model is stable.\n",
        "\n",
        "What is a good standard deviation depends on our problem statement\n",
        "\n",
        "```"
      ],
      "metadata": {
        "id": "AB8KstOm_31j"
      }
    },
    {
      "cell_type": "code",
      "source": [],
      "metadata": {
        "id": "niqc5HiA_uD8"
      },
      "execution_count": null,
      "outputs": []
    },
    {
      "cell_type": "markdown",
      "source": [
        "# Question 6\n",
        "\n",
        "* Split the dataset like previously, use seed 9.\n",
        "* Combine train and validation datasets.\n",
        "* Fill the missing values with 0 and train a model with r=0.001.\n",
        "* What's the RMSE on the test dataset?"
      ],
      "metadata": {
        "id": "GlzTi3KxAGVb"
      }
    },
    {
      "cell_type": "code",
      "source": [
        "df1=df[features].copy()\n",
        "df_shuffled = df1.sample(frac=1, random_state=9).reset_index(drop=True)\n",
        "\n",
        "\n",
        "# Define the split points\n",
        "train_size = int(0.6 * len(df_shuffled))  # 60% for training\n",
        "val_size = int(0.8 * len(df_shuffled))    # 80% for validation\n",
        "\n",
        "# Split the shuffled DataFrame into train, validation, and test sets\n",
        "df_train_new = df_shuffled.iloc[:train_size]  # First 60% goes to train\n",
        "df_val_new = df_shuffled.iloc[train_size:val_size]  # Next 20% goes to validation\n",
        "df_test_new = df_shuffled.iloc[val_size:]  # Last 20% goes to test\n",
        "\n",
        "df_train_val_combined = pd.concat([df_train_new, df_val_new], axis=0) #axis =0 for row wise concatenation\n",
        "\n",
        "\n",
        "y_train=df_train_val_combined['final_price'].values\n",
        "y_test=df_test_new['final_price'].values\n",
        "\n",
        "del df_train_val_combined['final_price']\n",
        "del df_test_new['final_price']\n",
        "\n",
        "# Getting respective feature matrices\n",
        "# X_train=np.array(Prepare_X(df_train_new))\n",
        "# X_val=np.array(Prepare_X(df_val_new))\n",
        "# X_test=np.array(Prepare_X(df_test_new))\n",
        "\n",
        "X_train=(Prepare_X(df_train_val_combined))\n",
        "X_test=(Prepare_X(df_test_new))\n",
        "\n",
        "\n",
        "\n",
        "\n",
        "w0,w=Train_Linear_Regression(X_train,y_train,r=0.001)\n",
        "y_pred=w0+X_test.dot(w)\n",
        "score=RMSE(y_test,y_pred)\n",
        "score_track[seed]=score\n",
        "print(seed,score)\n",
        "\n",
        "\n",
        "\n"
      ],
      "metadata": {
        "colab": {
          "base_uri": "https://localhost:8080/"
        },
        "id": "RVS9EOwwAMtj",
        "outputId": "f9d7d071-42b3-4e45-ca22-6860ae4d85ff"
      },
      "execution_count": 108,
      "outputs": [
        {
          "output_type": "stream",
          "name": "stdout",
          "text": [
            "9 608.6099822049601\n"
          ]
        }
      ]
    },
    {
      "cell_type": "code",
      "source": [],
      "metadata": {
        "id": "VPmkm3nBBNw7"
      },
      "execution_count": null,
      "outputs": []
    }
  ]
}